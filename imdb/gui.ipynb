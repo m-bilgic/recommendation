{
 "cells": [
  {
   "cell_type": "code",
   "execution_count": 1,
   "metadata": {
    "collapsed": true
   },
   "outputs": [],
   "source": [
    "from tkinter import *\n",
    "from tkinter import ttk\n",
    "import tkinter.font as tkFont\n",
    "from tkinter import font"
   ]
  },
  {
   "cell_type": "code",
   "execution_count": 2,
   "metadata": {
    "collapsed": false
   },
   "outputs": [],
   "source": [
    "from movie import Movie"
   ]
  },
  {
   "cell_type": "code",
   "execution_count": 3,
   "metadata": {
    "collapsed": false
   },
   "outputs": [],
   "source": [
    "from parse import parse_imdb_data"
   ]
  },
  {
   "cell_type": "code",
   "execution_count": 4,
   "metadata": {
    "collapsed": true
   },
   "outputs": [],
   "source": [
    "import os\n",
    "import pickle"
   ]
  },
  {
   "cell_type": "code",
   "execution_count": 5,
   "metadata": {
    "collapsed": false
   },
   "outputs": [],
   "source": [
    "if os.path.isfile(\"movies.p\"):\n",
    "    movies = pickle.load(open(\"movies.p\", \"rb\"))\n",
    "else:\n",
    "    movies = parse_imdb_data()\n",
    "    pickle.dump(movies, open( \"movies.p\", \"wb\" ))"
   ]
  },
  {
   "cell_type": "code",
   "execution_count": 43,
   "metadata": {
    "collapsed": false
   },
   "outputs": [
    {
     "data": {
      "text/plain": [
       "8000"
      ]
     },
     "execution_count": 43,
     "metadata": {},
     "output_type": "execute_result"
    }
   ],
   "source": [
    "m_ = movies\n",
    "#m_=list(filter(lambda m: m.year>2000, m_))\n",
    "m_=list(filter(lambda m: m.num_ratings>10000, m_))\n",
    "#m_=list(filter(lambda m: m.mean_rating>8.5, m_))\n",
    "len(m_)"
   ]
  },
  {
   "cell_type": "code",
   "execution_count": 44,
   "metadata": {
    "collapsed": true
   },
   "outputs": [],
   "source": [
    "def sortby(tree, col, descending):\n",
    "    \"\"\"sort tree contents when a column header is clicked on\"\"\"\n",
    "    # grab values to sort\n",
    "    data = [(tree.set(child, col), child) \\\n",
    "        for child in tree.get_children('')]\n",
    "    # if the data to be sorted is numeric change to float\n",
    "    #data =  change_numeric(data)\n",
    "    # now sort the data in place\n",
    "    if(data[0][0].isnumeric()): # FIX: doesn't work for float\n",
    "        data = [(float(d[0]), d[1]) for d in data]\n",
    "    data.sort(reverse=descending)\n",
    "    for ix, item in enumerate(data):\n",
    "        tree.move(item[1], '', ix)\n",
    "    # switch the heading so it will sort in the opposite direction\n",
    "    tree.heading(col, command=lambda col=col: sortby(tree, col, \\\n",
    "        int(not descending)))"
   ]
  },
  {
   "cell_type": "code",
   "execution_count": 45,
   "metadata": {
    "collapsed": false
   },
   "outputs": [],
   "source": [
    "min_year = min_rating_count = min_mean_rating = float('inf')\n",
    "max_year = max_rating_count = max_mean_rating = float('-inf')\n",
    "for m in m_:\n",
    "    min_year = min((min_year, m.year))\n",
    "    max_year = max((max_year, m.year))\n",
    "    min_rating_count = min((min_rating_count, m.num_ratings))\n",
    "    max_rating_count = max((max_rating_count, m.num_ratings))\n",
    "    min_mean_rating = min((min_mean_rating, m.mean_rating))\n",
    "    max_mean_rating = max((max_mean_rating, m.mean_rating))    "
   ]
  },
  {
   "cell_type": "code",
   "execution_count": 46,
   "metadata": {
    "collapsed": true
   },
   "outputs": [],
   "source": [
    "if os.path.isfile(\"ratings.p\"):\n",
    "    ratings = pickle.load(open(\"ratings.p\", \"rb\"))\n",
    "else:\n",
    "    ratings = {}"
   ]
  },
  {
   "cell_type": "code",
   "execution_count": 152,
   "metadata": {
    "collapsed": false
   },
   "outputs": [],
   "source": [
    "root = Tk()\n",
    "root.title(\"IMDB MOVIE RECOMMENDER SYSTEM\")\n",
    "\n",
    "mainframe = ttk.Frame(root, padding=\"3 3 12 12\")\n",
    "mainframe.grid(column=0, row=0, sticky=(N, W, E, S))\n",
    "\n",
    "filterframe = ttk.Labelframe(mainframe, padding=\"3 3 12 12\", text=\"Filter\")\n",
    "filterframe.grid(column=0, row=0, sticky=(N, W))\n",
    "filterframe['borderwidth'] = 2\n",
    "filterframe['relief'] = 'sunken'\n",
    "\n",
    "\n",
    "yearfilterframe = ttk.Labelframe(filterframe, padding=\"3 3 12 12\", text=\"Year\")\n",
    "yearfilterframe.grid(column=0, row=0, sticky=(N, E))\n",
    "yearfilterframe['borderwidth'] = 2\n",
    "yearfilterframe['relief'] = 'sunken'\n",
    "ttk.Label(yearfilterframe, text=\"MIN\").grid(column=0, row=0, sticky=\"W\")\n",
    "minyear=IntVar()\n",
    "minyear.set(min_year)\n",
    "ttk.Entry(yearfilterframe, textvariable=minyear).grid(column=1, row=0, sticky=\"E\")\n",
    "ttk.Label(yearfilterframe, text=\"MAX\").grid(column=0, row=1, sticky=\"W\")\n",
    "maxyear=IntVar()\n",
    "maxyear.set(max_year)\n",
    "ttk.Entry(yearfilterframe, textvariable=maxyear).grid(column=1, row=1, sticky=\"E\")\n",
    "\n",
    "\n",
    "numratingfilterframe = ttk.Labelframe(filterframe, padding=\"3 3 12 12\", text=\"# of Ratings\")\n",
    "numratingfilterframe.grid(column=0, row=1, sticky=(N, E))\n",
    "numratingfilterframe['borderwidth'] = 2\n",
    "numratingfilterframe['relief'] = 'sunken'\n",
    "ttk.Label(numratingfilterframe, text=\"MIN\").grid(column=0, row=0, sticky=\"E\")\n",
    "minratingcount=IntVar()\n",
    "minratingcount.set(min_rating_count)\n",
    "ttk.Entry(numratingfilterframe, textvariable=minratingcount).grid(column=1, row=0, sticky=\"W\")\n",
    "ttk.Label(numratingfilterframe, text=\"MAX\").grid(column=0, row=1, sticky=\"E\")\n",
    "maxratingcount=IntVar()\n",
    "maxratingcount.set(max_rating_count)\n",
    "ttk.Entry(numratingfilterframe, textvariable=maxratingcount).grid(column=1, row=1, sticky=\"W\")\n",
    "\n",
    "\n",
    "meanratingfilterframe = ttk.Labelframe(filterframe, padding=\"3 3 12 12\", text=\"# of Ratings\")\n",
    "meanratingfilterframe.grid(column=0, row=2, sticky=(N, E))\n",
    "meanratingfilterframe['borderwidth'] = 2\n",
    "meanratingfilterframe['relief'] = 'sunken'\n",
    "ttk.Label(meanratingfilterframe, text=\"MIN\").grid(column=0, row=0, sticky=\"W\")\n",
    "minrating=DoubleVar()\n",
    "minrating.set(min_mean_rating)\n",
    "ttk.Entry(meanratingfilterframe, textvariable=minrating).grid(column=1, row=0, sticky=\"E\")\n",
    "ttk.Label(meanratingfilterframe, text=\"MAX\").grid(column=0, row=1, sticky=\"W\")\n",
    "maxrating=DoubleVar()\n",
    "maxrating.set(max_mean_rating)\n",
    "ttk.Entry(meanratingfilterframe, textvariable=maxrating).grid(column=1, row=1, sticky=\"E\")\n",
    "\n",
    "titlefilterframe = ttk.Labelframe(filterframe, padding=\"3 3 12 12\", text=\"Title\")\n",
    "titlefilterframe.grid(column=0, row=3, sticky=\"nsew\")\n",
    "titlefilterframe['borderwidth'] = 2\n",
    "titlefilterframe['relief'] = 'sunken'\n",
    "\n",
    "searchphrase = StringVar()\n",
    "ttk.Entry(titlefilterframe, textvariable=searchphrase).grid(column=0, row=0, sticky=\"nsew\")\n",
    "#ttk.Button(searchfilterframe, text=\"Search\", command=search_filter).grid(column=1, row=0, sticky=\"nsew\")\n",
    "\n",
    "removed_iids = set()\n",
    "\n",
    "def filter_data(*args):\n",
    "    remove_iids = set()\n",
    "    data = data_tree.get_children('')\n",
    "    #print(data_tree.set(data[0]))    \n",
    "    for iid in data:\n",
    "        # Year\n",
    "        if float(data_tree.set(iid)['Year']) < minyear.get():\n",
    "            remove_iids.add(iid)\n",
    "        if float(data_tree.set(iid)['Year']) > maxyear.get():\n",
    "            remove_iids.add(iid)\n",
    "        # Rating Count\n",
    "        if float(data_tree.set(iid)['Rating Count']) < minratingcount.get():\n",
    "            remove_iids.add(iid)\n",
    "        if float(data_tree.set(iid)['Rating Count']) > maxratingcount.get():\n",
    "            remove_iids.add(iid)\n",
    "        # MEAN RATING\n",
    "        if float(data_tree.set(iid)['Mean Rating']) < minrating.get():\n",
    "            remove_iids.add(iid)\n",
    "        if float(data_tree.set(iid)['Mean Rating']) > maxrating.get():\n",
    "            remove_iids.add(iid)\n",
    "        if data_tree.set(iid)['Title'].find(searchphrase.get()) == -1:\n",
    "            remove_iids.add(iid)\n",
    "    #data_tree.delete(list(remove_iids))\n",
    "    for iid in remove_iids:\n",
    "        data_tree.delete(iid)\n",
    "    removed_iids.update(remove_iids)\n",
    "    #TODO\n",
    "    # 1. Update the other fields based on the new filtered data\n",
    "    # 2. There is no way to go back in filtering right now\n",
    "\n",
    "def reset_filters(*args):\n",
    "    for iid in removed_iids:\n",
    "        i = int(iid)\n",
    "        item = [m_[i].title, m_[i].year, m_[i].num_ratings, m_[i].mean_rating]\n",
    "        data_tree.insert('', 'end', iid = str(i), values=item)\n",
    "    sortby(data_tree, 'Title', False)\n",
    "    removed_iids.clear()\n",
    "    #TODO Reset the fields to their default values\n",
    "    \n",
    "def double_click(e):\n",
    "    item = data_tree.selection()[0]\n",
    "    #print(\"You clicked on\", data_tree.set(item))\n",
    "    #print(m_[int(item)])\n",
    "    tl = Toplevel(root)\n",
    "    #ttk.Label(tl, text=data_tree.set(item)).grid(column=0, row=0, sticky=\"E\")\n",
    "    m = m_[int(item)]\n",
    "    \n",
    "    def rate_movie(*args):\n",
    "        print(m.title)\n",
    "        print(rating.get())\n",
    "        #ratings[m.title+str(m.year)]=rating.get()\n",
    "        if rating.get() != \"no-opinion\":\n",
    "            ratings[m] = rating.get()\n",
    "        else:\n",
    "            ratings.pop(m, None)\n",
    "        tl.destroy()\n",
    "    \n",
    "    ttk.Label(tl, text=m.title + \" (\" + str(m.year) + \")\", font=font.Font(family='Helvetica', size=14, weight='bold')).grid(column=0, row=0, sticky=\"W\")\n",
    "    if m.genres is not None:\n",
    "        g = \", \".join(m.genres)\n",
    "        ttk.Label(tl, text=\"Genres: \" + g).grid(column=0, row=1, sticky=\"W\")      \n",
    "    if m.keywords is not None:\n",
    "        #cnames = StringVar(value=countrynames)\n",
    "        kl= Listbox(tl, listvariable=StringVar(value=m.keywords), height=5)\n",
    "        kl.grid(column=0, row=2, sticky=\"nsew\")\n",
    "        vs = ttk.Scrollbar(tl, orient=VERTICAL, command=kl.yview)\n",
    "        kl.configure(yscrollcommand=vs.set)\n",
    "        vs.grid(column=1, row=2, sticky=\"nsew\")\n",
    "        hs = ttk.Scrollbar(tl, orient=HORIZONTAL, command=kl.xview)\n",
    "        kl.configure(xscrollcommand=hs.set)\n",
    "        hs.grid(column=0, row=3, sticky=\"nsew\")\n",
    "    rateframe=ttk.Frame(tl, padding=\"3 3 12 12\")\n",
    "    rateframe.grid(column=0, row=4, sticky=\"nsew\")        \n",
    "    rating = StringVar()\n",
    "    if m in ratings:\n",
    "        rating.set(ratings[m])\n",
    "    else:\n",
    "        rating.set(\"no-opinion\")\n",
    "    ttk.Radiobutton(rateframe, text='Like', variable=rating, value='like').grid(column=0, row=0, sticky=\"nsew\")\n",
    "    ttk.Radiobutton(rateframe, text='Dislike', variable=rating, value='dislike').grid(column=1, row=0, sticky=\"nsew\")\n",
    "    ttk.Radiobutton(rateframe, text='No opinion', variable=rating, value='no-opinion').grid(column=2, row=0, sticky=\"nsew\")\n",
    "    ttk.Button(rateframe, text=\"Submit\", command=rate_movie).grid(column=1, row=1, sticky = \"nsew\")\n",
    "        \n",
    "    \n",
    "\n",
    "buttonfilterframe = ttk.Frame(filterframe, padding=\"3 3 12 12\")\n",
    "buttonfilterframe.grid(column=0, row=4, sticky=(N, E))\n",
    "\n",
    "ttk.Button(buttonfilterframe, text=\"Filter\", command=filter_data).grid(column=0, row=0, sticky = \"W\")\n",
    "ttk.Button(buttonfilterframe, text=\"Reset\", command=reset_filters).grid(column=1, row=0, sticky = \"E\")\n",
    "\n",
    "#s = Scale(filterframe, orient=HORIZONTAL, length=200, from_=1900, to=2017 , showvalue=True, label=\"Minimum Year\", command=filter_year)\n",
    "#s.grid(column=0, row=0, sticky=W)\n",
    "\n",
    "#s = Scale(filterframe, orient=HORIZONTAL, length=200, from_=0, to=1e3, resolution=1, showvalue=True, label=\"Minimum # Ratings\", command=filter_num_ratings)\n",
    "#s.grid(column=0, row=1, sticky=W)\n",
    "\n",
    "#s = Scale(filterframe, orient=HORIZONTAL, length=200, from_=0.0, to=10.0, resolution=0.1, showvalue=True, label=\"Minimum Mean Rating\")\n",
    "#s.grid(column=0, row=2, sticky=W)\n",
    "\n",
    "\n",
    "\n",
    "\n",
    "dataframe = ttk.Labelframe(mainframe, padding=\"3 3 12 12\", text=\"Data\")\n",
    "dataframe.grid(column=1, row=0, sticky=\"ne\")\n",
    "dataframe['borderwidth'] = 2\n",
    "dataframe['relief'] = 'sunken'\n",
    "\n",
    "searchfilterframe = ttk.Frame(dataframe, padding=\"3 3 12 12\")\n",
    "searchfilterframe['borderwidth'] = 2\n",
    "searchfilterframe['relief'] = 'sunken'\n",
    "searchfilterframe.grid(column=0, row=0, sticky=\"nsew\")\n",
    "\n",
    "\n",
    "\n",
    "# some of the following code is borrowed from https://www.daniweb.com/programming/software-development/threads/350266/creating-table-in-python\n",
    "\n",
    "data_header = ['Title', 'Year', 'Rating Count', \"Mean Rating\"]\n",
    "#data = [[m.title, m.year, m.num_ratings, m.mean_rating] for m in m_]\n",
    "\n",
    "data_tree = ttk.Treeview(dataframe, columns=data_header, show=\"headings\", selectmode='browse')\n",
    "\n",
    "vsb = ttk.Scrollbar(dataframe, orient=\"vertical\", command=data_tree.yview)\n",
    "hsb = ttk.Scrollbar(dataframe, orient=\"horizontal\", command=data_tree.xview)\n",
    "\n",
    "data_tree.configure(yscrollcommand=vsb.set, xscrollcommand=hsb.set)\n",
    "data_tree.grid(column=0, row=1, sticky='nsew')\n",
    "\n",
    "data_tree.bind(\"<Double-1>\", double_click)\n",
    "\n",
    "vsb.grid(column=1, row=1, sticky='ns')\n",
    "hsb.grid(column=0, row=2, sticky='ew')\n",
    "\n",
    "dataframe.grid_columnconfigure(0, weight=1)\n",
    "dataframe.grid_rowconfigure(0, weight=1)\n",
    "\n",
    "\n",
    "for col in data_header:\n",
    "    data_tree.heading(col, text=col.title(), command=lambda c=col: sortby(data_tree, c, 0))\n",
    "    # adjust the column's width to the header string\n",
    "    data_tree.column(col, width=tkFont.Font().measure(col.title()))\n",
    "    \n",
    "for i in range(len(m_)):\n",
    "    item = [m_[i].title, m_[i].year, m_[i].num_ratings, m_[i].mean_rating]\n",
    "    data_tree.insert('', 'end', iid = str(i), values=item)\n",
    "    # adjust column's width if necessary to fit each value\n",
    "    for ix, val in enumerate(item):\n",
    "        col_w = tkFont.Font().measure(val)\n",
    "        if data_tree.column(data_header[ix],width=None)<col_w:\n",
    "            data_tree.column(data_header[ix], width=col_w)\n",
    "\n",
    "root.mainloop()"
   ]
  },
  {
   "cell_type": "code",
   "execution_count": 48,
   "metadata": {
    "collapsed": false
   },
   "outputs": [
    {
     "data": {
      "text/plain": [
       "{The Hunger Games\t2012\t0000012211\t735760\t7.2: 'like',\n",
       " No Country for Old Men\t2007\t0000001221\t660480\t8.1: 'like',\n",
       " The Lord of the Rings: The Two Towers\t2002\t0000000223\t1177998\t8.7: 'like',\n",
       " The Lion King\t1994\t0000001223\t700578\t8.5: 'like',\n",
       " Forrest Gump\t1994\t0000000233\t1360088\t8.8: 'like',\n",
       " One Flew Over the Cuckoo's Nest\t1975\t0000000232\t725979\t8.7: 'like',\n",
       " Requiem for a Dream\t2000\t0000001222\t613783\t8.4: 'like',\n",
       " Pirates of the Caribbean: The Curse of the Black Pearl\t2003\t0000001321\t861332\t8.0: 'like',\n",
       " Slumdog Millionaire\t2008\t0000001321\t677178\t8.0: 'like',\n",
       " The Shawshank Redemption\t1994\t0000000125\t1812040\t9.3: 'like',\n",
       " Fight Club\t1999\t0000000133\t1451784\t8.8: 'like',\n",
       " Pirates of the Caribbean: Dead Man's Chest\t2006\t0000012211\t552373\t7.3: 'like',\n",
       " Toy Story\t1995\t0000001322\t674241\t8.3: 'like',\n",
       " Inception\t2010\t0000000133\t1584075\t8.8: 'like',\n",
       " The Bourne Supremacy\t2004\t0000002311\t372655\t7.8: 'like',\n",
       " Back to the Future\t1985\t0000001222\t792636\t8.5: 'like',\n",
       " Braveheart\t1995\t0000001222\t788027\t8.4: 'like',\n",
       " The Bourne Ultimatum\t2007\t0000001321\t525845\t8.1: 'like',\n",
       " Iron Man\t2008\t0000002311\t737923\t7.9: 'like',\n",
       " Schindler's List\t1993\t0000000133\t930136\t8.9: 'like',\n",
       " The Matrix\t1999\t0000000233\t1305483\t8.7: 'like',\n",
       " Avatar\t2009\t0000001212\t935601\t7.8: 'like',\n",
       " Gladiator\t2000\t0000001222\t1053969\t8.5: 'like',\n",
       " Up\t2009\t0000001222\t722436\t8.3: 'like',\n",
       " V for Vendetta\t2005\t0000001222\t847256\t8.2: 'like',\n",
       " The Lord of the Rings: The Return of the King\t2003\t0000000124\t1299875\t8.9: 'like',\n",
       " The Dark Knight\t2008\t0000000124\t1792361\t9.0: 'like',\n",
       " The Lord of the Rings: The Fellowship of the Ring\t2001\t0000000123\t1321017\t8.8: 'like',\n",
       " Jurassic Park\t1993\t0000001321\t665464\t8.1: 'like',\n",
       " A Beautiful Mind\t2001\t0000001321\t661922\t8.2: 'like',\n",
       " The Godfather\t1972\t0000000125\t1237499\t9.2: 'like',\n",
       " Finding Nemo\t2003\t0000001321\t751009\t8.1: 'like',\n",
       " The Sixth Sense\t1999\t0000001321\t748727\t8.1: 'like',\n",
       " The Silence of the Lambs\t1991\t0000001232\t961390\t8.6: 'like',\n",
       " The Bourne Identity\t2002\t0000002311\t434456\t7.9: 'like',\n",
       " Die Hard\t1988\t0000001321\t631671\t8.2: 'like',\n",
       " American History X\t1998\t0000001232\t836706\t8.5: 'like',\n",
       " The Big Lebowski\t1998\t0000001222\t577455\t8.2: 'like',\n",
       " The Hobbit: An Unexpected Journey\t2012\t0000001212\t668788\t7.9: 'like',\n",
       " Monsters, Inc.\t2001\t0000001321\t634252\t8.1: 'like',\n",
       " Se7en\t1995\t0000001232\t1103267\t8.6: 'like',\n",
       " The Godfather: Part II\t1974\t0000000124\t851691\t9.0: 'like',\n",
       " Good Will Hunting\t1997\t0000001321\t655171\t8.3: 'like',\n",
       " Toy Story 3\t2010\t0000001222\t586848\t8.3: 'like',\n",
       " Léon\t1994\t0000001232\t782685\t8.6: 'like'}"
      ]
     },
     "execution_count": 48,
     "metadata": {},
     "output_type": "execute_result"
    }
   ],
   "source": [
    "ratings"
   ]
  },
  {
   "cell_type": "code",
   "execution_count": 49,
   "metadata": {
    "collapsed": true
   },
   "outputs": [],
   "source": [
    "pickle.dump(ratings, open( \"ratings.p\", \"wb\" ))"
   ]
  },
  {
   "cell_type": "code",
   "execution_count": 52,
   "metadata": {
    "collapsed": true
   },
   "outputs": [],
   "source": [
    "# Vectorize\n",
    "# #Ratings, z-scored Mean Rating, #Ratings x z-scored meanrating, Genres, keywords\n",
    "Genres = set()\n",
    "Keywords = set()\n",
    "for m in ratings:\n",
    "    if m.genres is not None:\n",
    "        for g in m.genres:\n",
    "            Genres.add(g)\n",
    "    if m.keywords is not None:\n",
    "        for k in m.keywords:\n",
    "            Keywords.add(k)"
   ]
  },
  {
   "cell_type": "code",
   "execution_count": 56,
   "metadata": {
    "collapsed": false
   },
   "outputs": [
    {
     "data": {
      "text/plain": [
       "17"
      ]
     },
     "execution_count": 56,
     "metadata": {},
     "output_type": "execute_result"
    }
   ],
   "source": [
    "len(Genres)"
   ]
  },
  {
   "cell_type": "code",
   "execution_count": 55,
   "metadata": {
    "collapsed": false
   },
   "outputs": [
    {
     "data": {
      "text/plain": [
       "5425"
      ]
     },
     "execution_count": 55,
     "metadata": {},
     "output_type": "execute_result"
    }
   ],
   "source": [
    "len(Keywords)"
   ]
  },
  {
   "cell_type": "code",
   "execution_count": 64,
   "metadata": {
    "collapsed": true
   },
   "outputs": [],
   "source": [
    "Genres = list(Genres)"
   ]
  },
  {
   "cell_type": "code",
   "execution_count": 66,
   "metadata": {
    "collapsed": true
   },
   "outputs": [],
   "source": [
    "Keywords = list(Keywords)"
   ]
  },
  {
   "cell_type": "code",
   "execution_count": 57,
   "metadata": {
    "collapsed": true
   },
   "outputs": [],
   "source": [
    "import numpy as np"
   ]
  },
  {
   "cell_type": "code",
   "execution_count": 58,
   "metadata": {
    "collapsed": true
   },
   "outputs": [],
   "source": [
    "r = []\n",
    "for m in movies:\n",
    "    r.append(m.mean_rating)"
   ]
  },
  {
   "cell_type": "code",
   "execution_count": 63,
   "metadata": {
    "collapsed": false
   },
   "outputs": [],
   "source": [
    "r_mean = np.mean(r)\n",
    "r_var = np.var(r)"
   ]
  },
  {
   "cell_type": "code",
   "execution_count": 77,
   "metadata": {
    "collapsed": true
   },
   "outputs": [],
   "source": [
    "from scipy.sparse import csr_matrix, vstack"
   ]
  },
  {
   "cell_type": "code",
   "execution_count": 88,
   "metadata": {
    "collapsed": false
   },
   "outputs": [],
   "source": [
    "D = []\n",
    "y = []\n",
    "for m in m_:\n",
    "    d = []\n",
    "    d.append(m.num_ratings)\n",
    "    d.append((m.mean_rating - r_mean)/r_var)\n",
    "    d.append(d[0]*d[1])\n",
    "    m_g = set()\n",
    "    if m.genres is not None:\n",
    "        m_g.update(m.genres)\n",
    "    m_k = set()\n",
    "    if m.keywords is not None:\n",
    "        m_k.update(m.keywords)\n",
    "    for g in Genres:\n",
    "        if g in m_g:\n",
    "            d.append(1)\n",
    "        else:\n",
    "            d.append(0)\n",
    "    for k in Keywords: # VERY INEFFICIENT. FIX!\n",
    "        if k in m_k:\n",
    "            d.append(1)\n",
    "        else:\n",
    "            d.append(0)\n",
    "    D.append(csr_matrix(d))\n",
    "    if m in ratings:\n",
    "        y.append(1)\n",
    "    else:\n",
    "        y.append(0)"
   ]
  },
  {
   "cell_type": "code",
   "execution_count": 89,
   "metadata": {
    "collapsed": false
   },
   "outputs": [
    {
     "data": {
      "text/plain": [
       "8000"
      ]
     },
     "execution_count": 89,
     "metadata": {},
     "output_type": "execute_result"
    }
   ],
   "source": [
    "len(D)"
   ]
  },
  {
   "cell_type": "code",
   "execution_count": 90,
   "metadata": {
    "collapsed": true
   },
   "outputs": [],
   "source": [
    "d = D[0]"
   ]
  },
  {
   "cell_type": "code",
   "execution_count": 91,
   "metadata": {
    "collapsed": false
   },
   "outputs": [],
   "source": [
    "for d_ in D[1:]:\n",
    "    d = vstack([d, d_])"
   ]
  },
  {
   "cell_type": "code",
   "execution_count": 92,
   "metadata": {
    "collapsed": false
   },
   "outputs": [
    {
     "data": {
      "text/plain": [
       "(8000, 5445)"
      ]
     },
     "execution_count": 92,
     "metadata": {},
     "output_type": "execute_result"
    }
   ],
   "source": [
    "d.shape"
   ]
  },
  {
   "cell_type": "code",
   "execution_count": 93,
   "metadata": {
    "collapsed": false
   },
   "outputs": [
    {
     "data": {
      "text/plain": [
       "8000"
      ]
     },
     "execution_count": 93,
     "metadata": {},
     "output_type": "execute_result"
    }
   ],
   "source": [
    "len(y)"
   ]
  },
  {
   "cell_type": "code",
   "execution_count": 94,
   "metadata": {
    "collapsed": true
   },
   "outputs": [],
   "source": [
    "y = np.array(y)"
   ]
  },
  {
   "cell_type": "code",
   "execution_count": 96,
   "metadata": {
    "collapsed": false
   },
   "outputs": [
    {
     "data": {
      "text/plain": [
       "<45x5445 sparse matrix of type '<class 'numpy.float64'>'\n",
       "\twith 10032 stored elements in Compressed Sparse Row format>"
      ]
     },
     "execution_count": 96,
     "metadata": {},
     "output_type": "execute_result"
    }
   ],
   "source": [
    "d[np.where(y==1)]"
   ]
  },
  {
   "cell_type": "code",
   "execution_count": 97,
   "metadata": {
    "collapsed": true
   },
   "outputs": [],
   "source": [
    "from sklearn import svm"
   ]
  },
  {
   "cell_type": "code",
   "execution_count": 100,
   "metadata": {
    "collapsed": false
   },
   "outputs": [],
   "source": [
    "clf = svm.OneClassSVM(kernel='linear')"
   ]
  },
  {
   "cell_type": "code",
   "execution_count": 102,
   "metadata": {
    "collapsed": false
   },
   "outputs": [
    {
     "data": {
      "text/plain": [
       "OneClassSVM(cache_size=200, coef0=0.0, degree=3, gamma='auto',\n",
       "      kernel='linear', max_iter=-1, nu=0.5, random_state=None,\n",
       "      shrinking=True, tol=0.001, verbose=False)"
      ]
     },
     "execution_count": 102,
     "metadata": {},
     "output_type": "execute_result"
    }
   ],
   "source": [
    "clf.fit(d[np.where(y==1)])"
   ]
  },
  {
   "cell_type": "code",
   "execution_count": 105,
   "metadata": {
    "collapsed": false
   },
   "outputs": [
    {
     "data": {
      "text/plain": [
       "<1x5445 sparse matrix of type '<class 'numpy.float64'>'\n",
       "\twith 2745 stored elements in Compressed Sparse Row format>"
      ]
     },
     "execution_count": 105,
     "metadata": {},
     "output_type": "execute_result"
    }
   ],
   "source": [
    "clf.coef_"
   ]
  },
  {
   "cell_type": "code",
   "execution_count": 110,
   "metadata": {
    "collapsed": false
   },
   "outputs": [],
   "source": [
    "indices = np.argsort(np.abs(clf.coef_.toarray()[0]))"
   ]
  },
  {
   "cell_type": "code",
   "execution_count": 118,
   "metadata": {
    "collapsed": false
   },
   "outputs": [
    {
     "name": "stdout",
     "output_type": "stream",
     "text": [
      "11.0\n",
      "11.0\n",
      "11.0\n",
      "11.5\n",
      "12.0\n",
      "13.0\n",
      "16.5\n",
      "16.6460824028\n",
      "10681331.9922\n",
      "14352004.5\n"
     ]
    }
   ],
   "source": [
    "for i in indices[-10:]:\n",
    "    print(clf.coef_.toarray()[0][i])"
   ]
  },
  {
   "cell_type": "code",
   "execution_count": 119,
   "metadata": {
    "collapsed": false
   },
   "outputs": [
    {
     "data": {
      "text/plain": [
       "(array([ 956, 1200, 1366, 1394, 1729, 2355, 2761, 2774, 2841, 3022, 3064,\n",
       "        3523, 3588, 3737, 4235, 4501, 4711, 4820, 5016, 5018, 5264, 5476,\n",
       "        5492, 5690, 6209, 6246, 6248, 6249, 6363, 6522, 6524, 6603, 6627,\n",
       "        6778, 6804, 6805, 6806, 6858, 7139, 7149, 7154, 7460, 7462, 7610,\n",
       "        7623], dtype=int64),)"
      ]
     },
     "execution_count": 119,
     "metadata": {},
     "output_type": "execute_result"
    }
   ],
   "source": [
    "np.where(y==1)"
   ]
  },
  {
   "cell_type": "code",
   "execution_count": 124,
   "metadata": {
    "collapsed": false
   },
   "outputs": [
    {
     "data": {
      "text/plain": [
       "(array([ 105,  254, 1194, 1200, 1366, 1394, 1468, 1729, 2387, 2761, 2841,\n",
       "        3022, 3066, 3523, 3537, 3564, 4235, 4384, 5018, 5131, 5454, 5476,\n",
       "        5492, 5614, 5845, 5849, 6091, 6174, 6363, 6364, 6384, 6522, 6524,\n",
       "        6562, 6804, 6805, 6806, 6858, 7006, 7139, 7149, 7271, 7323, 7623,\n",
       "        7697], dtype=int64),)"
      ]
     },
     "execution_count": 124,
     "metadata": {},
     "output_type": "execute_result"
    }
   ],
   "source": [
    "np.where(clf.predict(d) != -1)"
   ]
  },
  {
   "cell_type": "code",
   "execution_count": 140,
   "metadata": {
    "collapsed": false
   },
   "outputs": [],
   "source": [
    "df = (clf.decision_function(d)).flatten()"
   ]
  },
  {
   "cell_type": "code",
   "execution_count": 141,
   "metadata": {
    "collapsed": true
   },
   "outputs": [],
   "source": [
    "indices = np.argsort(df)"
   ]
  },
  {
   "cell_type": "code",
   "execution_count": 142,
   "metadata": {
    "collapsed": false
   },
   "outputs": [
    {
     "data": {
      "text/plain": [
       "array([ -1.94573266e+13,  -1.93666824e+13,  -1.93286418e+13,\n",
       "        -1.92817560e+13,  -1.91286447e+13,  -1.90857146e+13,\n",
       "        -1.90761925e+13,  -1.89445972e+13,  -1.89306174e+13,\n",
       "        -1.89170855e+13])"
      ]
     },
     "execution_count": 142,
     "metadata": {},
     "output_type": "execute_result"
    }
   ],
   "source": [
    "df [indices[:10]]"
   ]
  },
  {
   "cell_type": "code",
   "execution_count": 143,
   "metadata": {
    "collapsed": false
   },
   "outputs": [
    {
     "data": {
      "text/plain": [
       "array([  1.58551588e+13,   1.59138892e+13,   1.60498208e+13,\n",
       "         1.63530164e+13,   1.69335970e+13,   1.92206447e+13,\n",
       "         1.93267563e+13,   2.27793981e+13,   3.01119580e+13,\n",
       "         3.35224193e+13])"
      ]
     },
     "execution_count": 143,
     "metadata": {},
     "output_type": "execute_result"
    }
   ],
   "source": [
    "df[indices[-10:]]"
   ]
  },
  {
   "cell_type": "code",
   "execution_count": 144,
   "metadata": {
    "collapsed": false
   },
   "outputs": [
    {
     "data": {
      "text/plain": [
       "3758"
      ]
     },
     "execution_count": 144,
     "metadata": {},
     "output_type": "execute_result"
    }
   ],
   "source": [
    "indices[0]"
   ]
  },
  {
   "cell_type": "code",
   "execution_count": 145,
   "metadata": {
    "collapsed": false
   },
   "outputs": [
    {
     "data": {
      "text/plain": [
       "Justin Bieber: Never Say Never\t2011\t8000000001\t74557\t1.6"
      ]
     },
     "execution_count": 145,
     "metadata": {},
     "output_type": "execute_result"
    }
   ],
   "source": [
    "m_[3758]"
   ]
  },
  {
   "cell_type": "code",
   "execution_count": 146,
   "metadata": {
    "collapsed": false
   },
   "outputs": [
    {
     "data": {
      "text/plain": [
       "7139"
      ]
     },
     "execution_count": 146,
     "metadata": {},
     "output_type": "execute_result"
    }
   ],
   "source": [
    "indices[-1]"
   ]
  },
  {
   "cell_type": "code",
   "execution_count": 147,
   "metadata": {
    "collapsed": false
   },
   "outputs": [
    {
     "data": {
      "text/plain": [
       "The Shawshank Redemption\t1994\t0000000125\t1812040\t9.3"
      ]
     },
     "execution_count": 147,
     "metadata": {},
     "output_type": "execute_result"
    }
   ],
   "source": [
    "m_[7139]"
   ]
  },
  {
   "cell_type": "code",
   "execution_count": 150,
   "metadata": {
    "collapsed": false
   },
   "outputs": [
    {
     "name": "stdout",
     "output_type": "stream",
     "text": [
      "Justin Bieber: Never Say Never\t2011\t8000000001\t74557\t1.6\n",
      "Disaster Movie\t2008\t6100000000\t77218\t1.9\n",
      "Epic Movie\t2007\t4110000000\t92341\t2.3\n",
      "Reis\t2017\t7000000001\t69057\t1.9\n",
      "Meet the Spartans\t2008\t4110000000\t91599\t2.7\n",
      "Battlefield Earth\t2000\t4100000000\t67335\t2.4\n",
      "Gunday\t2014\t8000000000\t54884\t2.1\n",
      "Son of the Mask\t2005\t4110000000\t43255\t2.2\n",
      "Dragonball Evolution\t2009\t4110000000\t59524\t2.7\n",
      "The Hottie & the Nottie\t2008\t6000000000\t34014\t1.9\n"
     ]
    }
   ],
   "source": [
    "for i in indices[:10]:\n",
    "    print(m_[i])"
   ]
  },
  {
   "cell_type": "code",
   "execution_count": 151,
   "metadata": {
    "collapsed": false
   },
   "outputs": [
    {
     "name": "stdout",
     "output_type": "stream",
     "text": [
      "\"Game of Thrones\"\t2011\t0000000016\t1154888\t9.5\n",
      "The Lord of the Rings: The Fellowship of the Ring\t2001\t0000000123\t1321017\t8.8\n",
      "The Lord of the Rings: The Return of the King\t2003\t0000000124\t1299875\t8.9\n",
      "The Godfather\t1972\t0000000125\t1237499\t9.2\n",
      "Forrest Gump\t1994\t0000000233\t1360088\t8.8\n",
      "Pulp Fiction\t1994\t0000000123\t1418954\t8.9\n",
      "Fight Club\t1999\t0000000133\t1451784\t8.8\n",
      "Inception\t2010\t0000000133\t1584075\t8.8\n",
      "The Dark Knight\t2008\t0000000124\t1792361\t9.0\n",
      "The Shawshank Redemption\t1994\t0000000125\t1812040\t9.3\n"
     ]
    }
   ],
   "source": [
    "for i in indices[-10:]:\n",
    "    print(m_[i])"
   ]
  },
  {
   "cell_type": "code",
   "execution_count": null,
   "metadata": {
    "collapsed": true
   },
   "outputs": [],
   "source": []
  }
 ],
 "metadata": {
  "kernelspec": {
   "display_name": "Python 3",
   "language": "python",
   "name": "python3"
  },
  "language_info": {
   "codemirror_mode": {
    "name": "ipython",
    "version": 3
   },
   "file_extension": ".py",
   "mimetype": "text/x-python",
   "name": "python",
   "nbconvert_exporter": "python",
   "pygments_lexer": "ipython3",
   "version": "3.5.1"
  }
 },
 "nbformat": 4,
 "nbformat_minor": 0
}

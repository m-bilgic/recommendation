{
 "cells": [
  {
   "cell_type": "code",
   "execution_count": 1,
   "metadata": {
    "collapsed": true
   },
   "outputs": [],
   "source": [
    "from tkinter import *\n",
    "from tkinter import ttk\n",
    "import tkinter.font as tkFont\n",
    "from tkinter import font"
   ]
  },
  {
   "cell_type": "code",
   "execution_count": 2,
   "metadata": {
    "collapsed": false
   },
   "outputs": [],
   "source": [
    "from movie import Movie\n",
    "from parse import parse_imdb_data"
   ]
  },
  {
   "cell_type": "code",
   "execution_count": 3,
   "metadata": {
    "collapsed": true
   },
   "outputs": [],
   "source": [
    "import os\n",
    "import pickle"
   ]
  },
  {
   "cell_type": "code",
   "execution_count": 4,
   "metadata": {
    "collapsed": true
   },
   "outputs": [],
   "source": [
    "from sklearn.feature_extraction.text import TfidfVectorizer, CountVectorizer\n",
    "from sklearn import svm"
   ]
  },
  {
   "cell_type": "code",
   "execution_count": 5,
   "metadata": {
    "collapsed": true
   },
   "outputs": [],
   "source": [
    "import numpy as np\n",
    "from scipy.sparse import csr_matrix, vstack, hstack"
   ]
  },
  {
   "cell_type": "code",
   "execution_count": 6,
   "metadata": {
    "collapsed": false
   },
   "outputs": [
    {
     "name": "stdout",
     "output_type": "stream",
     "text": [
      "PARSING THE RATINGS FILE\n",
      "PARSING THE GENRES FILE\n",
      "PARSING THE KEYWORDS FILE\n",
      "PARSING THE MPAA RATINGS REASONS FILE\n",
      "PARSING THE CERTIFICATES FILE\n"
     ]
    }
   ],
   "source": [
    "if os.path.isfile(\"movies.p\"):\n",
    "    movies = pickle.load(open(\"movies.p\", \"rb\"))\n",
    "else:\n",
    "    movies = parse_imdb_data()\n",
    "    pickle.dump(movies, open( \"movies.p\", \"wb\" ))"
   ]
  },
  {
   "cell_type": "code",
   "execution_count": 277,
   "metadata": {
    "collapsed": false
   },
   "outputs": [
    {
     "data": {
      "text/plain": [
       "7920"
      ]
     },
     "execution_count": 277,
     "metadata": {},
     "output_type": "execute_result"
    }
   ],
   "source": [
    "m_ = movies\n",
    "#m_=list(filter(lambda m: m.year>2000, m_))\n",
    "m_=list(filter(lambda m: m.num_ratings>10000, m_))\n",
    "#m_=list(filter(lambda m: m.mean_rating>8.5, m_))\n",
    "len(m_)"
   ]
  },
  {
   "cell_type": "code",
   "execution_count": 157,
   "metadata": {
    "collapsed": true
   },
   "outputs": [],
   "source": [
    "def sortby(tree, col, descending):\n",
    "    \"\"\"sort tree contents when a column header is clicked on\"\"\"\n",
    "    # grab values to sort\n",
    "    data = [(tree.set(child, col), child) \\\n",
    "        for child in tree.get_children('')]\n",
    "    # if the data to be sorted is numeric change to float\n",
    "    #data =  change_numeric(data)\n",
    "    # now sort the data in place\n",
    "    if(data[0][0].isnumeric()): # FIX: doesn't work for float\n",
    "        data = [(float(d[0]), d[1]) for d in data]\n",
    "    data.sort(reverse=descending)\n",
    "    for ix, item in enumerate(data):\n",
    "        tree.move(item[1], '', ix)\n",
    "    # switch the heading so it will sort in the opposite direction\n",
    "    tree.heading(col, command=lambda col=col: sortby(tree, col, \\\n",
    "        int(not descending)))"
   ]
  },
  {
   "cell_type": "code",
   "execution_count": 158,
   "metadata": {
    "collapsed": false
   },
   "outputs": [],
   "source": [
    "min_year = min_rating_count = min_mean_rating = float('inf')\n",
    "max_year = max_rating_count = max_mean_rating = float('-inf')\n",
    "for m in m_:\n",
    "    min_year = min((min_year, m.year))\n",
    "    max_year = max((max_year, m.year))\n",
    "    min_rating_count = min((min_rating_count, m.num_ratings))\n",
    "    max_rating_count = max((max_rating_count, m.num_ratings))\n",
    "    min_mean_rating = min((min_mean_rating, m.mean_rating))\n",
    "    max_mean_rating = max((max_mean_rating, m.mean_rating))    "
   ]
  },
  {
   "cell_type": "code",
   "execution_count": 159,
   "metadata": {
    "collapsed": true
   },
   "outputs": [],
   "source": [
    "if os.path.isfile(\"ratings.p\"):\n",
    "    ratings = pickle.load(open(\"ratings.p\", \"rb\"))\n",
    "else:\n",
    "    ratings = {}"
   ]
  },
  {
   "cell_type": "code",
   "execution_count": 11,
   "metadata": {
    "collapsed": true
   },
   "outputs": [],
   "source": [
    "ratings = {}"
   ]
  },
  {
   "cell_type": "code",
   "execution_count": 278,
   "metadata": {
    "collapsed": true
   },
   "outputs": [],
   "source": [
    "Dk = []\n",
    "Dg = []\n",
    "\n",
    "for m in m_:\n",
    "    ms = ''\n",
    "    if m.keywords is not None:\n",
    "        ms = \" \".join(m.keywords)\n",
    "    Dk.append(ms)\n",
    "    mg = ''\n",
    "    if m.genres is not None:\n",
    "        mg = \" \".join(m.genres)\n",
    "    Dg.append(mg)"
   ]
  },
  {
   "cell_type": "code",
   "execution_count": 279,
   "metadata": {
    "collapsed": false
   },
   "outputs": [
    {
     "data": {
      "text/plain": [
       "(7920, 80701)"
      ]
     },
     "execution_count": 279,
     "metadata": {},
     "output_type": "execute_result"
    }
   ],
   "source": [
    "vocabulary = []\n",
    "#vect = CountVectorizer(token_pattern = r'\\b\\S+\\b', lowercase=False, binary=True)\n",
    "#vect = TfidfVectorizer(token_pattern = r'\\b\\S+\\b', lowercase=False)\n",
    "#Xg = vect.fit_transform(Dg)\n",
    "#vocabulary = vect.get_feature_names()\n",
    "vect = TfidfVectorizer(token_pattern = r'\\b\\S+\\b', norm=None)\n",
    "Xk = vect.fit_transform(Dk)\n",
    "vocabulary = vocabulary + vect.get_feature_names()\n",
    "#X = hstack((Xg, Xk)).tocsr()\n",
    "X = Xk\n",
    "X.shape"
   ]
  },
  {
   "cell_type": "code",
   "execution_count": 281,
   "metadata": {
    "collapsed": false
   },
   "outputs": [
    {
     "name": "stdout",
     "output_type": "stream",
     "text": [
      "cgi-animation\n",
      "computer-animation\n",
      "blockbuster\n",
      "3-dimensional\n",
      "first-part\n",
      "magic\n",
      "no-opening-credits\n",
      "friendship\n",
      "cgi-film\n",
      "dragon\n",
      "wilhelm-scream\n",
      "lifting-someone-into-the-air\n",
      "rescue\n",
      "disney\n",
      "anthropomorphism\n",
      "fire\n",
      "based-on-fairy-tale\n",
      "surprise-after-end-credits\n",
      "chase\n",
      "princess\n",
      "scene-during-end-credits\n",
      "friend\n",
      "slapstick-comedy\n",
      "flying\n",
      "animal\n",
      "cult-film\n",
      "character-name-in-title\n",
      "little-girl\n",
      "pig\n",
      "female-hero\n",
      "\n"
     ]
    }
   ],
   "source": [
    "root = Tk()\n",
    "root.title(\"IMDB MOVIE RECOMMENDER SYSTEM\")\n",
    "\n",
    "root.rowconfigure(0, weight=1)\n",
    "root.columnconfigure(0, weight=1)\n",
    "\n",
    "mainframe = ttk.Frame(root, padding=\"3 3 12 12\")\n",
    "mainframe.grid(column=0, row=0, sticky=\"nsew\")\n",
    "mainframe['borderwidth'] = 10\n",
    "mainframe['relief'] = 'sunken'\n",
    "\n",
    "mainframe.rowconfigure(0, weight=1)\n",
    "mainframe.columnconfigure(0, weight=0)\n",
    "mainframe.columnconfigure(1, weight=1)\n",
    "\n",
    "filterframe = ttk.Labelframe(mainframe, padding=\"3 3 12 12\", text=\"Filter\")\n",
    "filterframe.grid(column=0, row=0, sticky=\"nsew\")\n",
    "filterframe['borderwidth'] = 2\n",
    "filterframe['relief'] = 'sunken'\n",
    "\n",
    "\n",
    "dataframe = ttk.Labelframe(mainframe, padding=\"3 3 12 12\", text=\"Data\")\n",
    "dataframe.grid(column=1, row=0, sticky=\"nsew\")\n",
    "dataframe['borderwidth'] = 2\n",
    "dataframe['relief'] = 'sunken'\n",
    "\n",
    "dataframe.grid_columnconfigure(0, weight=1)\n",
    "dataframe.grid_columnconfigure(1, weight=0)\n",
    "dataframe.grid_rowconfigure(0, weight=1)\n",
    "dataframe.grid_rowconfigure(1, weight=0)\n",
    "dataframe.grid_rowconfigure(2, weight=0)\n",
    "\n",
    "\n",
    "yearfilterframe = ttk.Labelframe(filterframe, padding=\"3 3 12 12\", text=\"Year\")\n",
    "yearfilterframe.grid(column=0, row=0, sticky=\"nsew\")\n",
    "yearfilterframe['borderwidth'] = 2\n",
    "yearfilterframe['relief'] = 'sunken'\n",
    "ttk.Label(yearfilterframe, text=\"MIN\").grid(column=0, row=0, sticky=\"W\")\n",
    "minyear=IntVar()\n",
    "minyear.set(min_year)\n",
    "ttk.Entry(yearfilterframe, textvariable=minyear).grid(column=1, row=0, sticky=\"E\")\n",
    "ttk.Label(yearfilterframe, text=\"MAX\").grid(column=0, row=1, sticky=\"W\")\n",
    "maxyear=IntVar()\n",
    "maxyear.set(max_year)\n",
    "ttk.Entry(yearfilterframe, textvariable=maxyear).grid(column=1, row=1, sticky=\"E\")\n",
    "\n",
    "\n",
    "numratingfilterframe = ttk.Labelframe(filterframe, padding=\"3 3 12 12\", text=\"# of Ratings\")\n",
    "numratingfilterframe.grid(column=0, row=1, sticky=\"nsew\")\n",
    "numratingfilterframe['borderwidth'] = 2\n",
    "numratingfilterframe['relief'] = 'sunken'\n",
    "ttk.Label(numratingfilterframe, text=\"MIN\").grid(column=0, row=0, sticky=\"E\")\n",
    "minratingcount=IntVar()\n",
    "minratingcount.set(min_rating_count)\n",
    "ttk.Entry(numratingfilterframe, textvariable=minratingcount).grid(column=1, row=0, sticky=\"W\")\n",
    "ttk.Label(numratingfilterframe, text=\"MAX\").grid(column=0, row=1, sticky=\"E\")\n",
    "maxratingcount=IntVar()\n",
    "maxratingcount.set(max_rating_count)\n",
    "ttk.Entry(numratingfilterframe, textvariable=maxratingcount).grid(column=1, row=1, sticky=\"W\")\n",
    "\n",
    "\n",
    "meanratingfilterframe = ttk.Labelframe(filterframe, padding=\"3 3 12 12\", text=\"Average Rating\")\n",
    "meanratingfilterframe.grid(column=0, row=2, sticky=\"nsew\")\n",
    "meanratingfilterframe['borderwidth'] = 2\n",
    "meanratingfilterframe['relief'] = 'sunken'\n",
    "ttk.Label(meanratingfilterframe, text=\"MIN\").grid(column=0, row=0, sticky=\"W\")\n",
    "minrating=DoubleVar()\n",
    "minrating.set(min_mean_rating)\n",
    "ttk.Entry(meanratingfilterframe, textvariable=minrating).grid(column=1, row=0, sticky=\"E\")\n",
    "ttk.Label(meanratingfilterframe, text=\"MAX\").grid(column=0, row=1, sticky=\"W\")\n",
    "maxrating=DoubleVar()\n",
    "maxrating.set(max_mean_rating)\n",
    "ttk.Entry(meanratingfilterframe, textvariable=maxrating).grid(column=1, row=1, sticky=\"E\")\n",
    "\n",
    "phrasefilterframe = ttk.Labelframe(filterframe, padding=\"3 3 12 12\", text=\"Phrase\")\n",
    "phrasefilterframe.grid(column=0, row=3, sticky=\"nsew\")\n",
    "phrasefilterframe['borderwidth'] = 2\n",
    "phrasefilterframe['relief'] = 'sunken'\n",
    "\n",
    "titlephrase = StringVar()\n",
    "ttk.Label(phrasefilterframe, text=\"Title\").grid(column=0, row=0, sticky=\"W\")\n",
    "ttk.Entry(phrasefilterframe, textvariable=titlephrase).grid(column=1, row=0, sticky=\"nsew\")\n",
    "keywordphrase = StringVar()\n",
    "ttk.Label(phrasefilterframe, text=\"Keyword\").grid(column=0, row=1, sticky=\"W\")\n",
    "ttk.Entry(phrasefilterframe, textvariable=keywordphrase).grid(column=1, row=1, sticky=\"nsew\")\n",
    "genrephrase = StringVar()\n",
    "ttk.Label(phrasefilterframe, text=\"Genre\").grid(column=0, row=2, sticky=\"W\")\n",
    "ttk.Entry(phrasefilterframe, textvariable=genrephrase).grid(column=1, row=2, sticky=\"nsew\")\n",
    "\n",
    "certfilterframe = ttk.Labelframe(filterframe, padding=\"3 3 12 12\", text=\"USA Certificate\")\n",
    "certfilterframe.grid(column=0, row=4, sticky=\"nsew\")\n",
    "certfilterframe['borderwidth'] = 2\n",
    "certfilterframe['relief'] = 'sunken'\n",
    "\n",
    "\n",
    "left_certificates = [\"Approved\", \"Passed\", \"G\", \"PG\", \"PG-13\", \"R\", \"Unrated\", \"Not Rated\"]\n",
    "right_certificates = [\"TV-G\", \"TV-PG\", \"TV-Y\", \"TV-Y7\", \"TV-14\", \"TV-MA\"]\n",
    "cert_vars = []\n",
    "i=0\n",
    "\n",
    "for cert in left_certificates:\n",
    "    cv = StringVar()\n",
    "    cv.set(cert)\n",
    "    ttk.Checkbutton(certfilterframe, text=cert, onvalue = cert, variable=cv).grid(column=0, row=i, sticky=\"w\")\n",
    "    cert_vars.append(cv)\n",
    "    i += 1\n",
    "\n",
    "i=0\n",
    "\n",
    "for cert in right_certificates:    \n",
    "    cv = StringVar()\n",
    "    cv.set(cert)\n",
    "    ttk.Checkbutton(certfilterframe, text=cert, onvalue = cert, variable=cv).grid(column=2, row=i, sticky=\"w\")\n",
    "    cert_vars.append(cv)\n",
    "    i += 1\n",
    "\n",
    "cert_Unk = StringVar()\n",
    "cert_Unk.set(\"Unknown\")\n",
    "ttk.Checkbutton(certfilterframe, text='Unknown', onvalue = \"Unknown\", variable=cert_Unk).grid(column=1, \n",
    "                                                                                            row=max((len(right_certificates),len(left_certificates)))+1, sticky=\"w\")\n",
    "cert_vars.append(cert_Unk)\n",
    "\n",
    "\n",
    "removed_iids = set()\n",
    "\n",
    "def filter_data(*args):\n",
    "    remove_iids = set()\n",
    "    data = data_tree.get_children('')\n",
    "    #print(data_tree.set(data[0]))\n",
    "    display_certificates = set()\n",
    "    \n",
    "    for cv in cert_vars:\n",
    "        if cv.get() != \"0\":\n",
    "            display_certificates.add(cv.get())    \n",
    "    \n",
    "    for iid in data:\n",
    "        m = m_[int(iid)]\n",
    "        # Year\n",
    "        if m.year < minyear.get():\n",
    "            remove_iids.add(iid)\n",
    "        if m.year > maxyear.get():\n",
    "            remove_iids.add(iid)\n",
    "        # Rating Count\n",
    "        if m.num_ratings < minratingcount.get():\n",
    "            remove_iids.add(iid)\n",
    "        if m.num_ratings > maxratingcount.get():\n",
    "            remove_iids.add(iid)\n",
    "        # MEAN RATING\n",
    "        if m.mean_rating < minrating.get():\n",
    "            remove_iids.add(iid)\n",
    "        if m.mean_rating > maxrating.get():\n",
    "            remove_iids.add(iid)\n",
    "        if m.title.find(titlephrase.get()) == -1:\n",
    "            remove_iids.add(iid)\n",
    "        \n",
    "        if genrephrase.get() != \"\":\n",
    "            if m.genres == None:\n",
    "                remove_iids.add(iid)\n",
    "            else:\n",
    "                gp = False\n",
    "                for g in m.genres:\n",
    "                    if g.find(genrephrase.get()) != -1:\n",
    "                        gp = True\n",
    "                        break\n",
    "                if not gp:\n",
    "                    remove_iids.add(iid)\n",
    "        if keywordphrase.get() != \"\":\n",
    "            if m.keywords == None:\n",
    "                remove_iids.add(iid)\n",
    "            else:\n",
    "                kp = False\n",
    "                for k in m.keywords:\n",
    "                    if k.find(keywordphrase.get()) != -1:\n",
    "                        kp = True\n",
    "                        break\n",
    "                if not kp:\n",
    "                    remove_iids.add(iid)\n",
    "        \n",
    "        if m.certificate not in display_certificates:\n",
    "            remove_iids.add(iid)\n",
    "        \n",
    "    #data_tree.delete(list(remove_iids))\n",
    "    for iid in remove_iids:\n",
    "        data_tree.delete(iid)\n",
    "    removed_iids.update(remove_iids)\n",
    "    #TODO\n",
    "    # 1. Update the other fields based on the new filtered data\n",
    "    # 2. There is no way to go back in filtering right now\n",
    "\n",
    "def reset_filters(*args):\n",
    "    for iid in removed_iids:\n",
    "        i = int(iid)\n",
    "        item = [m_[i].title, m_[i].year, m_[i].num_ratings, m_[i].mean_rating, m_[i].certificate]\n",
    "        data_tree.insert('', 'end', iid = str(i), values=item)\n",
    "    sortby(data_tree, 'Title', False)\n",
    "    removed_iids.clear()\n",
    "    #TODO Reset the fields to their default values\n",
    "    \n",
    "def double_click(e):\n",
    "    item = data_tree.selection()[0]\n",
    "    #print(\"You clicked on\", data_tree.set(item))\n",
    "    #print(m_[int(item)])\n",
    "    tl = Toplevel(root)\n",
    "    #ttk.Label(tl, text=data_tree.set(item)).grid(column=0, row=0, sticky=\"E\")\n",
    "    m = m_[int(item)]\n",
    "    \n",
    "    def rate_movie(*args):\n",
    "        #print(m.title)\n",
    "        #print(rating.get())\n",
    "        #ratings[m.title+str(m.year)]=rating.get()\n",
    "        if rating.get() != \"no-opinion\":\n",
    "            ratings[m] = rating.get()\n",
    "        else:\n",
    "            ratings.pop(m, None)\n",
    "        tl.destroy()\n",
    "    \n",
    "    ttk.Label(tl, text=m.title + \" (\" + str(m.year) + \")\", font=font.Font(family='Helvetica', size=14, weight='bold')).grid(column=0, row=0, sticky=\"W\")\n",
    "    if m.genres is not None:\n",
    "        g = \", \".join(m.genres)\n",
    "        ttk.Label(tl, text=\"Genres: \" + g).grid(column=0, row=1, sticky=\"W\")      \n",
    "    if m.keywords is not None:\n",
    "        #cnames = StringVar(value=countrynames)\n",
    "        kl= Listbox(tl, listvariable=StringVar(value=m.keywords), height=5)\n",
    "        kl.grid(column=0, row=2, sticky=\"nsew\")\n",
    "        vs = ttk.Scrollbar(tl, orient=VERTICAL, command=kl.yview)\n",
    "        kl.configure(yscrollcommand=vs.set)\n",
    "        vs.grid(column=1, row=2, sticky=\"nsew\")\n",
    "        hs = ttk.Scrollbar(tl, orient=HORIZONTAL, command=kl.xview)\n",
    "        kl.configure(xscrollcommand=hs.set)\n",
    "        hs.grid(column=0, row=3, sticky=\"nsew\")\n",
    "    rateframe=ttk.Frame(tl, padding=\"3 3 12 12\")\n",
    "    rateframe.grid(column=0, row=4, sticky=\"nsew\")        \n",
    "    rating = StringVar()\n",
    "    if m in ratings:\n",
    "        rating.set(ratings[m])\n",
    "    else:\n",
    "        rating.set(\"no-opinion\")\n",
    "    ttk.Radiobutton(rateframe, text='Like', variable=rating, value='like').grid(column=0, row=0, sticky=\"nsew\")\n",
    "    ttk.Radiobutton(rateframe, text='Dislike', variable=rating, value='dislike').grid(column=1, row=0, sticky=\"nsew\")\n",
    "    ttk.Radiobutton(rateframe, text='No opinion', variable=rating, value='no-opinion').grid(column=2, row=0, sticky=\"nsew\")\n",
    "    ttk.Button(rateframe, text=\"Submit\", command=rate_movie).grid(column=1, row=1, sticky = \"nsew\")\n",
    "        \n",
    "    \n",
    "\n",
    "buttonfilterframe = ttk.Frame(filterframe, padding=\"3 3 12 12\")\n",
    "buttonfilterframe.grid(column=0, row=5, sticky=(N, E))\n",
    "\n",
    "ttk.Button(buttonfilterframe, text=\"Filter\", command=filter_data).grid(column=0, row=0, sticky = \"W\")\n",
    "ttk.Button(buttonfilterframe, text=\"Reset\", command=reset_filters).grid(column=1, row=0, sticky = \"E\")\n",
    "\n",
    "# some of the following code is borrowed from https://www.daniweb.com/programming/software-development/threads/350266/creating-table-in-python\n",
    "\n",
    "data_header = ['Title', 'Year', 'Rating Count', \"Mean Rating\", 'US Certificate']\n",
    "#data = [[m.title, m.year, m.num_ratings, m.mean_rating] for m in m_]\n",
    "\n",
    "data_tree = ttk.Treeview(dataframe, columns=data_header, show=\"headings\", selectmode='browse')\n",
    "\n",
    "vsb = ttk.Scrollbar(dataframe, orient=\"vertical\", command=data_tree.yview)\n",
    "hsb = ttk.Scrollbar(dataframe, orient=\"horizontal\", command=data_tree.xview)\n",
    "\n",
    "data_tree.configure(yscrollcommand=vsb.set, xscrollcommand=hsb.set)\n",
    "data_tree.grid(column=0, row=0, sticky='nsew')\n",
    "\n",
    "data_tree.bind(\"<Double-1>\", double_click)\n",
    "\n",
    "vsb.grid(column=1, row=0, sticky='ns')\n",
    "hsb.grid(column=0, row=1, sticky='ew')\n",
    "\n",
    "def build_a_model_of_the_data(*args):\n",
    "    data = data_tree.get_children('')\n",
    "    \n",
    "    in_model = set()\n",
    "    \n",
    "    for iid in data:\n",
    "        m = m_[int(iid)]\n",
    "        in_model.add(m)\n",
    "    y = []\n",
    "    for m in m_:\n",
    "        if m in in_model:\n",
    "            y.append(1)\n",
    "        else:\n",
    "            y.append(0)\n",
    "    y = np.array(y)\n",
    "    clf = svm.OneClassSVM(kernel='linear')\n",
    "    clf.fit(X[np.where(y==1)])\n",
    "    feat_indices = np.argsort(np.abs(clf.coef_.toarray()[0]))[::-1]\n",
    "    for i in feat_indices[:30]:\n",
    "        print(vocabulary[i])\n",
    "    print()\n",
    "\n",
    "ttk.Button(dataframe, text=\"Build a Model of the Data\", command=build_a_model_of_the_data).grid(column=0, row=2, sticky = \"nsew\")\n",
    "\n",
    "\n",
    "for col in data_header:\n",
    "    data_tree.heading(col, text=col.title(), command=lambda c=col: sortby(data_tree, c, 0))\n",
    "    # adjust the column's width to the header string\n",
    "    data_tree.column(col, width=tkFont.Font().measure(col.title()))\n",
    "    \n",
    "for i in range(len(m_)):\n",
    "    item = [m_[i].title, m_[i].year, m_[i].num_ratings, m_[i].mean_rating, m_[i].certificate]\n",
    "    data_tree.insert('', 'end', iid = str(i), values=item)\n",
    "    # adjust column's width if necessary to fit each value\n",
    "    #for ix, val in enumerate(item):\n",
    "     #   col_w = tkFont.Font().measure(val)\n",
    "     #   if data_tree.column(data_header[ix],width=None)<col_w:\n",
    "     #       data_tree.column(data_header[ix], width=col_w)\n",
    "\n",
    "root.mainloop()"
   ]
  },
  {
   "cell_type": "code",
   "execution_count": 259,
   "metadata": {
    "collapsed": false
   },
   "outputs": [],
   "source": [
    "ratings = {}\n",
    "\n",
    "look_for_genres = set()\n",
    "look_for_genres.update(['Family'])\n",
    "\n",
    "look_for_keywords = set()\n",
    "look_for_keywords.update(['friendship', 'based-on-novel'])\n",
    "\n",
    "certificates = set()\n",
    "#certificates.update([\"G\", \"PG\", \"TV-G\", \"TV-PG\"])\n",
    "\n",
    "for m in m_:\n",
    "    if len(certificates) == 0 or m.certificate in certificates:\n",
    "        if m.genres is not None:\n",
    "            mgs = set()\n",
    "            mgs.update(m.genres)\n",
    "            if len(look_for_genres.intersection(mgs)) == len(look_for_genres):\n",
    "                #ratings[m] = 'like'\n",
    "                if m.keywords is not None:\n",
    "                    mks = set()\n",
    "                    mks.update(m.keywords)\n",
    "                    if len(look_for_keywords.intersection(mks)) == len(look_for_keywords):\n",
    "                        ratings[m] = 'like'\n",
    "y = []\n",
    "\n",
    "for m in m_:        \n",
    "    if m in ratings:\n",
    "        y.append(1)\n",
    "    else:\n",
    "        y.append(0)"
   ]
  },
  {
   "cell_type": "code",
   "execution_count": 260,
   "metadata": {
    "collapsed": false
   },
   "outputs": [
    {
     "data": {
      "text/plain": [
       "157"
      ]
     },
     "execution_count": 260,
     "metadata": {},
     "output_type": "execute_result"
    }
   ],
   "source": [
    "len(ratings)"
   ]
  },
  {
   "cell_type": "code",
   "execution_count": 261,
   "metadata": {
    "collapsed": false
   },
   "outputs": [],
   "source": [
    "y = np.array(y)"
   ]
  },
  {
   "cell_type": "code",
   "execution_count": 262,
   "metadata": {
    "collapsed": false
   },
   "outputs": [
    {
     "data": {
      "text/plain": [
       "array([\"Anne of Green Gables\"\t(1985)\t(TV-G),\n",
       "       \"Anne of Green Gables: The Sequel\"\t(1987)\t(Unknown),\n",
       "       \"Belle et Sébastien\"\t(1965)\t(Unknown),\n",
       "       \"D'Artacan y los tres mosqueperros\"\t(1981)\t(Unknown),\n",
       "       \"Heidi\"\t(1993)\t(G), \"Jacob Two-Two\"\t(2003)\t(TV-Y7),\n",
       "       \"La vuelta al mundo de Willy Fog\"\t(1981)\t(TV-G),\n",
       "       \"Road to Avonlea\"\t(1990)\t(PG), \"Taiyô no ko Esteban\"\t(1982)\t(TV-Y7),\n",
       "       \"Tarzan, Lord of the Jungle\"\t(1976)\t(Unknown),\n",
       "       \"The Animals of Farthing Wood\"\t(1993)\t(Unknown),\n",
       "       \"The Baby-Sitters Club\"\t(1990)\t(Unknown),\n",
       "       \"The Colour of Magic\"\t(2008)\t(Not Rated),\n",
       "       \"The Legends of Treasure Island\"\t(1993)\t(Unknown),\n",
       "       \"The Secret Garden\"\t(1975)\t(G), \"The Worst Witch\"\t(1998)\t(Unknown),\n",
       "       \"Tüskevár\"\t(1967)\t(Unknown), 3 Men and a Little Lady\t(1990)\t(PG),\n",
       "       A Girl of the Limberlost\t(1990)\t(Unknown),\n",
       "       A Little Princess\t(1995)\t(G), Alabama Moon\t(2009)\t(PG),\n",
       "       Alan & Naomi\t(1992)\t(PG), Albert\t(2015)\t(Unknown),\n",
       "       Alice in Wonderland\t(1985)\t(TV-PG), Aquamarine\t(2006)\t(PG),\n",
       "       Around the World in 80 Days\t(2004)\t(PG),\n",
       "       Around the World in Eighty Days\t(1956)\t(G), Babe\t(1995)\t(G),\n",
       "       Back Home\t(1989)\t(Unknown),\n",
       "       Back to Hannibal: The Return of Tom Sawyer and Huckleberry Finn\t(1990)\t(Unknown),\n",
       "       Bambi\t(1942)\t(G), Bambi II\t(2006)\t(G),\n",
       "       Because of Winn-Dixie\t(2005)\t(PG), Black Beauty\t(1971)\t(G),\n",
       "       Booky Makes Her Mark\t(2006)\t(Unknown),\n",
       "       Brave New Girl\t(2004)\t(PG-13),\n",
       "       Bridge to Terabithia\t(1985)\t(Unknown),\n",
       "       Bridge to Terabithia\t(2007)\t(PG), Broken\t(2012)\t(Unknown),\n",
       "       Broken\t(2012)\t(Unknown), Captains Courageous\t(1937)\t(Approved),\n",
       "       Captains Courageous\t(1996)\t(PG), Charlotte's Web\t(1973)\t(G),\n",
       "       City of Ember\t(2008)\t(PG),\n",
       "       Confessions of a Teenage Drama Queen\t(2004)\t(PG),\n",
       "       Crin blanc: Le cheval sauvage\t(1953)\t(Passed),\n",
       "       Das fliegende Klassenzimmer\t(2003)\t(Unknown),\n",
       "       Diary of a Wimpy Kid\t(2010)\t(PG),\n",
       "       Die Wilden Hühner und die Liebe\t(2007)\t(Unknown),\n",
       "       Doctor Dolittle\t(1967)\t(G), Drive\t(2011)\t(R),\n",
       "       El viaje de Carol\t(2002)\t(Unknown), En som Hodder\t(2003)\t(Unknown),\n",
       "       Fantastic Beasts and Where to Find Them\t(2016)\t(PG-13),\n",
       "       Fluke\t(1995)\t(PG), Fly Away Home\t(1996)\t(PG),\n",
       "       Freaky Friday\t(2003)\t(PG),\n",
       "       From the Mixed-Up Files of Mrs. Basil E. Frankweiler\t(1973)\t(G),\n",
       "       Good Boy!\t(2003)\t(PG), Harriet the Spy\t(1996)\t(PG),\n",
       "       Harry Potter and the Chamber of Secrets\t(2002)\t(PG),\n",
       "       Harry Potter and the Deathly Hallows: Part 1\t(2010)\t(PG-13),\n",
       "       Harry Potter and the Goblet of Fire\t(2005)\t(PG-13),\n",
       "       Harry Potter and the Half-Blood Prince\t(2009)\t(PG),\n",
       "       Harry Potter and the Order of the Phoenix\t(2007)\t(PG-13),\n",
       "       Harry Potter and the Prisoner of Azkaban\t(2004)\t(PG),\n",
       "       Harry Potter and the Sorcerer's Stone\t(2001)\t(PG), Heidi\t(1968)\t(G),\n",
       "       Hoe overleef ik...?\t(2008)\t(Unknown), Holes\t(2003)\t(PG),\n",
       "       Homeward Bound: The Incredible Journey\t(1993)\t(G), Hoot\t(2006)\t(PG),\n",
       "       How to Train Your Dragon\t(2010)\t(PG),\n",
       "       Hugo och Josefin\t(1967)\t(Unknown), International Velvet\t(1978)\t(PG),\n",
       "       Island of the Blue Dolphins\t(1964)\t(Unknown),\n",
       "       It's a Wonderful Life\t(1946)\t(PG),\n",
       "       Joi Baba Felunath\t(1979)\t(Unknown), Jungle Book\t(1942)\t(Approved),\n",
       "       Kogitsune Heren\t(2006)\t(Unknown), Krishnopokkho\t(2016)\t(Unknown),\n",
       "       Kruimeltje\t(1999)\t(Unknown), Krummerne\t(1991)\t(Not Rated),\n",
       "       L'ours\t(1988)\t(PG), Lantern Hill\t(1989)\t(Unknown),\n",
       "       Lassie Come Home\t(1943)\t(G),\n",
       "       Lille Virgil og Orla Frøsnapper\t(1980)\t(Unknown),\n",
       "       Lippels Traum\t(2009)\t(Unknown), Little Women\t(1933)\t(TV-G),\n",
       "       Little Women\t(1949)\t(Passed), Martian Child\t(2007)\t(PG),\n",
       "       Matilda\t(1996)\t(PG), Mio min Mio\t(1987)\t(PG),\n",
       "       Monte Carlo\t(2011)\t(PG), Mullewapp\t(2009)\t(Unknown),\n",
       "       My Dog Skip\t(2000)\t(PG), Negeri 5 Menara\t(2012)\t(Unknown),\n",
       "       Nono, het Zigzag Kind\t(2012)\t(Unknown), North\t(1994)\t(PG),\n",
       "       Oliver!\t(1968)\t(TV-G), Omoide no Mânî\t(2014)\t(PG),\n",
       "       Opal Dream\t(2006)\t(PG), Pan\t(2015)\t(PG),\n",
       "       Percy Jackson & the Olympians: The Lightning Thief\t(2010)\t(PG),\n",
       "       Percy Jackson: Sea of Monsters\t(2013)\t(PG), Peter Pan\t(2003)\t(PG),\n",
       "       Phatik Chand\t(1983)\t(Unknown), Pietje Bell\t(2002)\t(Unknown),\n",
       "       Pollyanna\t(1960)\t(G), Pollyanna\t(2003)\t(Unknown),\n",
       "       Pünktchen und Anton\t(1999)\t(Unknown),\n",
       "       Ronja Rövardotter\t(1984)\t(Unknown), Run Wild, Run Free\t(1969)\t(G),\n",
       "       Sally Marshall Is Not an Alien\t(1999)\t(Unknown),\n",
       "       Shadow Zone: The Undead Express\t(1996)\t(PG-13),\n",
       "       Simon Birch\t(1998)\t(PG), Spijt!\t(2013)\t(Unknown),\n",
       "       Storm Boy\t(1976)\t(Not Rated), Summertime Blues\t(2009)\t(Unknown),\n",
       "       The Adventures of Huck Finn\t(1993)\t(PG),\n",
       "       The Adventures of Huckleberry Finn\t(1960)\t(Approved),\n",
       "       The Adventures of Tom Sawyer\t(1938)\t(Approved),\n",
       "       The Baby-Sitters Club\t(1995)\t(PG), The Black Stallion\t(1979)\t(G),\n",
       "       The Black Stallion Returns\t(1983)\t(PG), The Borrowers\t(1997)\t(PG),\n",
       "       The Canterville Ghost\t(1986)\t(PG),\n",
       "       The Courtship of Eddie's Father\t(1963)\t(Approved),\n",
       "       The Ghost of Greville Lodge\t(2000)\t(TV-PG),\n",
       "       The Golden Compass\t(2007)\t(PG-13),\n",
       "       The Great Gilly Hopkins\t(2015)\t(PG),\n",
       "       The Indian in the Cupboard\t(1995)\t(PG), The Iron Giant\t(1999)\t(PG),\n",
       "       The Jungle Book\t(2016)\t(PG), The Little Princess\t(1939)\t(G),\n",
       "       The Neverending Story II: The Next Chapter\t(1990)\t(PG),\n",
       "       The Princess Bride\t(1987)\t(PG), The Princess Diaries\t(2001)\t(G),\n",
       "       The Princess Diaries 2: Royal Engagement\t(2004)\t(G),\n",
       "       The Secret Garden\t(1949)\t(Approved), The Secret Garden\t(1987)\t(PG),\n",
       "       The Secret Garden\t(1993)\t(G),\n",
       "       The Sisterhood of the Traveling Pants\t(2005)\t(PG),\n",
       "       The Sisterhood of the Traveling Pants 2\t(2008)\t(PG-13),\n",
       "       The Spiderwick Chronicles\t(2008)\t(PG),\n",
       "       The Three Musketeers\t(1993)\t(PG),\n",
       "       The Trouble with Angels\t(1966)\t(PG), The Worst Witch\t(1986)\t(G),\n",
       "       The Yearling\t(1946)\t(G), The Young Black Stallion\t(2003)\t(G),\n",
       "       Tom Sawyer\t(1973)\t(G), Tom and Huck\t(1995)\t(PG),\n",
       "       Treasure Island\t(1950)\t(PG),\n",
       "       When Zachary Beaver Came to Town\t(2003)\t(PG),\n",
       "       Where the Red Fern Grows\t(1974)\t(G),\n",
       "       Where the Red Fern Grows\t(2003)\t(PG), White Fang\t(1991)\t(PG)], dtype=object)"
      ]
     },
     "execution_count": 262,
     "metadata": {},
     "output_type": "execute_result"
    }
   ],
   "source": [
    "np.array(m_)[np.where(y==1)]"
   ]
  },
  {
   "cell_type": "code",
   "execution_count": 263,
   "metadata": {
    "collapsed": false
   },
   "outputs": [],
   "source": [
    "clf = svm.OneClassSVM(kernel='linear')"
   ]
  },
  {
   "cell_type": "code",
   "execution_count": 264,
   "metadata": {
    "collapsed": false
   },
   "outputs": [
    {
     "data": {
      "text/plain": [
       "OneClassSVM(cache_size=200, coef0=0.0, degree=3, gamma='auto',\n",
       "      kernel='linear', max_iter=-1, nu=0.5, random_state=None,\n",
       "      shrinking=True, tol=0.001, verbose=False)"
      ]
     },
     "execution_count": 264,
     "metadata": {},
     "output_type": "execute_result"
    }
   ],
   "source": [
    "clf.fit(X[np.where(y==1)])"
   ]
  },
  {
   "cell_type": "code",
   "execution_count": 265,
   "metadata": {
    "collapsed": false
   },
   "outputs": [
    {
     "data": {
      "text/plain": [
       "<1x135193 sparse matrix of type '<class 'numpy.float64'>'\n",
       "\twith 3629 stored elements in Compressed Sparse Row format>"
      ]
     },
     "execution_count": 265,
     "metadata": {},
     "output_type": "execute_result"
    }
   ],
   "source": [
    "clf.coef_"
   ]
  },
  {
   "cell_type": "code",
   "execution_count": 266,
   "metadata": {
    "collapsed": false
   },
   "outputs": [],
   "source": [
    "feat_indices = np.argsort(np.abs(clf.coef_.toarray()[0]))[::-1]"
   ]
  },
  {
   "cell_type": "code",
   "execution_count": 267,
   "metadata": {
    "collapsed": false
   },
   "outputs": [
    {
     "data": {
      "text/plain": [
       "-6725.3143314374684"
      ]
     },
     "execution_count": 267,
     "metadata": {},
     "output_type": "execute_result"
    }
   ],
   "source": [
    "clf.intercept_[0]"
   ]
  },
  {
   "cell_type": "code",
   "execution_count": 268,
   "metadata": {
    "collapsed": false
   },
   "outputs": [
    {
     "name": "stdout",
     "output_type": "stream",
     "text": [
      "302.835072953\n",
      "261.736742288\n",
      "96.6606349746\n",
      "86.5780621388\n",
      "86.1667834283\n",
      "82.4491631667\n",
      "67.5579631136\n",
      "66.445799258\n",
      "65.9376853686\n",
      "65.155390354\n",
      "63.9423207202\n",
      "63.3908127302\n",
      "60.7275466741\n",
      "51.8981536142\n",
      "51.039070041\n",
      "47.3903839601\n",
      "46.1103414137\n",
      "43.6227816287\n",
      "42.1031482818\n",
      "40.6485454602\n"
     ]
    }
   ],
   "source": [
    "for i in feat_indices[:20]:\n",
    "    print(clf.coef_.toarray()[0][i])"
   ]
  },
  {
   "cell_type": "code",
   "execution_count": 269,
   "metadata": {
    "collapsed": false
   },
   "outputs": [
    {
     "name": "stdout",
     "output_type": "stream",
     "text": [
      "friendship\n",
      "based-on-novel\n",
      "character-name-in-title\n",
      "family-relationships\n",
      "boy\n",
      "child's-point-of-view\n",
      "children\n",
      "coming-of-age\n",
      "father-son-relationship\n",
      "orphan\n",
      "dog\n",
      "school\n",
      "girl\n",
      "friend\n",
      "teenage-girl\n",
      "f-rated\n",
      "brother-sister-relationship\n",
      "animal\n",
      "father-daughter-relationship\n",
      "mother-daughter-relationship\n",
      "female-protagonist\n",
      "teacher\n",
      "horse\n",
      "19th-century\n",
      "rider-horse-relationship\n",
      "teenager\n",
      "human-animal-relationship\n",
      "love\n",
      "rescue\n",
      "friendship-between-girls\n"
     ]
    }
   ],
   "source": [
    "for i in feat_indices[:30]:\n",
    "    print(vocabulary[i])"
   ]
  },
  {
   "cell_type": "code",
   "execution_count": 270,
   "metadata": {
    "collapsed": false
   },
   "outputs": [],
   "source": [
    "positive = np.where(clf.predict(X) != -1)[0]"
   ]
  },
  {
   "cell_type": "code",
   "execution_count": 271,
   "metadata": {
    "collapsed": false
   },
   "outputs": [
    {
     "data": {
      "text/plain": [
       "480"
      ]
     },
     "execution_count": 271,
     "metadata": {},
     "output_type": "execute_result"
    }
   ],
   "source": [
    "len(positive)"
   ]
  },
  {
   "cell_type": "code",
   "execution_count": 272,
   "metadata": {
    "collapsed": false
   },
   "outputs": [],
   "source": [
    "df = (clf.decision_function(X)).flatten()"
   ]
  },
  {
   "cell_type": "code",
   "execution_count": 273,
   "metadata": {
    "collapsed": true
   },
   "outputs": [],
   "source": [
    "movie_indices = np.argsort(df)[::-1]"
   ]
  },
  {
   "cell_type": "code",
   "execution_count": 274,
   "metadata": {
    "collapsed": false
   },
   "outputs": [
    {
     "name": "stdout",
     "output_type": "stream",
     "text": [
      "Älskande par\t(1964)\t(Unknown)\n",
      "\"Anne of Green Gables\"\t(1985)\t(TV-G)\n",
      "Peter Pan\t(2003)\t(PG)\n",
      "The Night of the Hunter\t(1955)\t(Unrated)\n",
      "Persepolis\t(2007)\t(PG-13)\n",
      "Mysterious Skin\t(2004)\t(NC-17)\n",
      "Nim's Island\t(2008)\t(PG)\n",
      "Hugo\t(2011)\t(PG)\n",
      "Gone with the Wind\t(1939)\t(G)\n",
      "King Arthur: Legend of the Sword\t(2017)\t(PG-13)\n",
      "\"Anne of Green Gables: The Sequel\"\t(1987)\t(Unknown)\n",
      "The Secret Garden\t(1993)\t(G)\n",
      "The Golden Compass\t(2007)\t(PG-13)\n",
      "Carrie\t(1976)\t(R)\n",
      "Willow\t(1988)\t(PG)\n",
      "Cloud Atlas\t(2012)\t(R)\n",
      "La gloire de mon père\t(1990)\t(G)\n",
      "Picnic at Hanging Rock\t(1975)\t(TV-PG)\n",
      "Mistérios de Lisboa\t(2010)\t(Unknown)\n",
      "Giant\t(1956)\t(G)\n"
     ]
    }
   ],
   "source": [
    "for i in movie_indices[:20]:\n",
    "    print(m_[i])\n",
    "    #print(df[i])\n",
    "    #print(m_[i].keywords)\n",
    "    #print()"
   ]
  },
  {
   "cell_type": "code",
   "execution_count": 275,
   "metadata": {
    "collapsed": false
   },
   "outputs": [
    {
     "data": {
      "text/plain": [
       "array([ 5226.47300642,  4876.24095991,  4629.89649685,  4486.93296828,\n",
       "        4273.1408191 ,  3955.46948728,  3955.32321459,  3931.63014887,\n",
       "        3869.34458223,  3833.84698067,  3636.63474993,  3482.28862369,\n",
       "        3427.19379614,  3372.82172663,  3371.22597803,  3294.75674618,\n",
       "        3190.86328499,  3175.74786551,  3154.87494788,  3078.97863203])"
      ]
     },
     "execution_count": 275,
     "metadata": {},
     "output_type": "execute_result"
    }
   ],
   "source": [
    "df[movie_indices[:20]]"
   ]
  },
  {
   "cell_type": "code",
   "execution_count": 276,
   "metadata": {
    "collapsed": false
   },
   "outputs": [
    {
     "name": "stdout",
     "output_type": "stream",
     "text": [
      "Älskande par\t(1964)\t(Unknown)\n",
      "['Drama', 'Romance']\n",
      "5226.47300642\n",
      "\n",
      "\"Anne of Green Gables\"\t(1985)\t(TV-G)\n",
      "['Drama', 'Family']\n",
      "4876.24095991\n",
      "\n",
      "Peter Pan\t(2003)\t(PG)\n",
      "['Adventure', 'Family', 'Fantasy', 'Romance']\n",
      "4629.89649685\n",
      "\n",
      "The Night of the Hunter\t(1955)\t(Unrated)\n",
      "['Crime', 'Drama', 'Film-Noir', 'Thriller']\n",
      "4486.93296828\n",
      "\n",
      "Persepolis\t(2007)\t(PG-13)\n",
      "['Animation', 'Biography', 'Drama', 'War']\n",
      "4273.1408191\n",
      "\n",
      "Mysterious Skin\t(2004)\t(NC-17)\n",
      "['Drama', 'Mystery']\n",
      "3955.46948728\n",
      "\n",
      "Nim's Island\t(2008)\t(PG)\n",
      "['Adventure', 'Comedy', 'Family', 'Fantasy']\n",
      "3955.32321459\n",
      "\n",
      "Hugo\t(2011)\t(PG)\n",
      "['Adventure', 'Drama', 'Family', 'Fantasy', 'Mystery', 'Romance']\n",
      "3931.63014887\n",
      "\n",
      "Gone with the Wind\t(1939)\t(G)\n",
      "['Drama', 'History', 'Romance', 'War']\n",
      "3869.34458223\n",
      "\n",
      "King Arthur: Legend of the Sword\t(2017)\t(PG-13)\n",
      "['Action', 'Adventure', 'Drama', 'Fantasy']\n",
      "3833.84698067\n",
      "\n",
      "\"Anne of Green Gables: The Sequel\"\t(1987)\t(Unknown)\n",
      "['Drama', 'Family', 'Romance']\n",
      "3636.63474993\n",
      "\n",
      "The Secret Garden\t(1993)\t(G)\n",
      "['Drama', 'Family', 'Fantasy']\n",
      "3482.28862369\n",
      "\n",
      "The Golden Compass\t(2007)\t(PG-13)\n",
      "['Adventure', 'Family', 'Fantasy']\n",
      "3427.19379614\n",
      "\n",
      "Carrie\t(1976)\t(R)\n",
      "['Horror']\n",
      "3372.82172663\n",
      "\n",
      "Willow\t(1988)\t(PG)\n",
      "['Action', 'Adventure', 'Drama', 'Fantasy', 'Romance']\n",
      "3371.22597803\n",
      "\n",
      "Cloud Atlas\t(2012)\t(R)\n",
      "['Drama', 'Sci-Fi']\n",
      "3294.75674618\n",
      "\n",
      "La gloire de mon père\t(1990)\t(G)\n",
      "['Adventure', 'Biography', 'Drama']\n",
      "3190.86328499\n",
      "\n",
      "Picnic at Hanging Rock\t(1975)\t(TV-PG)\n",
      "['Drama', 'Mystery']\n",
      "3175.74786551\n",
      "\n",
      "Mistérios de Lisboa\t(2010)\t(Unknown)\n",
      "['Drama', 'Mystery', 'Romance']\n",
      "3154.87494788\n",
      "\n",
      "Giant\t(1956)\t(G)\n",
      "['Drama', 'Western']\n",
      "3078.97863203\n",
      "\n"
     ]
    }
   ],
   "source": [
    "for i in movie_indices[:20]:\n",
    "    print(m_[i])\n",
    "    print(m_[i].genres)\n",
    "    #print(m_[i].keywords)\n",
    "    print(df[i])\n",
    "    print()"
   ]
  }
 ],
 "metadata": {
  "kernelspec": {
   "display_name": "Python 3",
   "language": "python",
   "name": "python3"
  },
  "language_info": {
   "codemirror_mode": {
    "name": "ipython",
    "version": 3
   },
   "file_extension": ".py",
   "mimetype": "text/x-python",
   "name": "python",
   "nbconvert_exporter": "python",
   "pygments_lexer": "ipython3",
   "version": "3.5.1"
  }
 },
 "nbformat": 4,
 "nbformat_minor": 0
}

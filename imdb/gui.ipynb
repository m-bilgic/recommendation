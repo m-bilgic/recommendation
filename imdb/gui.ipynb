{
 "cells": [
  {
   "cell_type": "code",
   "execution_count": 1,
   "metadata": {
    "collapsed": true
   },
   "outputs": [],
   "source": [
    "from tkinter import *\n",
    "from tkinter import ttk\n",
    "import tkinter.font as tkFont\n",
    "from tkinter import font"
   ]
  },
  {
   "cell_type": "code",
   "execution_count": 2,
   "metadata": {
    "collapsed": false
   },
   "outputs": [],
   "source": [
    "from movie import Movie"
   ]
  },
  {
   "cell_type": "code",
   "execution_count": 3,
   "metadata": {
    "collapsed": false
   },
   "outputs": [],
   "source": [
    "from parse import parse_imdb_data"
   ]
  },
  {
   "cell_type": "code",
   "execution_count": 4,
   "metadata": {
    "collapsed": false
   },
   "outputs": [
    {
     "name": "stdout",
     "output_type": "stream",
     "text": [
      "PARSING THE RATINGS FILE\n",
      "PARSING THE GENRES FILE\n",
      "PARSING THE KEYWORDS FILE\n"
     ]
    }
   ],
   "source": [
    "movies = parse_imdb_data()"
   ]
  },
  {
   "cell_type": "code",
   "execution_count": 5,
   "metadata": {
    "collapsed": false
   },
   "outputs": [
    {
     "data": {
      "text/plain": [
       "2169"
      ]
     },
     "execution_count": 5,
     "metadata": {},
     "output_type": "execute_result"
    }
   ],
   "source": [
    "m_ = movies\n",
    "#m_=list(filter(lambda m: m.year>2000, m_))\n",
    "m_=list(filter(lambda m: m.num_ratings>10000, m_))\n",
    "m_=list(filter(lambda m: m.mean_rating>7.5, m_))\n",
    "len(m_)"
   ]
  },
  {
   "cell_type": "code",
   "execution_count": 6,
   "metadata": {
    "collapsed": true
   },
   "outputs": [],
   "source": [
    "def sortby(tree, col, descending):\n",
    "    \"\"\"sort tree contents when a column header is clicked on\"\"\"\n",
    "    # grab values to sort\n",
    "    data = [(tree.set(child, col), child) \\\n",
    "        for child in tree.get_children('')]\n",
    "    # if the data to be sorted is numeric change to float\n",
    "    #data =  change_numeric(data)\n",
    "    # now sort the data in place\n",
    "    if(data[0][0].isnumeric()): # FIX: doesn't work for float\n",
    "        data = [(float(d[0]), d[1]) for d in data]\n",
    "    data.sort(reverse=descending)\n",
    "    for ix, item in enumerate(data):\n",
    "        tree.move(item[1], '', ix)\n",
    "    # switch the heading so it will sort in the opposite direction\n",
    "    tree.heading(col, command=lambda col=col: sortby(tree, col, \\\n",
    "        int(not descending)))"
   ]
  },
  {
   "cell_type": "code",
   "execution_count": 7,
   "metadata": {
    "collapsed": false
   },
   "outputs": [],
   "source": [
    "min_year = min_rating_count = min_mean_rating = float('inf')\n",
    "max_year = max_rating_count = max_mean_rating = float('-inf')\n",
    "for m in m_:\n",
    "    min_year = min((min_year, m.year))\n",
    "    max_year = max((max_year, m.year))\n",
    "    min_rating_count = min((min_rating_count, m.num_ratings))\n",
    "    max_rating_count = max((max_rating_count, m.num_ratings))\n",
    "    min_mean_rating = min((min_mean_rating, m.mean_rating))\n",
    "    max_mean_rating = max((max_mean_rating, m.mean_rating))    "
   ]
  },
  {
   "cell_type": "code",
   "execution_count": 56,
   "metadata": {
    "collapsed": false
   },
   "outputs": [],
   "source": [
    "root = Tk()\n",
    "root.title(\"IMDB MOVIE RECOMMENDER SYSTEM\")\n",
    "\n",
    "mainframe = ttk.Frame(root, padding=\"3 3 12 12\")\n",
    "mainframe.grid(column=0, row=0, sticky=(N, W, E, S))\n",
    "mainframe.columnconfigure(0, weight=1)\n",
    "mainframe.rowconfigure(0, weight=1)\n",
    "\n",
    "filterframe = ttk.Labelframe(mainframe, padding=\"3 3 12 12\", text=\"Filter\")\n",
    "filterframe.grid(column=0, row=0, sticky=(N, E))\n",
    "filterframe['borderwidth'] = 2\n",
    "filterframe['relief'] = 'sunken'\n",
    "\n",
    "yearfilterframe = ttk.Labelframe(filterframe, padding=\"3 3 12 12\", text=\"Year\")\n",
    "yearfilterframe.grid(column=0, row=0, sticky=(N, E))\n",
    "yearfilterframe['borderwidth'] = 2\n",
    "yearfilterframe['relief'] = 'sunken'\n",
    "ttk.Label(yearfilterframe, text=\"MIN\").grid(column=0, row=0, sticky=\"W\")\n",
    "minyear=IntVar()\n",
    "minyear.set(min_year)\n",
    "ttk.Entry(yearfilterframe, textvariable=minyear).grid(column=1, row=0, sticky=\"E\")\n",
    "ttk.Label(yearfilterframe, text=\"MAX\").grid(column=0, row=1, sticky=\"W\")\n",
    "maxyear=IntVar()\n",
    "maxyear.set(max_year)\n",
    "ttk.Entry(yearfilterframe, textvariable=maxyear).grid(column=1, row=1, sticky=\"E\")\n",
    "\n",
    "\n",
    "numratingfilterframe = ttk.Labelframe(filterframe, padding=\"3 3 12 12\", text=\"# of Ratings\")\n",
    "numratingfilterframe.grid(column=0, row=1, sticky=(N, E))\n",
    "numratingfilterframe['borderwidth'] = 2\n",
    "numratingfilterframe['relief'] = 'sunken'\n",
    "ttk.Label(numratingfilterframe, text=\"MIN\").grid(column=0, row=0, sticky=\"E\")\n",
    "minratingcount=IntVar()\n",
    "minratingcount.set(min_rating_count)\n",
    "ttk.Entry(numratingfilterframe, textvariable=minratingcount).grid(column=1, row=0, sticky=\"W\")\n",
    "ttk.Label(numratingfilterframe, text=\"MAX\").grid(column=0, row=1, sticky=\"E\")\n",
    "maxratingcount=IntVar()\n",
    "maxratingcount.set(max_rating_count)\n",
    "ttk.Entry(numratingfilterframe, textvariable=maxratingcount).grid(column=1, row=1, sticky=\"W\")\n",
    "\n",
    "\n",
    "meanratingfilterframe = ttk.Labelframe(filterframe, padding=\"3 3 12 12\", text=\"# of Ratings\")\n",
    "meanratingfilterframe.grid(column=0, row=2, sticky=(N, E))\n",
    "meanratingfilterframe['borderwidth'] = 2\n",
    "meanratingfilterframe['relief'] = 'sunken'\n",
    "ttk.Label(meanratingfilterframe, text=\"MIN\").grid(column=0, row=0, sticky=\"W\")\n",
    "minrating=DoubleVar()\n",
    "minrating.set(min_mean_rating)\n",
    "ttk.Entry(meanratingfilterframe, textvariable=minrating).grid(column=1, row=0, sticky=\"E\")\n",
    "ttk.Label(meanratingfilterframe, text=\"MAX\").grid(column=0, row=1, sticky=\"W\")\n",
    "maxrating=DoubleVar()\n",
    "maxrating.set(max_mean_rating)\n",
    "ttk.Entry(meanratingfilterframe, textvariable=maxrating).grid(column=1, row=1, sticky=\"E\")\n",
    "\n",
    "def filter_data(*args):\n",
    "    remove_iids = set()\n",
    "    data = data_tree.get_children('')\n",
    "    #print(data_tree.set(data[0]))    \n",
    "    for iid in data:\n",
    "        # Year\n",
    "        if float(data_tree.set(iid)['Year']) < minyear.get():\n",
    "            remove_iids.add(iid)\n",
    "        if float(data_tree.set(iid)['Year']) > maxyear.get():\n",
    "            remove_iids.add(iid)\n",
    "        # Rating Count\n",
    "        if float(data_tree.set(iid)['Rating Count']) < minratingcount.get():\n",
    "            remove_iids.add(iid)\n",
    "        if float(data_tree.set(iid)['Rating Count']) > maxratingcount.get():\n",
    "            remove_iids.add(iid)\n",
    "        # MEAN RATING\n",
    "        if float(data_tree.set(iid)['Mean Rating']) < minrating.get():\n",
    "            remove_iids.add(iid)\n",
    "        if float(data_tree.set(iid)['Mean Rating']) > maxrating.get():\n",
    "            remove_iids.add(iid)\n",
    "    #data_tree.delete(list(remove_iids))\n",
    "    for iid in remove_iids:\n",
    "        data_tree.delete(iid)\n",
    "    #TODO\n",
    "    # 1. Update the other fields based on the new filtered data\n",
    "    # 2. There is no way to go back in filtering right now\n",
    "\n",
    "def reset_filters(*args):\n",
    "    print(args)\n",
    "    \n",
    "def search_filter(*args):\n",
    "    remove_iids = set()\n",
    "    data = data_tree.get_children('')\n",
    "    #print(data_tree.set(data[0]))    \n",
    "    for iid in data:\n",
    "        # Year\n",
    "        if data_tree.set(iid)['Title'].find(searchphrase.get()) == -1:\n",
    "            remove_iids.add(iid)        \n",
    "    for iid in remove_iids:\n",
    "        data_tree.delete(iid)\n",
    "    \n",
    "def double_click(e):\n",
    "    item = data_tree.selection()[0]\n",
    "    #print(\"You clicked on\", data_tree.set(item))\n",
    "    #print(m_[int(item)])\n",
    "    tl = Toplevel(root)\n",
    "    #ttk.Label(tl, text=data_tree.set(item)).grid(column=0, row=0, sticky=\"E\")\n",
    "    m = m_[int(item)]\n",
    "    \n",
    "    ttk.Label(tl, text=m.title + \" (\" + str(m.year) + \")\", font=font.Font(family='Helvetica', size=14, weight='bold')).grid(column=0, row=0, sticky=\"W\")\n",
    "    if m.genres is not None:\n",
    "        g = \", \".join(m.genres)\n",
    "        ttk.Label(tl, text=\"Genres: \" + g).grid(column=0, row=1, sticky=\"W\")      \n",
    "    if m.keywords is not None:\n",
    "        #cnames = StringVar(value=countrynames)\n",
    "        kl= Listbox(tl, listvariable=StringVar(value=m.keywords), height=5)\n",
    "        kl.grid(column=0, row=2, sticky=\"nsew\")\n",
    "        vs = ttk.Scrollbar(tl, orient=VERTICAL, command=kl.yview)\n",
    "        kl.configure(yscrollcommand=vs.set)\n",
    "        vs.grid(column=1, row=2, sticky=\"nsew\")\n",
    "        hs = ttk.Scrollbar(tl, orient=HORIZONTAL, command=kl.xview)\n",
    "        kl.configure(xscrollcommand=hs.set)\n",
    "        hs.grid(column=0, row=3, sticky=\"nsew\")\n",
    "    \n",
    "\n",
    "buttonfilterframe = ttk.Frame(filterframe, padding=\"3 3 12 12\")\n",
    "buttonfilterframe.grid(column=0, row=3, sticky=(N, E))\n",
    "\n",
    "ttk.Button(buttonfilterframe, text=\"Filter\", command=filter_data).grid(column=0, row=0, sticky = \"W\")\n",
    "ttk.Button(buttonfilterframe, text=\"Reset\", command=reset_filters).grid(column=1, row=0, sticky = \"E\")\n",
    "\n",
    "#s = Scale(filterframe, orient=HORIZONTAL, length=200, from_=1900, to=2017 , showvalue=True, label=\"Minimum Year\", command=filter_year)\n",
    "#s.grid(column=0, row=0, sticky=W)\n",
    "\n",
    "#s = Scale(filterframe, orient=HORIZONTAL, length=200, from_=0, to=1e3, resolution=1, showvalue=True, label=\"Minimum # Ratings\", command=filter_num_ratings)\n",
    "#s.grid(column=0, row=1, sticky=W)\n",
    "\n",
    "#s = Scale(filterframe, orient=HORIZONTAL, length=200, from_=0.0, to=10.0, resolution=0.1, showvalue=True, label=\"Minimum Mean Rating\")\n",
    "#s.grid(column=0, row=2, sticky=W)\n",
    "\n",
    "\n",
    "\n",
    "\n",
    "dataframe = ttk.Labelframe(mainframe, padding=\"3 3 12 12\", text=\"Data\")\n",
    "dataframe.grid(column=1, row=0, sticky=\"nsew\")\n",
    "dataframe['borderwidth'] = 2\n",
    "dataframe['relief'] = 'sunken'\n",
    "\n",
    "searchfilterframe = ttk.Frame(dataframe, padding=\"3 3 12 12\")\n",
    "searchfilterframe['borderwidth'] = 2\n",
    "searchfilterframe['relief'] = 'sunken'\n",
    "searchfilterframe.grid(column=0, row=0, sticky=\"nsew\")\n",
    "\n",
    "searchphrase = StringVar()\n",
    "ttk.Entry(searchfilterframe, textvariable=searchphrase).grid(column=0, row=0, sticky=\"nsew\")\n",
    "ttk.Button(searchfilterframe, text=\"Search\", command=search_filter).grid(column=1, row=0, sticky=\"nsew\")\n",
    "\n",
    "# some of the following code is borrowed from https://www.daniweb.com/programming/software-development/threads/350266/creating-table-in-python\n",
    "\n",
    "data_header = ['Title', 'Year', 'Rating Count', \"Mean Rating\"]\n",
    "#data = [[m.title, m.year, m.num_ratings, m.mean_rating] for m in m_]\n",
    "\n",
    "data_tree = ttk.Treeview(dataframe, columns=data_header, show=\"headings\", selectmode='browse')\n",
    "\n",
    "vsb = ttk.Scrollbar(dataframe, orient=\"vertical\", command=data_tree.yview)\n",
    "hsb = ttk.Scrollbar(dataframe, orient=\"horizontal\", command=data_tree.xview)\n",
    "\n",
    "data_tree.configure(yscrollcommand=vsb.set, xscrollcommand=hsb.set)\n",
    "data_tree.grid(column=0, row=1, sticky='nsew')\n",
    "\n",
    "data_tree.bind(\"<Double-1>\", double_click)\n",
    "\n",
    "vsb.grid(column=1, row=1, sticky='ns')\n",
    "hsb.grid(column=0, row=2, sticky='ew')\n",
    "\n",
    "dataframe.grid_columnconfigure(0, weight=1)\n",
    "dataframe.grid_rowconfigure(0, weight=1)\n",
    "\n",
    "\n",
    "for col in data_header:\n",
    "    data_tree.heading(col, text=col.title(), command=lambda c=col: sortby(data_tree, c, 0))\n",
    "    # adjust the column's width to the header string\n",
    "    data_tree.column(col, width=tkFont.Font().measure(col.title()))\n",
    "    \n",
    "for i in range(len(m_)):\n",
    "    item = [m_[i].title, m_[i].year, m_[i].num_ratings, m_[i].mean_rating]\n",
    "    data_tree.insert('', 'end', iid = str(i), values=item)\n",
    "    # adjust column's width if necessary to fit each value\n",
    "    for ix, val in enumerate(item):\n",
    "        col_w = tkFont.Font().measure(val)\n",
    "        if data_tree.column(data_header[ix],width=None)<col_w:\n",
    "            data_tree.column(data_header[ix], width=col_w)\n",
    "\n",
    "root.mainloop()"
   ]
  },
  {
   "cell_type": "code",
   "execution_count": null,
   "metadata": {
    "collapsed": true
   },
   "outputs": [],
   "source": []
  }
 ],
 "metadata": {
  "kernelspec": {
   "display_name": "Python 3",
   "language": "python",
   "name": "python3"
  },
  "language_info": {
   "codemirror_mode": {
    "name": "ipython",
    "version": 3
   },
   "file_extension": ".py",
   "mimetype": "text/x-python",
   "name": "python",
   "nbconvert_exporter": "python",
   "pygments_lexer": "ipython3",
   "version": "3.5.1"
  }
 },
 "nbformat": 4,
 "nbformat_minor": 0
}

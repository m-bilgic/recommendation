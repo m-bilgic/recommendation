{
 "cells": [
  {
   "cell_type": "code",
   "execution_count": 1,
   "metadata": {
    "collapsed": true
   },
   "outputs": [],
   "source": [
    "from tkinter import *\n",
    "from tkinter import ttk\n",
    "import tkinter.font as tkFont\n",
    "from tkinter import font"
   ]
  },
  {
   "cell_type": "code",
   "execution_count": 2,
   "metadata": {
    "collapsed": false
   },
   "outputs": [],
   "source": [
    "from movie import Movie"
   ]
  },
  {
   "cell_type": "code",
   "execution_count": 3,
   "metadata": {
    "collapsed": false
   },
   "outputs": [],
   "source": [
    "from parse import parse_imdb_data"
   ]
  },
  {
   "cell_type": "code",
   "execution_count": 4,
   "metadata": {
    "collapsed": true
   },
   "outputs": [],
   "source": [
    "import os\n",
    "import pickle"
   ]
  },
  {
   "cell_type": "code",
   "execution_count": 5,
   "metadata": {
    "collapsed": false
   },
   "outputs": [],
   "source": [
    "if os.path.isfile(\"movies.p\"):\n",
    "    movies = pickle.load(open(\"movies.p\", \"rb\"))\n",
    "else:\n",
    "    movies = parse_imdb_data()\n",
    "    pickle.dump(movies, open( \"movies.p\", \"wb\" ))"
   ]
  },
  {
   "cell_type": "code",
   "execution_count": 6,
   "metadata": {
    "collapsed": false
   },
   "outputs": [
    {
     "data": {
      "text/plain": [
       "30587"
      ]
     },
     "execution_count": 6,
     "metadata": {},
     "output_type": "execute_result"
    }
   ],
   "source": [
    "m_ = movies\n",
    "#m_=list(filter(lambda m: m.year>2000, m_))\n",
    "m_=list(filter(lambda m: m.num_ratings>1000, m_))\n",
    "#m_=list(filter(lambda m: m.mean_rating>8.5, m_))\n",
    "len(m_)"
   ]
  },
  {
   "cell_type": "code",
   "execution_count": 7,
   "metadata": {
    "collapsed": true
   },
   "outputs": [],
   "source": [
    "def sortby(tree, col, descending):\n",
    "    \"\"\"sort tree contents when a column header is clicked on\"\"\"\n",
    "    # grab values to sort\n",
    "    data = [(tree.set(child, col), child) \\\n",
    "        for child in tree.get_children('')]\n",
    "    # if the data to be sorted is numeric change to float\n",
    "    #data =  change_numeric(data)\n",
    "    # now sort the data in place\n",
    "    if(data[0][0].isnumeric()): # FIX: doesn't work for float\n",
    "        data = [(float(d[0]), d[1]) for d in data]\n",
    "    data.sort(reverse=descending)\n",
    "    for ix, item in enumerate(data):\n",
    "        tree.move(item[1], '', ix)\n",
    "    # switch the heading so it will sort in the opposite direction\n",
    "    tree.heading(col, command=lambda col=col: sortby(tree, col, \\\n",
    "        int(not descending)))"
   ]
  },
  {
   "cell_type": "code",
   "execution_count": 8,
   "metadata": {
    "collapsed": false
   },
   "outputs": [],
   "source": [
    "min_year = min_rating_count = min_mean_rating = float('inf')\n",
    "max_year = max_rating_count = max_mean_rating = float('-inf')\n",
    "for m in m_:\n",
    "    min_year = min((min_year, m.year))\n",
    "    max_year = max((max_year, m.year))\n",
    "    min_rating_count = min((min_rating_count, m.num_ratings))\n",
    "    max_rating_count = max((max_rating_count, m.num_ratings))\n",
    "    min_mean_rating = min((min_mean_rating, m.mean_rating))\n",
    "    max_mean_rating = max((max_mean_rating, m.mean_rating))    "
   ]
  },
  {
   "cell_type": "code",
   "execution_count": 9,
   "metadata": {
    "collapsed": true
   },
   "outputs": [],
   "source": [
    "if os.path.isfile(\"ratings.p\"):\n",
    "    ratings = pickle.load(open(\"ratings.p\", \"rb\"))\n",
    "else:\n",
    "    ratings = {}"
   ]
  },
  {
   "cell_type": "code",
   "execution_count": 10,
   "metadata": {
    "collapsed": true
   },
   "outputs": [],
   "source": [
    "ratings = {}"
   ]
  },
  {
   "cell_type": "code",
   "execution_count": 22,
   "metadata": {
    "collapsed": false
   },
   "outputs": [],
   "source": [
    "root = Tk()\n",
    "root.title(\"IMDB MOVIE RECOMMENDER SYSTEM\")\n",
    "\n",
    "mainframe = ttk.Frame(root, padding=\"3 3 12 12\")\n",
    "mainframe.grid(column=0, row=0, sticky=(N, W, E, S))\n",
    "\n",
    "filterframe = ttk.Labelframe(mainframe, padding=\"3 3 12 12\", text=\"Filter\")\n",
    "filterframe.grid(column=0, row=0, sticky=(N, W))\n",
    "filterframe['borderwidth'] = 2\n",
    "filterframe['relief'] = 'sunken'\n",
    "\n",
    "\n",
    "yearfilterframe = ttk.Labelframe(filterframe, padding=\"3 3 12 12\", text=\"Year\")\n",
    "yearfilterframe.grid(column=0, row=0, sticky=(N, E))\n",
    "yearfilterframe['borderwidth'] = 2\n",
    "yearfilterframe['relief'] = 'sunken'\n",
    "ttk.Label(yearfilterframe, text=\"MIN\").grid(column=0, row=0, sticky=\"W\")\n",
    "minyear=IntVar()\n",
    "minyear.set(min_year)\n",
    "ttk.Entry(yearfilterframe, textvariable=minyear).grid(column=1, row=0, sticky=\"E\")\n",
    "ttk.Label(yearfilterframe, text=\"MAX\").grid(column=0, row=1, sticky=\"W\")\n",
    "maxyear=IntVar()\n",
    "maxyear.set(max_year)\n",
    "ttk.Entry(yearfilterframe, textvariable=maxyear).grid(column=1, row=1, sticky=\"E\")\n",
    "\n",
    "\n",
    "numratingfilterframe = ttk.Labelframe(filterframe, padding=\"3 3 12 12\", text=\"# of Ratings\")\n",
    "numratingfilterframe.grid(column=0, row=1, sticky=(N, E))\n",
    "numratingfilterframe['borderwidth'] = 2\n",
    "numratingfilterframe['relief'] = 'sunken'\n",
    "ttk.Label(numratingfilterframe, text=\"MIN\").grid(column=0, row=0, sticky=\"E\")\n",
    "minratingcount=IntVar()\n",
    "minratingcount.set(min_rating_count)\n",
    "ttk.Entry(numratingfilterframe, textvariable=minratingcount).grid(column=1, row=0, sticky=\"W\")\n",
    "ttk.Label(numratingfilterframe, text=\"MAX\").grid(column=0, row=1, sticky=\"E\")\n",
    "maxratingcount=IntVar()\n",
    "maxratingcount.set(max_rating_count)\n",
    "ttk.Entry(numratingfilterframe, textvariable=maxratingcount).grid(column=1, row=1, sticky=\"W\")\n",
    "\n",
    "\n",
    "meanratingfilterframe = ttk.Labelframe(filterframe, padding=\"3 3 12 12\", text=\"# of Ratings\")\n",
    "meanratingfilterframe.grid(column=0, row=2, sticky=(N, E))\n",
    "meanratingfilterframe['borderwidth'] = 2\n",
    "meanratingfilterframe['relief'] = 'sunken'\n",
    "ttk.Label(meanratingfilterframe, text=\"MIN\").grid(column=0, row=0, sticky=\"W\")\n",
    "minrating=DoubleVar()\n",
    "minrating.set(min_mean_rating)\n",
    "ttk.Entry(meanratingfilterframe, textvariable=minrating).grid(column=1, row=0, sticky=\"E\")\n",
    "ttk.Label(meanratingfilterframe, text=\"MAX\").grid(column=0, row=1, sticky=\"W\")\n",
    "maxrating=DoubleVar()\n",
    "maxrating.set(max_mean_rating)\n",
    "ttk.Entry(meanratingfilterframe, textvariable=maxrating).grid(column=1, row=1, sticky=\"E\")\n",
    "\n",
    "phrasefilterframe = ttk.Labelframe(filterframe, padding=\"3 3 12 12\", text=\"Phrase\")\n",
    "phrasefilterframe.grid(column=0, row=3, sticky=\"nsew\")\n",
    "phrasefilterframe['borderwidth'] = 2\n",
    "phrasefilterframe['relief'] = 'sunken'\n",
    "\n",
    "titlephrase = StringVar()\n",
    "ttk.Label(phrasefilterframe, text=\"Title\").grid(column=0, row=0, sticky=\"W\")\n",
    "ttk.Entry(phrasefilterframe, textvariable=titlephrase).grid(column=1, row=0, sticky=\"nsew\")\n",
    "keywordphrase = StringVar()\n",
    "ttk.Label(phrasefilterframe, text=\"Keyword\").grid(column=0, row=1, sticky=\"W\")\n",
    "ttk.Entry(phrasefilterframe, textvariable=keywordphrase).grid(column=1, row=1, sticky=\"nsew\")\n",
    "genrephrase = StringVar()\n",
    "ttk.Label(phrasefilterframe, text=\"Genre\").grid(column=0, row=2, sticky=\"W\")\n",
    "ttk.Entry(phrasefilterframe, textvariable=genrephrase).grid(column=1, row=2, sticky=\"nsew\")\n",
    "\n",
    "removed_iids = set()\n",
    "\n",
    "def filter_data(*args):\n",
    "    remove_iids = set()\n",
    "    data = data_tree.get_children('')\n",
    "    #print(data_tree.set(data[0]))    \n",
    "    for iid in data:\n",
    "        m = m_[int(iid)]\n",
    "        # Year\n",
    "        if m.year < minyear.get():\n",
    "            remove_iids.add(iid)\n",
    "        if m.year > maxyear.get():\n",
    "            remove_iids.add(iid)\n",
    "        # Rating Count\n",
    "        if m.num_ratings < minratingcount.get():\n",
    "            remove_iids.add(iid)\n",
    "        if m.num_ratings > maxratingcount.get():\n",
    "            remove_iids.add(iid)\n",
    "        # MEAN RATING\n",
    "        if m.mean_rating < minrating.get():\n",
    "            remove_iids.add(iid)\n",
    "        if m.mean_rating > maxrating.get():\n",
    "            remove_iids.add(iid)\n",
    "        if m.title.find(titlephrase.get()) == -1:\n",
    "            remove_iids.add(iid)\n",
    "        \n",
    "        if genrephrase.get() != \"\":\n",
    "            if m.genres == None:\n",
    "                remove_iids.add(iid)\n",
    "            else:\n",
    "                gp = False\n",
    "                for g in m.genres:\n",
    "                    if g.find(genrephrase.get()) != -1:\n",
    "                        gp = True\n",
    "                        break\n",
    "                if not gp:\n",
    "                    remove_iids.add(iid)\n",
    "        if keywordphrase.get() != \"\":\n",
    "            if m.keywords == None:\n",
    "                remove_iids.add(iid)\n",
    "            else:\n",
    "                kp = False\n",
    "                for k in m.keywords:\n",
    "                    if k.find(keywordphrase.get()) != -1:\n",
    "                        kp = True\n",
    "                        break\n",
    "                if not kp:\n",
    "                    remove_iids.add(iid)\n",
    "        \n",
    "    #data_tree.delete(list(remove_iids))\n",
    "    for iid in remove_iids:\n",
    "        data_tree.delete(iid)\n",
    "    removed_iids.update(remove_iids)\n",
    "    #TODO\n",
    "    # 1. Update the other fields based on the new filtered data\n",
    "    # 2. There is no way to go back in filtering right now\n",
    "\n",
    "def reset_filters(*args):\n",
    "    for iid in removed_iids:\n",
    "        i = int(iid)\n",
    "        item = [m_[i].title, m_[i].year, m_[i].num_ratings, m_[i].mean_rating]\n",
    "        data_tree.insert('', 'end', iid = str(i), values=item)\n",
    "    sortby(data_tree, 'Title', False)\n",
    "    removed_iids.clear()\n",
    "    #TODO Reset the fields to their default values\n",
    "    \n",
    "def double_click(e):\n",
    "    item = data_tree.selection()[0]\n",
    "    #print(\"You clicked on\", data_tree.set(item))\n",
    "    #print(m_[int(item)])\n",
    "    tl = Toplevel(root)\n",
    "    #ttk.Label(tl, text=data_tree.set(item)).grid(column=0, row=0, sticky=\"E\")\n",
    "    m = m_[int(item)]\n",
    "    \n",
    "    def rate_movie(*args):\n",
    "        #print(m.title)\n",
    "        #print(rating.get())\n",
    "        #ratings[m.title+str(m.year)]=rating.get()\n",
    "        if rating.get() != \"no-opinion\":\n",
    "            ratings[m] = rating.get()\n",
    "        else:\n",
    "            ratings.pop(m, None)\n",
    "        tl.destroy()\n",
    "    \n",
    "    ttk.Label(tl, text=m.title + \" (\" + str(m.year) + \")\", font=font.Font(family='Helvetica', size=14, weight='bold')).grid(column=0, row=0, sticky=\"W\")\n",
    "    if m.genres is not None:\n",
    "        g = \", \".join(m.genres)\n",
    "        ttk.Label(tl, text=\"Genres: \" + g).grid(column=0, row=1, sticky=\"W\")      \n",
    "    if m.keywords is not None:\n",
    "        #cnames = StringVar(value=countrynames)\n",
    "        kl= Listbox(tl, listvariable=StringVar(value=m.keywords), height=5)\n",
    "        kl.grid(column=0, row=2, sticky=\"nsew\")\n",
    "        vs = ttk.Scrollbar(tl, orient=VERTICAL, command=kl.yview)\n",
    "        kl.configure(yscrollcommand=vs.set)\n",
    "        vs.grid(column=1, row=2, sticky=\"nsew\")\n",
    "        hs = ttk.Scrollbar(tl, orient=HORIZONTAL, command=kl.xview)\n",
    "        kl.configure(xscrollcommand=hs.set)\n",
    "        hs.grid(column=0, row=3, sticky=\"nsew\")\n",
    "    rateframe=ttk.Frame(tl, padding=\"3 3 12 12\")\n",
    "    rateframe.grid(column=0, row=4, sticky=\"nsew\")        \n",
    "    rating = StringVar()\n",
    "    if m in ratings:\n",
    "        rating.set(ratings[m])\n",
    "    else:\n",
    "        rating.set(\"no-opinion\")\n",
    "    ttk.Radiobutton(rateframe, text='Like', variable=rating, value='like').grid(column=0, row=0, sticky=\"nsew\")\n",
    "    ttk.Radiobutton(rateframe, text='Dislike', variable=rating, value='dislike').grid(column=1, row=0, sticky=\"nsew\")\n",
    "    ttk.Radiobutton(rateframe, text='No opinion', variable=rating, value='no-opinion').grid(column=2, row=0, sticky=\"nsew\")\n",
    "    ttk.Button(rateframe, text=\"Submit\", command=rate_movie).grid(column=1, row=1, sticky = \"nsew\")\n",
    "        \n",
    "    \n",
    "\n",
    "buttonfilterframe = ttk.Frame(filterframe, padding=\"3 3 12 12\")\n",
    "buttonfilterframe.grid(column=0, row=4, sticky=(N, E))\n",
    "\n",
    "ttk.Button(buttonfilterframe, text=\"Filter\", command=filter_data).grid(column=0, row=0, sticky = \"W\")\n",
    "ttk.Button(buttonfilterframe, text=\"Reset\", command=reset_filters).grid(column=1, row=0, sticky = \"E\")\n",
    "\n",
    "#s = Scale(filterframe, orient=HORIZONTAL, length=200, from_=1900, to=2017 , showvalue=True, label=\"Minimum Year\", command=filter_year)\n",
    "#s.grid(column=0, row=0, sticky=W)\n",
    "\n",
    "#s = Scale(filterframe, orient=HORIZONTAL, length=200, from_=0, to=1e3, resolution=1, showvalue=True, label=\"Minimum # Ratings\", command=filter_num_ratings)\n",
    "#s.grid(column=0, row=1, sticky=W)\n",
    "\n",
    "#s = Scale(filterframe, orient=HORIZONTAL, length=200, from_=0.0, to=10.0, resolution=0.1, showvalue=True, label=\"Minimum Mean Rating\")\n",
    "#s.grid(column=0, row=2, sticky=W)\n",
    "\n",
    "\n",
    "\n",
    "\n",
    "dataframe = ttk.Labelframe(mainframe, padding=\"3 3 12 12\", text=\"Data\")\n",
    "dataframe.grid(column=1, row=0, sticky=\"ne\")\n",
    "dataframe['borderwidth'] = 2\n",
    "dataframe['relief'] = 'sunken'\n",
    "\n",
    "searchfilterframe = ttk.Frame(dataframe, padding=\"3 3 12 12\")\n",
    "searchfilterframe['borderwidth'] = 2\n",
    "searchfilterframe['relief'] = 'sunken'\n",
    "searchfilterframe.grid(column=0, row=0, sticky=\"nsew\")\n",
    "\n",
    "\n",
    "\n",
    "# some of the following code is borrowed from https://www.daniweb.com/programming/software-development/threads/350266/creating-table-in-python\n",
    "\n",
    "data_header = ['Title', 'Year', 'Rating Count', \"Mean Rating\", 'US Certificate']\n",
    "#data = [[m.title, m.year, m.num_ratings, m.mean_rating] for m in m_]\n",
    "\n",
    "data_tree = ttk.Treeview(dataframe, columns=data_header, show=\"headings\", selectmode='browse')\n",
    "\n",
    "vsb = ttk.Scrollbar(dataframe, orient=\"vertical\", command=data_tree.yview)\n",
    "hsb = ttk.Scrollbar(dataframe, orient=\"horizontal\", command=data_tree.xview)\n",
    "\n",
    "data_tree.configure(yscrollcommand=vsb.set, xscrollcommand=hsb.set)\n",
    "data_tree.grid(column=0, row=1, sticky='nsew')\n",
    "\n",
    "data_tree.bind(\"<Double-1>\", double_click)\n",
    "\n",
    "vsb.grid(column=1, row=1, sticky='ns')\n",
    "hsb.grid(column=0, row=2, sticky='ew')\n",
    "\n",
    "dataframe.grid_columnconfigure(0, weight=1)\n",
    "dataframe.grid_rowconfigure(0, weight=1)\n",
    "\n",
    "\n",
    "for col in data_header:\n",
    "    data_tree.heading(col, text=col.title(), command=lambda c=col: sortby(data_tree, c, 0))\n",
    "    # adjust the column's width to the header string\n",
    "    data_tree.column(col, width=tkFont.Font().measure(col.title()))\n",
    "    \n",
    "for i in range(len(m_)):\n",
    "    item = [m_[i].title, m_[i].year, m_[i].num_ratings, m_[i].mean_rating, m_[i].certificate]\n",
    "    data_tree.insert('', 'end', iid = str(i), values=item)\n",
    "    # adjust column's width if necessary to fit each value\n",
    "    for ix, val in enumerate(item):\n",
    "        col_w = tkFont.Font().measure(val)\n",
    "        if data_tree.column(data_header[ix],width=None)<col_w:\n",
    "            data_tree.column(data_header[ix], width=col_w)\n",
    "\n",
    "root.mainloop()"
   ]
  },
  {
   "cell_type": "code",
   "execution_count": 83,
   "metadata": {
    "collapsed": true
   },
   "outputs": [],
   "source": [
    "ratings = {}\n",
    "\n",
    "look_for_genres = set()\n",
    "look_for_genres.update(['Documentary'])\n",
    "\n",
    "look_for_keywords = set()\n",
    "look_for_keywords.update(['nature'])\n",
    "\n",
    "certificates = set()\n",
    "certificates.update([\"G\", \"PG\", \"TV-G\", \"TV-PG\"])\n",
    "\n",
    "\n",
    "for m in m_:\n",
    "    if m.certificate in certificates:\n",
    "        if m.genres is not None:\n",
    "            mgs = set()\n",
    "            mgs.update(m.genres)\n",
    "            if len(look_for_genres.intersection(mgs)) == len(look_for_genres):\n",
    "                #ratings[m] = 'like'\n",
    "                if m.keywords is not None:\n",
    "                    mks = set()\n",
    "                    mks.update(m.keywords)\n",
    "                    if len(look_for_keywords.intersection(mks)) == len(look_for_keywords):\n",
    "                        ratings[m] = 'like'"
   ]
  },
  {
   "cell_type": "code",
   "execution_count": 84,
   "metadata": {
    "collapsed": false
   },
   "outputs": [
    {
     "data": {
      "text/plain": [
       "25"
      ]
     },
     "execution_count": 84,
     "metadata": {},
     "output_type": "execute_result"
    }
   ],
   "source": [
    "len(ratings)"
   ]
  },
  {
   "cell_type": "code",
   "execution_count": 85,
   "metadata": {
    "collapsed": false
   },
   "outputs": [],
   "source": [
    "#for m in ratings:\n",
    "    #print(m)\n",
    "    #print(m.genres)\n",
    "    #print()"
   ]
  },
  {
   "cell_type": "code",
   "execution_count": 86,
   "metadata": {
    "collapsed": true
   },
   "outputs": [],
   "source": [
    "#pickle.dump(ratings, open( \"kidsratings.p\", \"wb\" ))"
   ]
  },
  {
   "cell_type": "code",
   "execution_count": 87,
   "metadata": {
    "collapsed": true
   },
   "outputs": [],
   "source": [
    "# Vectorize\n",
    "# #Ratings, z-scored Mean Rating, #Ratings x z-scored meanrating, Genres, keywords\n",
    "Genres = set()\n",
    "Keywords = set()\n",
    "for m in ratings:\n",
    "    if m.genres is not None:\n",
    "        for g in m.genres:\n",
    "            Genres.add(g)\n",
    "    if m.keywords is not None:\n",
    "        for k in m.keywords:\n",
    "            Keywords.add(k)"
   ]
  },
  {
   "cell_type": "code",
   "execution_count": 88,
   "metadata": {
    "collapsed": false
   },
   "outputs": [
    {
     "data": {
      "text/plain": [
       "9"
      ]
     },
     "execution_count": 88,
     "metadata": {},
     "output_type": "execute_result"
    }
   ],
   "source": [
    "len(Genres)"
   ]
  },
  {
   "cell_type": "code",
   "execution_count": 89,
   "metadata": {
    "collapsed": false
   },
   "outputs": [
    {
     "data": {
      "text/plain": [
       "695"
      ]
     },
     "execution_count": 89,
     "metadata": {},
     "output_type": "execute_result"
    }
   ],
   "source": [
    "len(Keywords)"
   ]
  },
  {
   "cell_type": "code",
   "execution_count": 90,
   "metadata": {
    "collapsed": true
   },
   "outputs": [],
   "source": [
    "Genres = list(Genres)"
   ]
  },
  {
   "cell_type": "code",
   "execution_count": 91,
   "metadata": {
    "collapsed": true
   },
   "outputs": [],
   "source": [
    "Keywords = list(Keywords)"
   ]
  },
  {
   "cell_type": "code",
   "execution_count": 92,
   "metadata": {
    "collapsed": true
   },
   "outputs": [],
   "source": [
    "import numpy as np"
   ]
  },
  {
   "cell_type": "code",
   "execution_count": 93,
   "metadata": {
    "collapsed": true
   },
   "outputs": [],
   "source": [
    "r = []\n",
    "for m in movies:\n",
    "    r.append(m.mean_rating)"
   ]
  },
  {
   "cell_type": "code",
   "execution_count": 94,
   "metadata": {
    "collapsed": false
   },
   "outputs": [],
   "source": [
    "r_mean = np.mean(r)\n",
    "r_var = np.var(r)"
   ]
  },
  {
   "cell_type": "code",
   "execution_count": 95,
   "metadata": {
    "collapsed": true
   },
   "outputs": [],
   "source": [
    "from scipy.sparse import csr_matrix, vstack"
   ]
  },
  {
   "cell_type": "code",
   "execution_count": 96,
   "metadata": {
    "collapsed": false
   },
   "outputs": [],
   "source": [
    "D = []\n",
    "y = []\n",
    "for m in m_:\n",
    "    #if m not in ratings:\n",
    "    #    continue\n",
    "    d = []\n",
    "    #d.append(m.num_ratings)\n",
    "    #d.append((m.mean_rating - r_mean)/r_var)\n",
    "    #d.append(d[0]*d[1])\n",
    "    m_g = set()\n",
    "    if m.genres is not None:\n",
    "        m_g.update(m.genres)\n",
    "    m_k = set()\n",
    "    if m.keywords is not None:\n",
    "        m_k.update(m.keywords)\n",
    "    for g in Genres:\n",
    "        if g in m_g:\n",
    "            d.append(1.)\n",
    "        else:\n",
    "            d.append(0.)\n",
    "    for k in Keywords: # VERY INEFFICIENT. FIX!\n",
    "        if k in m_k:\n",
    "            d.append(1.)\n",
    "        else:\n",
    "            d.append(0.)\n",
    "    D.append(csr_matrix(d))\n",
    "    if m in ratings:\n",
    "        y.append(1)\n",
    "    else:\n",
    "        y.append(0)"
   ]
  },
  {
   "cell_type": "code",
   "execution_count": 97,
   "metadata": {
    "collapsed": false
   },
   "outputs": [
    {
     "data": {
      "text/plain": [
       "30587"
      ]
     },
     "execution_count": 97,
     "metadata": {},
     "output_type": "execute_result"
    }
   ],
   "source": [
    "len(D)"
   ]
  },
  {
   "cell_type": "code",
   "execution_count": 98,
   "metadata": {
    "collapsed": true
   },
   "outputs": [],
   "source": [
    "d = D[0]"
   ]
  },
  {
   "cell_type": "code",
   "execution_count": 99,
   "metadata": {
    "collapsed": false
   },
   "outputs": [],
   "source": [
    "for d_ in D[1:]:\n",
    "    d = vstack([d, d_])"
   ]
  },
  {
   "cell_type": "code",
   "execution_count": 100,
   "metadata": {
    "collapsed": false
   },
   "outputs": [
    {
     "data": {
      "text/plain": [
       "(30587, 704)"
      ]
     },
     "execution_count": 100,
     "metadata": {},
     "output_type": "execute_result"
    }
   ],
   "source": [
    "d.shape"
   ]
  },
  {
   "cell_type": "code",
   "execution_count": 101,
   "metadata": {
    "collapsed": false
   },
   "outputs": [
    {
     "data": {
      "text/plain": [
       "30587"
      ]
     },
     "execution_count": 101,
     "metadata": {},
     "output_type": "execute_result"
    }
   ],
   "source": [
    "len(y)"
   ]
  },
  {
   "cell_type": "code",
   "execution_count": 102,
   "metadata": {
    "collapsed": true
   },
   "outputs": [],
   "source": [
    "y = np.array(y)"
   ]
  },
  {
   "cell_type": "code",
   "execution_count": 103,
   "metadata": {
    "collapsed": false
   },
   "outputs": [
    {
     "data": {
      "text/plain": [
       "<25x704 sparse matrix of type '<class 'numpy.float64'>'\n",
       "\twith 957 stored elements in Compressed Sparse Row format>"
      ]
     },
     "execution_count": 103,
     "metadata": {},
     "output_type": "execute_result"
    }
   ],
   "source": [
    "d[np.where(y==1)]"
   ]
  },
  {
   "cell_type": "code",
   "execution_count": 104,
   "metadata": {
    "collapsed": true
   },
   "outputs": [],
   "source": [
    "from sklearn import svm\n",
    "from sklearn.preprocessing import normalize"
   ]
  },
  {
   "cell_type": "code",
   "execution_count": 105,
   "metadata": {
    "collapsed": false
   },
   "outputs": [],
   "source": [
    "d = normalize(d)"
   ]
  },
  {
   "cell_type": "code",
   "execution_count": 106,
   "metadata": {
    "collapsed": false
   },
   "outputs": [],
   "source": [
    "clf = svm.OneClassSVM(kernel='linear')"
   ]
  },
  {
   "cell_type": "code",
   "execution_count": 107,
   "metadata": {
    "collapsed": false
   },
   "outputs": [
    {
     "data": {
      "text/plain": [
       "OneClassSVM(cache_size=200, coef0=0.0, degree=3, gamma='auto',\n",
       "      kernel='linear', max_iter=-1, nu=0.5, random_state=None,\n",
       "      shrinking=True, tol=0.001, verbose=False)"
      ]
     },
     "execution_count": 107,
     "metadata": {},
     "output_type": "execute_result"
    }
   ],
   "source": [
    "clf.fit(d[np.where(y==1)])"
   ]
  },
  {
   "cell_type": "code",
   "execution_count": 108,
   "metadata": {
    "collapsed": false
   },
   "outputs": [
    {
     "data": {
      "text/plain": [
       "<1x704 sparse matrix of type '<class 'numpy.float64'>'\n",
       "\twith 695 stored elements in Compressed Sparse Row format>"
      ]
     },
     "execution_count": 108,
     "metadata": {},
     "output_type": "execute_result"
    }
   ],
   "source": [
    "clf.coef_"
   ]
  },
  {
   "cell_type": "code",
   "execution_count": 109,
   "metadata": {
    "collapsed": false
   },
   "outputs": [],
   "source": [
    "indices = np.argsort(np.abs(clf.coef_.toarray()[0]))[::-1]"
   ]
  },
  {
   "cell_type": "code",
   "execution_count": 110,
   "metadata": {
    "collapsed": false
   },
   "outputs": [
    {
     "name": "stdout",
     "output_type": "stream",
     "text": [
      "2.01479351869\n",
      "2.01479351869\n",
      "0.502038351525\n",
      "0.492041148973\n",
      "0.463418885484\n",
      "0.461206965958\n",
      "0.441293499162\n",
      "0.389214893561\n",
      "0.382033747798\n",
      "0.376611201898\n",
      "0.373989033135\n",
      "0.371195533367\n",
      "0.366094744509\n",
      "0.361077440554\n",
      "0.358154250821\n",
      "0.352931584756\n",
      "0.332718736208\n",
      "0.329244108495\n",
      "0.32313140022\n",
      "0.302215187847\n",
      "0.299053328095\n",
      "0.293704264368\n",
      "0.291614222049\n",
      "0.281165319843\n",
      "0.279354282467\n",
      "0.279138071577\n",
      "0.266096789031\n",
      "0.264823059705\n",
      "0.264823059705\n",
      "0.264823059705\n",
      "0.253744711798\n",
      "0.253744711798\n",
      "0.253744711798\n",
      "0.251236999096\n",
      "0.251236999096\n",
      "0.251036021606\n",
      "0.244941215686\n",
      "0.240581552044\n",
      "0.240581552044\n",
      "0.240581552044\n",
      "0.240542374475\n",
      "0.239946326095\n",
      "0.238328265159\n",
      "0.237186646706\n",
      "0.237186646706\n",
      "0.230478375656\n",
      "0.230012034283\n",
      "0.230012034283\n",
      "0.230012034283\n",
      "0.230012034283\n",
      "0.230012034283\n",
      "0.230012034283\n",
      "0.230012034283\n",
      "0.22766288454\n",
      "0.227517718778\n",
      "0.226783166341\n",
      "0.225825653776\n",
      "0.225825653776\n",
      "0.224582365192\n",
      "0.224278398376\n",
      "0.224278398376\n",
      "0.215867563016\n",
      "0.215867563016\n",
      "0.214075409895\n",
      "0.213392412383\n",
      "0.210954113168\n",
      "0.206399612578\n",
      "0.206399612578\n",
      "0.201469528935\n",
      "0.19959402668\n",
      "0.197913309283\n",
      "0.197913309283\n",
      "0.197913309283\n",
      "0.196395505644\n",
      "0.194939544063\n",
      "0.191699738055\n",
      "0.185205552836\n",
      "0.178203192794\n",
      "0.174963386786\n",
      "0.174963386786\n",
      "0.174963386786\n",
      "0.174741092019\n",
      "0.171407167133\n",
      "0.171407167133\n",
      "0.171407167133\n",
      "0.168647487744\n",
      "0.168647487744\n",
      "0.168647487744\n",
      "0.168647487744\n",
      "0.168647487744\n",
      "0.168647487744\n",
      "0.168647487744\n",
      "0.168647487744\n",
      "0.168647487744\n",
      "0.168647487744\n",
      "0.168647487744\n",
      "0.168647487744\n",
      "0.168647487744\n",
      "0.168647487744\n",
      "0.168647487744\n"
     ]
    }
   ],
   "source": [
    "for i in indices[:100]:\n",
    "    print(clf.coef_.toarray()[0][i])"
   ]
  },
  {
   "cell_type": "code",
   "execution_count": 111,
   "metadata": {
    "collapsed": false
   },
   "outputs": [
    {
     "name": "stdout",
     "output_type": "stream",
     "text": [
      "nature\n",
      "Documentary\n",
      "voice-over-narration\n",
      "water\n",
      "wildlife\n",
      "nature-documentary\n",
      "africa\n",
      "narration\n",
      "coral-reef\n",
      "river\n",
      "underwater\n",
      "penguin\n",
      "migration\n",
      "survival\n",
      "physicist\n",
      "Short\n",
      "island\n",
      "ice\n",
      "bird\n",
      "one-word-title\n",
      "tv-mini-series\n",
      "human-animal-relationship\n",
      "science\n",
      "moon\n",
      "elephant\n",
      "ocean\n",
      "scientist\n",
      "slow-motion\n",
      "environment\n",
      "time-lapse-photography\n"
     ]
    }
   ],
   "source": [
    "for i in indices[:30]:\n",
    "    if i < len(Genres):\n",
    "        print(Genres[i])\n",
    "    else:\n",
    "        print(Keywords[i-len(Genres)])"
   ]
  },
  {
   "cell_type": "code",
   "execution_count": 112,
   "metadata": {
    "collapsed": false
   },
   "outputs": [
    {
     "data": {
      "text/plain": [
       "(array([ 1482,  2389,  2390,  3115,  3350,  3677,  3976,  3977,  3978,\n",
       "         5095,  5582,  6395,  7176,  8136, 10619, 11901, 15893, 16330,\n",
       "        17927, 18201, 20488, 21374, 26146, 27867, 28918], dtype=int64),)"
      ]
     },
     "execution_count": 112,
     "metadata": {},
     "output_type": "execute_result"
    }
   ],
   "source": [
    "np.where(y==1)"
   ]
  },
  {
   "cell_type": "code",
   "execution_count": 113,
   "metadata": {
    "collapsed": false
   },
   "outputs": [],
   "source": [
    "positive = np.where(clf.predict(d) != -1)[0]"
   ]
  },
  {
   "cell_type": "code",
   "execution_count": 114,
   "metadata": {
    "collapsed": false
   },
   "outputs": [
    {
     "data": {
      "text/plain": [
       "281"
      ]
     },
     "execution_count": 114,
     "metadata": {},
     "output_type": "execute_result"
    }
   ],
   "source": [
    "len(positive)"
   ]
  },
  {
   "cell_type": "code",
   "execution_count": 115,
   "metadata": {
    "collapsed": false
   },
   "outputs": [],
   "source": [
    "df = (clf.decision_function(d)).flatten()"
   ]
  },
  {
   "cell_type": "code",
   "execution_count": 116,
   "metadata": {
    "collapsed": true
   },
   "outputs": [],
   "source": [
    "indices = np.argsort(df)[::-1]"
   ]
  },
  {
   "cell_type": "code",
   "execution_count": 117,
   "metadata": {
    "collapsed": false
   },
   "outputs": [
    {
     "name": "stdout",
     "output_type": "stream",
     "text": [
      "\"The Trials of Life\"\t(1990)\t(Unk)\n",
      "\"The Life of Mammals\"\t(2002)\t(Unk)\n",
      "\"Alone\"\t(2015)\t(Unk)\n",
      "\"Africa\"\t(2013)\t(Unk)\n",
      "\"The National Parks: America's Best Idea\"\t(2009)\t(Unk)\n",
      "\"Life on Earth\"\t(1979)\t(Unk)\n",
      "If a Tree Falls: A Story of the Earth Liberation Front\t(2011)\t(Unrated)\n",
      "\"Planet Earth II\"\t(2016)\t(TV-G)\n",
      "Clinton Cash\t(2016)\t(Unk)\n",
      "Startup.com\t(2001)\t(R)\n",
      "\"Life in the Freezer\"\t(1993)\t(Unk)\n",
      "Hungry for Change\t(2012)\t(Unk)\n",
      "Hurricane of Fun: The Making of Wet Hot\t(2015)\t(Not Rated)\n",
      "The September Issue\t(2009)\t(PG-13)\n",
      "Once in a Lifetime: The Extraordinary Story of the New York Cosmos\t(2006)\t(PG-13)\n",
      "Please Vote for Me\t(2007)\t(Unk)\n",
      "Man vs Snake: The Long and Twisted Tale of Nibbler\t(2015)\t(Unk)\n",
      "Requiem for the American Dream\t(2015)\t(Unk)\n",
      "We Are Legion: The Story of the Hacktivists\t(2012)\t(Unk)\n",
      "More Than a Game\t(2008)\t(PG)\n"
     ]
    }
   ],
   "source": [
    "for i in indices[:20]:\n",
    "    print(m_[i])\n",
    "    #print(df[i])\n",
    "    #print(m_[i].keywords)\n",
    "    #print()"
   ]
  },
  {
   "cell_type": "code",
   "execution_count": 118,
   "metadata": {
    "collapsed": false
   },
   "outputs": [
    {
     "data": {
      "text/plain": [
       "array([ 1.13370742,  0.87839728,  0.81931042,  0.6237964 ,  0.51604214,\n",
       "        0.49007649,  0.39612442,  0.36502607,  0.29915262,  0.29915262,\n",
       "        0.29915262,  0.29915262,  0.29915262,  0.29915262,  0.29915262,\n",
       "        0.29915262,  0.29915262,  0.29915262,  0.29915262,  0.29915262])"
      ]
     },
     "execution_count": 118,
     "metadata": {},
     "output_type": "execute_result"
    }
   ],
   "source": [
    "df[indices[:20]]"
   ]
  },
  {
   "cell_type": "code",
   "execution_count": null,
   "metadata": {
    "collapsed": true
   },
   "outputs": [],
   "source": []
  }
 ],
 "metadata": {
  "kernelspec": {
   "display_name": "Python 3",
   "language": "python",
   "name": "python3"
  },
  "language_info": {
   "codemirror_mode": {
    "name": "ipython",
    "version": 3
   },
   "file_extension": ".py",
   "mimetype": "text/x-python",
   "name": "python",
   "nbconvert_exporter": "python",
   "pygments_lexer": "ipython3",
   "version": "3.5.1"
  }
 },
 "nbformat": 4,
 "nbformat_minor": 0
}

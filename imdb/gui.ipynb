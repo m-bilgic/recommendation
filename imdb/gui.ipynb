{
 "cells": [
  {
   "cell_type": "code",
   "execution_count": 2,
   "metadata": {
    "collapsed": true
   },
   "outputs": [],
   "source": [
    "from tkinter import *\n",
    "from tkinter import ttk\n",
    "import tkinter.font as tkFont\n",
    "from tkinter import font"
   ]
  },
  {
   "cell_type": "code",
   "execution_count": 3,
   "metadata": {
    "collapsed": false
   },
   "outputs": [],
   "source": [
    "from movie import Movie"
   ]
  },
  {
   "cell_type": "code",
   "execution_count": 4,
   "metadata": {
    "collapsed": false
   },
   "outputs": [],
   "source": [
    "from parse import parse_imdb_data"
   ]
  },
  {
   "cell_type": "code",
   "execution_count": 5,
   "metadata": {
    "collapsed": true
   },
   "outputs": [],
   "source": [
    "import os\n",
    "import pickle"
   ]
  },
  {
   "cell_type": "code",
   "execution_count": 6,
   "metadata": {
    "collapsed": false
   },
   "outputs": [],
   "source": [
    "if os.path.isfile(\"movies.p\"):\n",
    "    movies = pickle.load(open(\"movies.p\", \"rb\"))\n",
    "else:\n",
    "    movies = parse_imdb_data()\n",
    "    pickle.dump(movies, open( \"movies.p\", \"wb\" ))"
   ]
  },
  {
   "cell_type": "code",
   "execution_count": 19,
   "metadata": {
    "collapsed": false
   },
   "outputs": [
    {
     "data": {
      "text/plain": [
       "8000"
      ]
     },
     "execution_count": 19,
     "metadata": {},
     "output_type": "execute_result"
    }
   ],
   "source": [
    "m_ = movies\n",
    "#m_=list(filter(lambda m: m.year>2000, m_))\n",
    "m_=list(filter(lambda m: m.num_ratings>10000, m_))\n",
    "#m_=list(filter(lambda m: m.mean_rating>8.5, m_))\n",
    "len(m_)"
   ]
  },
  {
   "cell_type": "code",
   "execution_count": 20,
   "metadata": {
    "collapsed": true
   },
   "outputs": [],
   "source": [
    "def sortby(tree, col, descending):\n",
    "    \"\"\"sort tree contents when a column header is clicked on\"\"\"\n",
    "    # grab values to sort\n",
    "    data = [(tree.set(child, col), child) \\\n",
    "        for child in tree.get_children('')]\n",
    "    # if the data to be sorted is numeric change to float\n",
    "    #data =  change_numeric(data)\n",
    "    # now sort the data in place\n",
    "    if(data[0][0].isnumeric()): # FIX: doesn't work for float\n",
    "        data = [(float(d[0]), d[1]) for d in data]\n",
    "    data.sort(reverse=descending)\n",
    "    for ix, item in enumerate(data):\n",
    "        tree.move(item[1], '', ix)\n",
    "    # switch the heading so it will sort in the opposite direction\n",
    "    tree.heading(col, command=lambda col=col: sortby(tree, col, \\\n",
    "        int(not descending)))"
   ]
  },
  {
   "cell_type": "code",
   "execution_count": 21,
   "metadata": {
    "collapsed": false
   },
   "outputs": [],
   "source": [
    "min_year = min_rating_count = min_mean_rating = float('inf')\n",
    "max_year = max_rating_count = max_mean_rating = float('-inf')\n",
    "for m in m_:\n",
    "    min_year = min((min_year, m.year))\n",
    "    max_year = max((max_year, m.year))\n",
    "    min_rating_count = min((min_rating_count, m.num_ratings))\n",
    "    max_rating_count = max((max_rating_count, m.num_ratings))\n",
    "    min_mean_rating = min((min_mean_rating, m.mean_rating))\n",
    "    max_mean_rating = max((max_mean_rating, m.mean_rating))    "
   ]
  },
  {
   "cell_type": "code",
   "execution_count": 10,
   "metadata": {
    "collapsed": true
   },
   "outputs": [],
   "source": [
    "if os.path.isfile(\"ratings.p\"):\n",
    "    ratings = pickle.load(open(\"ratings.p\", \"rb\"))\n",
    "else:\n",
    "    ratings = {}"
   ]
  },
  {
   "cell_type": "code",
   "execution_count": 157,
   "metadata": {
    "collapsed": true
   },
   "outputs": [],
   "source": [
    "ratings = {}"
   ]
  },
  {
   "cell_type": "code",
   "execution_count": 158,
   "metadata": {
    "collapsed": false
   },
   "outputs": [],
   "source": [
    "root = Tk()\n",
    "root.title(\"IMDB MOVIE RECOMMENDER SYSTEM\")\n",
    "\n",
    "mainframe = ttk.Frame(root, padding=\"3 3 12 12\")\n",
    "mainframe.grid(column=0, row=0, sticky=(N, W, E, S))\n",
    "\n",
    "filterframe = ttk.Labelframe(mainframe, padding=\"3 3 12 12\", text=\"Filter\")\n",
    "filterframe.grid(column=0, row=0, sticky=(N, W))\n",
    "filterframe['borderwidth'] = 2\n",
    "filterframe['relief'] = 'sunken'\n",
    "\n",
    "\n",
    "yearfilterframe = ttk.Labelframe(filterframe, padding=\"3 3 12 12\", text=\"Year\")\n",
    "yearfilterframe.grid(column=0, row=0, sticky=(N, E))\n",
    "yearfilterframe['borderwidth'] = 2\n",
    "yearfilterframe['relief'] = 'sunken'\n",
    "ttk.Label(yearfilterframe, text=\"MIN\").grid(column=0, row=0, sticky=\"W\")\n",
    "minyear=IntVar()\n",
    "minyear.set(min_year)\n",
    "ttk.Entry(yearfilterframe, textvariable=minyear).grid(column=1, row=0, sticky=\"E\")\n",
    "ttk.Label(yearfilterframe, text=\"MAX\").grid(column=0, row=1, sticky=\"W\")\n",
    "maxyear=IntVar()\n",
    "maxyear.set(max_year)\n",
    "ttk.Entry(yearfilterframe, textvariable=maxyear).grid(column=1, row=1, sticky=\"E\")\n",
    "\n",
    "\n",
    "numratingfilterframe = ttk.Labelframe(filterframe, padding=\"3 3 12 12\", text=\"# of Ratings\")\n",
    "numratingfilterframe.grid(column=0, row=1, sticky=(N, E))\n",
    "numratingfilterframe['borderwidth'] = 2\n",
    "numratingfilterframe['relief'] = 'sunken'\n",
    "ttk.Label(numratingfilterframe, text=\"MIN\").grid(column=0, row=0, sticky=\"E\")\n",
    "minratingcount=IntVar()\n",
    "minratingcount.set(min_rating_count)\n",
    "ttk.Entry(numratingfilterframe, textvariable=minratingcount).grid(column=1, row=0, sticky=\"W\")\n",
    "ttk.Label(numratingfilterframe, text=\"MAX\").grid(column=0, row=1, sticky=\"E\")\n",
    "maxratingcount=IntVar()\n",
    "maxratingcount.set(max_rating_count)\n",
    "ttk.Entry(numratingfilterframe, textvariable=maxratingcount).grid(column=1, row=1, sticky=\"W\")\n",
    "\n",
    "\n",
    "meanratingfilterframe = ttk.Labelframe(filterframe, padding=\"3 3 12 12\", text=\"# of Ratings\")\n",
    "meanratingfilterframe.grid(column=0, row=2, sticky=(N, E))\n",
    "meanratingfilterframe['borderwidth'] = 2\n",
    "meanratingfilterframe['relief'] = 'sunken'\n",
    "ttk.Label(meanratingfilterframe, text=\"MIN\").grid(column=0, row=0, sticky=\"W\")\n",
    "minrating=DoubleVar()\n",
    "minrating.set(min_mean_rating)\n",
    "ttk.Entry(meanratingfilterframe, textvariable=minrating).grid(column=1, row=0, sticky=\"E\")\n",
    "ttk.Label(meanratingfilterframe, text=\"MAX\").grid(column=0, row=1, sticky=\"W\")\n",
    "maxrating=DoubleVar()\n",
    "maxrating.set(max_mean_rating)\n",
    "ttk.Entry(meanratingfilterframe, textvariable=maxrating).grid(column=1, row=1, sticky=\"E\")\n",
    "\n",
    "phrasefilterframe = ttk.Labelframe(filterframe, padding=\"3 3 12 12\", text=\"Phrase\")\n",
    "phrasefilterframe.grid(column=0, row=3, sticky=\"nsew\")\n",
    "phrasefilterframe['borderwidth'] = 2\n",
    "phrasefilterframe['relief'] = 'sunken'\n",
    "\n",
    "titlephrase = StringVar()\n",
    "ttk.Label(phrasefilterframe, text=\"Title\").grid(column=0, row=0, sticky=\"W\")\n",
    "ttk.Entry(phrasefilterframe, textvariable=titlephrase).grid(column=1, row=0, sticky=\"nsew\")\n",
    "keywordphrase = StringVar()\n",
    "ttk.Label(phrasefilterframe, text=\"Keyword\").grid(column=0, row=1, sticky=\"W\")\n",
    "ttk.Entry(phrasefilterframe, textvariable=keywordphrase).grid(column=1, row=1, sticky=\"nsew\")\n",
    "genrephrase = StringVar()\n",
    "ttk.Label(phrasefilterframe, text=\"Genre\").grid(column=0, row=2, sticky=\"W\")\n",
    "ttk.Entry(phrasefilterframe, textvariable=genrephrase).grid(column=1, row=2, sticky=\"nsew\")\n",
    "\n",
    "removed_iids = set()\n",
    "\n",
    "def filter_data(*args):\n",
    "    remove_iids = set()\n",
    "    data = data_tree.get_children('')\n",
    "    #print(data_tree.set(data[0]))    \n",
    "    for iid in data:\n",
    "        m = m_[int(iid)]\n",
    "        # Year\n",
    "        if m.year < minyear.get():\n",
    "            remove_iids.add(iid)\n",
    "        if m.year > maxyear.get():\n",
    "            remove_iids.add(iid)\n",
    "        # Rating Count\n",
    "        if m.num_ratings < minratingcount.get():\n",
    "            remove_iids.add(iid)\n",
    "        if m.num_ratings > maxratingcount.get():\n",
    "            remove_iids.add(iid)\n",
    "        # MEAN RATING\n",
    "        if m.mean_rating < minrating.get():\n",
    "            remove_iids.add(iid)\n",
    "        if m.mean_rating > maxrating.get():\n",
    "            remove_iids.add(iid)\n",
    "        if m.title.find(titlephrase.get()) == -1:\n",
    "            remove_iids.add(iid)\n",
    "        \n",
    "        if genrephrase.get() != \"\":\n",
    "            if m.genres == None:\n",
    "                remove_iids.add(iid)\n",
    "            else:\n",
    "                gp = False\n",
    "                for g in m.genres:\n",
    "                    if g.find(genrephrase.get()) != -1:\n",
    "                        gp = True\n",
    "                        break\n",
    "                if not gp:\n",
    "                    remove_iids.add(iid)\n",
    "        if keywordphrase.get() != \"\":\n",
    "            if m.keywords == None:\n",
    "                remove_iids.add(iid)\n",
    "            else:\n",
    "                kp = False\n",
    "                for k in m.keywords:\n",
    "                    if k.find(keywordphrase.get()) != -1:\n",
    "                        kp = True\n",
    "                        break\n",
    "                if not kp:\n",
    "                    remove_iids.add(iid)\n",
    "        \n",
    "    #data_tree.delete(list(remove_iids))\n",
    "    for iid in remove_iids:\n",
    "        data_tree.delete(iid)\n",
    "    removed_iids.update(remove_iids)\n",
    "    #TODO\n",
    "    # 1. Update the other fields based on the new filtered data\n",
    "    # 2. There is no way to go back in filtering right now\n",
    "\n",
    "def reset_filters(*args):\n",
    "    for iid in removed_iids:\n",
    "        i = int(iid)\n",
    "        item = [m_[i].title, m_[i].year, m_[i].num_ratings, m_[i].mean_rating]\n",
    "        data_tree.insert('', 'end', iid = str(i), values=item)\n",
    "    sortby(data_tree, 'Title', False)\n",
    "    removed_iids.clear()\n",
    "    #TODO Reset the fields to their default values\n",
    "    \n",
    "def double_click(e):\n",
    "    item = data_tree.selection()[0]\n",
    "    #print(\"You clicked on\", data_tree.set(item))\n",
    "    #print(m_[int(item)])\n",
    "    tl = Toplevel(root)\n",
    "    #ttk.Label(tl, text=data_tree.set(item)).grid(column=0, row=0, sticky=\"E\")\n",
    "    m = m_[int(item)]\n",
    "    \n",
    "    def rate_movie(*args):\n",
    "        #print(m.title)\n",
    "        #print(rating.get())\n",
    "        #ratings[m.title+str(m.year)]=rating.get()\n",
    "        if rating.get() != \"no-opinion\":\n",
    "            ratings[m] = rating.get()\n",
    "        else:\n",
    "            ratings.pop(m, None)\n",
    "        tl.destroy()\n",
    "    \n",
    "    ttk.Label(tl, text=m.title + \" (\" + str(m.year) + \")\", font=font.Font(family='Helvetica', size=14, weight='bold')).grid(column=0, row=0, sticky=\"W\")\n",
    "    if m.genres is not None:\n",
    "        g = \", \".join(m.genres)\n",
    "        ttk.Label(tl, text=\"Genres: \" + g).grid(column=0, row=1, sticky=\"W\")      \n",
    "    if m.keywords is not None:\n",
    "        #cnames = StringVar(value=countrynames)\n",
    "        kl= Listbox(tl, listvariable=StringVar(value=m.keywords), height=5)\n",
    "        kl.grid(column=0, row=2, sticky=\"nsew\")\n",
    "        vs = ttk.Scrollbar(tl, orient=VERTICAL, command=kl.yview)\n",
    "        kl.configure(yscrollcommand=vs.set)\n",
    "        vs.grid(column=1, row=2, sticky=\"nsew\")\n",
    "        hs = ttk.Scrollbar(tl, orient=HORIZONTAL, command=kl.xview)\n",
    "        kl.configure(xscrollcommand=hs.set)\n",
    "        hs.grid(column=0, row=3, sticky=\"nsew\")\n",
    "    rateframe=ttk.Frame(tl, padding=\"3 3 12 12\")\n",
    "    rateframe.grid(column=0, row=4, sticky=\"nsew\")        \n",
    "    rating = StringVar()\n",
    "    if m in ratings:\n",
    "        rating.set(ratings[m])\n",
    "    else:\n",
    "        rating.set(\"no-opinion\")\n",
    "    ttk.Radiobutton(rateframe, text='Like', variable=rating, value='like').grid(column=0, row=0, sticky=\"nsew\")\n",
    "    ttk.Radiobutton(rateframe, text='Dislike', variable=rating, value='dislike').grid(column=1, row=0, sticky=\"nsew\")\n",
    "    ttk.Radiobutton(rateframe, text='No opinion', variable=rating, value='no-opinion').grid(column=2, row=0, sticky=\"nsew\")\n",
    "    ttk.Button(rateframe, text=\"Submit\", command=rate_movie).grid(column=1, row=1, sticky = \"nsew\")\n",
    "        \n",
    "    \n",
    "\n",
    "buttonfilterframe = ttk.Frame(filterframe, padding=\"3 3 12 12\")\n",
    "buttonfilterframe.grid(column=0, row=4, sticky=(N, E))\n",
    "\n",
    "ttk.Button(buttonfilterframe, text=\"Filter\", command=filter_data).grid(column=0, row=0, sticky = \"W\")\n",
    "ttk.Button(buttonfilterframe, text=\"Reset\", command=reset_filters).grid(column=1, row=0, sticky = \"E\")\n",
    "\n",
    "#s = Scale(filterframe, orient=HORIZONTAL, length=200, from_=1900, to=2017 , showvalue=True, label=\"Minimum Year\", command=filter_year)\n",
    "#s.grid(column=0, row=0, sticky=W)\n",
    "\n",
    "#s = Scale(filterframe, orient=HORIZONTAL, length=200, from_=0, to=1e3, resolution=1, showvalue=True, label=\"Minimum # Ratings\", command=filter_num_ratings)\n",
    "#s.grid(column=0, row=1, sticky=W)\n",
    "\n",
    "#s = Scale(filterframe, orient=HORIZONTAL, length=200, from_=0.0, to=10.0, resolution=0.1, showvalue=True, label=\"Minimum Mean Rating\")\n",
    "#s.grid(column=0, row=2, sticky=W)\n",
    "\n",
    "\n",
    "\n",
    "\n",
    "dataframe = ttk.Labelframe(mainframe, padding=\"3 3 12 12\", text=\"Data\")\n",
    "dataframe.grid(column=1, row=0, sticky=\"ne\")\n",
    "dataframe['borderwidth'] = 2\n",
    "dataframe['relief'] = 'sunken'\n",
    "\n",
    "searchfilterframe = ttk.Frame(dataframe, padding=\"3 3 12 12\")\n",
    "searchfilterframe['borderwidth'] = 2\n",
    "searchfilterframe['relief'] = 'sunken'\n",
    "searchfilterframe.grid(column=0, row=0, sticky=\"nsew\")\n",
    "\n",
    "\n",
    "\n",
    "# some of the following code is borrowed from https://www.daniweb.com/programming/software-development/threads/350266/creating-table-in-python\n",
    "\n",
    "data_header = ['Title', 'Year', 'Rating Count', \"Mean Rating\"]\n",
    "#data = [[m.title, m.year, m.num_ratings, m.mean_rating] for m in m_]\n",
    "\n",
    "data_tree = ttk.Treeview(dataframe, columns=data_header, show=\"headings\", selectmode='browse')\n",
    "\n",
    "vsb = ttk.Scrollbar(dataframe, orient=\"vertical\", command=data_tree.yview)\n",
    "hsb = ttk.Scrollbar(dataframe, orient=\"horizontal\", command=data_tree.xview)\n",
    "\n",
    "data_tree.configure(yscrollcommand=vsb.set, xscrollcommand=hsb.set)\n",
    "data_tree.grid(column=0, row=1, sticky='nsew')\n",
    "\n",
    "data_tree.bind(\"<Double-1>\", double_click)\n",
    "\n",
    "vsb.grid(column=1, row=1, sticky='ns')\n",
    "hsb.grid(column=0, row=2, sticky='ew')\n",
    "\n",
    "dataframe.grid_columnconfigure(0, weight=1)\n",
    "dataframe.grid_rowconfigure(0, weight=1)\n",
    "\n",
    "\n",
    "for col in data_header:\n",
    "    data_tree.heading(col, text=col.title(), command=lambda c=col: sortby(data_tree, c, 0))\n",
    "    # adjust the column's width to the header string\n",
    "    data_tree.column(col, width=tkFont.Font().measure(col.title()))\n",
    "    \n",
    "for i in range(len(m_)):\n",
    "    item = [m_[i].title, m_[i].year, m_[i].num_ratings, m_[i].mean_rating]\n",
    "    data_tree.insert('', 'end', iid = str(i), values=item)\n",
    "    # adjust column's width if necessary to fit each value\n",
    "    for ix, val in enumerate(item):\n",
    "        col_w = tkFont.Font().measure(val)\n",
    "        if data_tree.column(data_header[ix],width=None)<col_w:\n",
    "            data_tree.column(data_header[ix], width=col_w)\n",
    "\n",
    "root.mainloop()"
   ]
  },
  {
   "cell_type": "code",
   "execution_count": 379,
   "metadata": {
    "collapsed": true
   },
   "outputs": [],
   "source": [
    "ratings = {}\n",
    "\n",
    "look_for_genres = set()\n",
    "look_for_genres.update(['Family'])\n",
    "\n",
    "look_for_keywords = set()\n",
    "look_for_keywords.update(['based-on-novel', 'mother-son-relationship'])\n",
    "\n",
    "for m in m_:\n",
    "    if m.genres is not None:\n",
    "        mgs = set()\n",
    "        mgs.update(m.genres)\n",
    "        if len(look_for_genres.intersection(mgs)) == len(look_for_genres):\n",
    "            if m.keywords is not None:\n",
    "                mks = set()\n",
    "                mks.update(m.keywords)\n",
    "                if len(look_for_keywords.intersection(mks)) == len(look_for_keywords):\n",
    "                    ratings[m] = 'like'"
   ]
  },
  {
   "cell_type": "code",
   "execution_count": 380,
   "metadata": {
    "collapsed": false
   },
   "outputs": [
    {
     "data": {
      "text/plain": [
       "51"
      ]
     },
     "execution_count": 380,
     "metadata": {},
     "output_type": "execute_result"
    }
   ],
   "source": [
    "len(ratings)"
   ]
  },
  {
   "cell_type": "code",
   "execution_count": 381,
   "metadata": {
    "collapsed": true
   },
   "outputs": [],
   "source": [
    "pickle.dump(ratings, open( \"ratings.p\", \"wb\" ))"
   ]
  },
  {
   "cell_type": "code",
   "execution_count": 382,
   "metadata": {
    "collapsed": true
   },
   "outputs": [],
   "source": [
    "# Vectorize\n",
    "# #Ratings, z-scored Mean Rating, #Ratings x z-scored meanrating, Genres, keywords\n",
    "Genres = set()\n",
    "Keywords = set()\n",
    "for m in ratings:\n",
    "    if m.genres is not None:\n",
    "        for g in m.genres:\n",
    "            Genres.add(g)\n",
    "    if m.keywords is not None:\n",
    "        for k in m.keywords:\n",
    "            Keywords.add(k)"
   ]
  },
  {
   "cell_type": "code",
   "execution_count": 383,
   "metadata": {
    "collapsed": false
   },
   "outputs": [
    {
     "data": {
      "text/plain": [
       "18"
      ]
     },
     "execution_count": 383,
     "metadata": {},
     "output_type": "execute_result"
    }
   ],
   "source": [
    "len(Genres)"
   ]
  },
  {
   "cell_type": "code",
   "execution_count": 384,
   "metadata": {
    "collapsed": false
   },
   "outputs": [
    {
     "data": {
      "text/plain": [
       "4215"
      ]
     },
     "execution_count": 384,
     "metadata": {},
     "output_type": "execute_result"
    }
   ],
   "source": [
    "len(Keywords)"
   ]
  },
  {
   "cell_type": "code",
   "execution_count": 385,
   "metadata": {
    "collapsed": true
   },
   "outputs": [],
   "source": [
    "Genres = list(Genres)"
   ]
  },
  {
   "cell_type": "code",
   "execution_count": 386,
   "metadata": {
    "collapsed": true
   },
   "outputs": [],
   "source": [
    "Keywords = list(Keywords)"
   ]
  },
  {
   "cell_type": "code",
   "execution_count": 387,
   "metadata": {
    "collapsed": true
   },
   "outputs": [],
   "source": [
    "import numpy as np"
   ]
  },
  {
   "cell_type": "code",
   "execution_count": 388,
   "metadata": {
    "collapsed": true
   },
   "outputs": [],
   "source": [
    "r = []\n",
    "for m in movies:\n",
    "    r.append(m.mean_rating)"
   ]
  },
  {
   "cell_type": "code",
   "execution_count": 389,
   "metadata": {
    "collapsed": false
   },
   "outputs": [],
   "source": [
    "r_mean = np.mean(r)\n",
    "r_var = np.var(r)"
   ]
  },
  {
   "cell_type": "code",
   "execution_count": 390,
   "metadata": {
    "collapsed": true
   },
   "outputs": [],
   "source": [
    "from scipy.sparse import csr_matrix, vstack"
   ]
  },
  {
   "cell_type": "code",
   "execution_count": 391,
   "metadata": {
    "collapsed": false
   },
   "outputs": [],
   "source": [
    "D = []\n",
    "y = []\n",
    "for m in m_:\n",
    "    #if m not in ratings:\n",
    "    #    continue\n",
    "    d = []\n",
    "    #d.append(m.num_ratings)\n",
    "    #d.append((m.mean_rating - r_mean)/r_var)\n",
    "    #d.append(d[0]*d[1])\n",
    "    m_g = set()\n",
    "    if m.genres is not None:\n",
    "        m_g.update(m.genres)\n",
    "    m_k = set()\n",
    "    if m.keywords is not None:\n",
    "        m_k.update(m.keywords)\n",
    "    for g in Genres:\n",
    "        if g in m_g:\n",
    "            d.append(1)\n",
    "        else:\n",
    "            d.append(0)\n",
    "    for k in Keywords: # VERY INEFFICIENT. FIX!\n",
    "        if k in m_k:\n",
    "            d.append(1)\n",
    "        else:\n",
    "            d.append(0)\n",
    "    D.append(csr_matrix(d))\n",
    "    if m in ratings:\n",
    "        y.append(1)\n",
    "    else:\n",
    "        y.append(0)"
   ]
  },
  {
   "cell_type": "code",
   "execution_count": 392,
   "metadata": {
    "collapsed": false
   },
   "outputs": [
    {
     "data": {
      "text/plain": [
       "8000"
      ]
     },
     "execution_count": 392,
     "metadata": {},
     "output_type": "execute_result"
    }
   ],
   "source": [
    "len(D)"
   ]
  },
  {
   "cell_type": "code",
   "execution_count": 393,
   "metadata": {
    "collapsed": true
   },
   "outputs": [],
   "source": [
    "d = D[0]"
   ]
  },
  {
   "cell_type": "code",
   "execution_count": 394,
   "metadata": {
    "collapsed": false
   },
   "outputs": [],
   "source": [
    "for d_ in D[1:]:\n",
    "    d = vstack([d, d_])"
   ]
  },
  {
   "cell_type": "code",
   "execution_count": 395,
   "metadata": {
    "collapsed": false
   },
   "outputs": [
    {
     "data": {
      "text/plain": [
       "(8000, 4233)"
      ]
     },
     "execution_count": 395,
     "metadata": {},
     "output_type": "execute_result"
    }
   ],
   "source": [
    "d.shape"
   ]
  },
  {
   "cell_type": "code",
   "execution_count": 396,
   "metadata": {
    "collapsed": false
   },
   "outputs": [
    {
     "data": {
      "text/plain": [
       "8000"
      ]
     },
     "execution_count": 396,
     "metadata": {},
     "output_type": "execute_result"
    }
   ],
   "source": [
    "len(y)"
   ]
  },
  {
   "cell_type": "code",
   "execution_count": 397,
   "metadata": {
    "collapsed": true
   },
   "outputs": [],
   "source": [
    "y = np.array(y)"
   ]
  },
  {
   "cell_type": "code",
   "execution_count": 398,
   "metadata": {
    "collapsed": false
   },
   "outputs": [
    {
     "data": {
      "text/plain": [
       "<51x4233 sparse matrix of type '<class 'numpy.int32'>'\n",
       "\twith 7687 stored elements in Compressed Sparse Row format>"
      ]
     },
     "execution_count": 398,
     "metadata": {},
     "output_type": "execute_result"
    }
   ],
   "source": [
    "d[np.where(y==1)]"
   ]
  },
  {
   "cell_type": "code",
   "execution_count": 399,
   "metadata": {
    "collapsed": true
   },
   "outputs": [],
   "source": [
    "from sklearn import svm"
   ]
  },
  {
   "cell_type": "code",
   "execution_count": 400,
   "metadata": {
    "collapsed": false
   },
   "outputs": [],
   "source": [
    "clf = svm.OneClassSVM(kernel='linear')"
   ]
  },
  {
   "cell_type": "code",
   "execution_count": 401,
   "metadata": {
    "collapsed": false
   },
   "outputs": [
    {
     "data": {
      "text/plain": [
       "OneClassSVM(cache_size=200, coef0=0.0, degree=3, gamma='auto',\n",
       "      kernel='linear', max_iter=-1, nu=0.5, random_state=None,\n",
       "      shrinking=True, tol=0.001, verbose=False)"
      ]
     },
     "execution_count": 401,
     "metadata": {},
     "output_type": "execute_result"
    }
   ],
   "source": [
    "clf.fit(d[np.where(y==1)])"
   ]
  },
  {
   "cell_type": "code",
   "execution_count": 402,
   "metadata": {
    "collapsed": false
   },
   "outputs": [
    {
     "data": {
      "text/plain": [
       "<1x4233 sparse matrix of type '<class 'numpy.float64'>'\n",
       "\twith 3486 stored elements in Compressed Sparse Row format>"
      ]
     },
     "execution_count": 402,
     "metadata": {},
     "output_type": "execute_result"
    }
   ],
   "source": [
    "clf.coef_"
   ]
  },
  {
   "cell_type": "code",
   "execution_count": 413,
   "metadata": {
    "collapsed": false
   },
   "outputs": [],
   "source": [
    "indices = np.argsort(np.abs(clf.coef_.toarray()[0]))[::-1]"
   ]
  },
  {
   "cell_type": "code",
   "execution_count": 414,
   "metadata": {
    "collapsed": false
   },
   "outputs": [
    {
     "name": "stdout",
     "output_type": "stream",
     "text": [
      "25.5\n",
      "25.5\n",
      "25.5\n",
      "21.5347049975\n",
      "14.9999818054\n",
      "14.9633048856\n",
      "13.3581259111\n",
      "12.0931672238\n",
      "10.5487109722\n",
      "10.2340630288\n",
      "9.87406790135\n",
      "8.96619374075\n",
      "8.62582714491\n",
      "8.57091075671\n",
      "8.28244541223\n",
      "8.11864725616\n",
      "7.99689996747\n",
      "7.76851197851\n",
      "7.11821492432\n",
      "6.78017267695\n",
      "6.77916597186\n",
      "6.74940922956\n",
      "6.74289779646\n",
      "6.52943648432\n",
      "6.43279361453\n",
      "5.93389916553\n",
      "5.82758266204\n",
      "5.64209156194\n",
      "5.58397432056\n",
      "5.31368606455\n",
      "4.6833624768\n",
      "4.64558856232\n",
      "4.62959055108\n",
      "4.621592458\n",
      "4.2799844434\n",
      "4.27065524056\n",
      "4.19282433848\n",
      "4.12133471118\n",
      "4.08683109051\n",
      "4.06775774876\n",
      "3.89032411488\n",
      "3.87913827393\n",
      "3.76361889088\n",
      "3.75770761035\n",
      "3.75479601338\n",
      "3.7518883689\n",
      "3.67316360578\n",
      "3.62582674696\n",
      "3.6133109472\n",
      "3.57930211452\n",
      "3.48843912118\n",
      "3.44382507916\n",
      "3.42765348479\n",
      "3.4276314545\n",
      "3.38330256136\n",
      "3.36528570081\n",
      "3.36214627458\n",
      "3.30728170057\n",
      "3.26575465791\n",
      "3.25972978887\n",
      "3.20226537501\n",
      "3.20097459277\n",
      "3.19604295099\n",
      "3.19282433848\n",
      "3.1917060529\n",
      "3.15892899497\n",
      "3.15179335262\n",
      "3.11909003476\n",
      "3.11509196745\n",
      "3.07529076347\n",
      "3.06842885289\n",
      "3.06238663635\n",
      "3.05135566314\n",
      "3.0510882096\n",
      "3.04386841122\n",
      "3.04302265661\n",
      "2.95687051835\n",
      "2.94514975904\n",
      "2.94263834965\n",
      "2.92850300243\n",
      "2.91632914911\n",
      "2.90313437825\n",
      "2.87913827393\n",
      "2.87105051858\n",
      "2.84751881451\n",
      "2.84328723098\n",
      "2.83337617537\n",
      "2.7467169925\n",
      "2.72276102377\n",
      "2.71200786635\n",
      "2.70237391743\n",
      "2.69418893901\n",
      "2.68794637433\n",
      "2.67904632179\n",
      "2.67132102239\n",
      "2.66855847325\n",
      "2.65757662164\n",
      "2.64588326877\n",
      "2.64273033267\n",
      "2.6328925417\n"
     ]
    }
   ],
   "source": [
    "for i in indices[:100]:\n",
    "    print(clf.coef_.toarray()[0][i])"
   ]
  },
  {
   "cell_type": "code",
   "execution_count": 405,
   "metadata": {
    "collapsed": false
   },
   "outputs": [
    {
     "name": "stdout",
     "output_type": "stream",
     "text": [
      "Family\n",
      "based-on-novel\n",
      "mother-son-relationship\n",
      "father-son-relationship\n",
      "family-relationships\n",
      "Adventure\n",
      "Comedy\n",
      "husband-wife-relationship\n",
      "character-name-in-title\n",
      "dog\n",
      "Fantasy\n",
      "rescue\n",
      "Drama\n",
      "mother-daughter-relationship\n",
      "Animation\n",
      "father-daughter-relationship\n",
      "title-spoken-by-character\n",
      "surrealism\n",
      "no-opening-credits\n",
      "friendship\n",
      "brother-brother-relationship\n",
      "brother-sister-relationship\n",
      "lifting-someone-into-the-air\n",
      "boy\n",
      "child's-point-of-view\n",
      "marriage\n",
      "blockbuster\n",
      "school\n",
      "sequel\n",
      "second-part\n"
     ]
    }
   ],
   "source": [
    "for i in indices[:30]:\n",
    "    if i < len(Genres):\n",
    "        print(Genres[i])\n",
    "    else:\n",
    "        print(Keywords[i-len(Genres)])"
   ]
  },
  {
   "cell_type": "code",
   "execution_count": 406,
   "metadata": {
    "collapsed": false
   },
   "outputs": [
    {
     "data": {
      "text/plain": [
       "(array([ 965,  975, 1146, 1325, 1432, 1750, 1906, 1931, 1934, 1943, 1944,\n",
       "        2344, 2345, 2476, 2715, 2731, 3197, 3203, 3310, 3339, 3386, 3606,\n",
       "        3711, 4327, 4331, 4373, 4378, 4549, 4593, 4697, 4899, 4969, 4984,\n",
       "        5280, 5539, 5921, 5922, 6000, 6054, 6241, 6449, 6530, 6656, 6675,\n",
       "        6692, 6907, 7011, 7130, 7294, 7487, 7839], dtype=int64),)"
      ]
     },
     "execution_count": 406,
     "metadata": {},
     "output_type": "execute_result"
    }
   ],
   "source": [
    "np.where(y==1)"
   ]
  },
  {
   "cell_type": "code",
   "execution_count": 407,
   "metadata": {
    "collapsed": false
   },
   "outputs": [],
   "source": [
    "positive = np.where(clf.predict(d) != -1)[0]"
   ]
  },
  {
   "cell_type": "code",
   "execution_count": 408,
   "metadata": {
    "collapsed": false
   },
   "outputs": [
    {
     "data": {
      "text/plain": [
       "69"
      ]
     },
     "execution_count": 408,
     "metadata": {},
     "output_type": "execute_result"
    }
   ],
   "source": [
    "len(positive)"
   ]
  },
  {
   "cell_type": "code",
   "execution_count": 409,
   "metadata": {
    "collapsed": false
   },
   "outputs": [],
   "source": [
    "df = (clf.decision_function(d)).flatten()"
   ]
  },
  {
   "cell_type": "code",
   "execution_count": 410,
   "metadata": {
    "collapsed": true
   },
   "outputs": [],
   "source": [
    "indices = np.argsort(df)[::-1]"
   ]
  },
  {
   "cell_type": "code",
   "execution_count": 411,
   "metadata": {
    "collapsed": false
   },
   "outputs": [
    {
     "name": "stdout",
     "output_type": "stream",
     "text": [
      "Charlie and the Chocolate Factory\t2005\t0000012100\t342451\t6.7\n",
      "Nim's Island\t2008\t0000122000\t29128\t6.0\n",
      "King Arthur: Legend of the Sword\t2017\t0000012211\t29921\t7.3\n",
      "Peter Pan\t2003\t0000012101\t56507\t6.9\n",
      "The Dark Knight\t2008\t0000000124\t1792361\t9.0\n",
      "X-Men: Apocalypse\t2016\t0000012200\t275884\t7.1\n",
      "Beauty and the Beast\t2017\t0000002212\t111698\t7.6\n",
      "Hook\t1991\t0000022100\t192345\t6.7\n",
      "Grimsby\t2016\t0000122100\t63445\t6.2\n",
      "Into the Wild\t2007\t0000001222\t459430\t8.1\n"
     ]
    }
   ],
   "source": [
    "for i in indices[:10]:\n",
    "    print(m_[i])\n",
    "    #print(m_[i].keywords)\n",
    "    #print()"
   ]
  },
  {
   "cell_type": "code",
   "execution_count": 378,
   "metadata": {
    "collapsed": false
   },
   "outputs": [
    {
     "data": {
      "text/plain": [
       "array([ 367.76355454,  337.05728297,  321.88580193,  317.31529801,\n",
       "        315.93917039,  297.48398724,  293.41736817,  285.42782701,\n",
       "        283.76131248,  282.36207652])"
      ]
     },
     "execution_count": 378,
     "metadata": {},
     "output_type": "execute_result"
    }
   ],
   "source": [
    "df[indices[:10]]"
   ]
  },
  {
   "cell_type": "code",
   "execution_count": null,
   "metadata": {
    "collapsed": true
   },
   "outputs": [],
   "source": []
  }
 ],
 "metadata": {
  "kernelspec": {
   "display_name": "Python 3",
   "language": "python",
   "name": "python3"
  },
  "language_info": {
   "codemirror_mode": {
    "name": "ipython",
    "version": 3
   },
   "file_extension": ".py",
   "mimetype": "text/x-python",
   "name": "python",
   "nbconvert_exporter": "python",
   "pygments_lexer": "ipython3",
   "version": "3.5.1"
  }
 },
 "nbformat": 4,
 "nbformat_minor": 0
}

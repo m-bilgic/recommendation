{
 "cells": [
  {
   "cell_type": "code",
   "execution_count": 1,
   "metadata": {
    "collapsed": true
   },
   "outputs": [],
   "source": [
    "from tkinter import *\n",
    "from tkinter import ttk\n",
    "import tkinter.font as tkFont\n",
    "from tkinter import font"
   ]
  },
  {
   "cell_type": "code",
   "execution_count": 2,
   "metadata": {
    "collapsed": false
   },
   "outputs": [],
   "source": [
    "from movie import Movie\n",
    "from parse import parse_imdb_data"
   ]
  },
  {
   "cell_type": "code",
   "execution_count": 3,
   "metadata": {
    "collapsed": true
   },
   "outputs": [],
   "source": [
    "import os\n",
    "import pickle"
   ]
  },
  {
   "cell_type": "code",
   "execution_count": 4,
   "metadata": {
    "collapsed": true
   },
   "outputs": [],
   "source": [
    "from sklearn.feature_extraction.text import TfidfVectorizer, CountVectorizer\n",
    "from sklearn import svm"
   ]
  },
  {
   "cell_type": "code",
   "execution_count": 5,
   "metadata": {
    "collapsed": true
   },
   "outputs": [],
   "source": [
    "import numpy as np\n",
    "from scipy.sparse import csr_matrix, vstack, hstack"
   ]
  },
  {
   "cell_type": "code",
   "execution_count": 6,
   "metadata": {
    "collapsed": false
   },
   "outputs": [],
   "source": [
    "if os.path.isfile(\"movies.p\"):\n",
    "    movies = pickle.load(open(\"movies.p\", \"rb\"))\n",
    "else:\n",
    "    movies = parse_imdb_data()\n",
    "    pickle.dump(movies, open( \"movies.p\", \"wb\" ))"
   ]
  },
  {
   "cell_type": "code",
   "execution_count": 7,
   "metadata": {
    "collapsed": false
   },
   "outputs": [
    {
     "data": {
      "text/plain": [
       "691"
      ]
     },
     "execution_count": 7,
     "metadata": {},
     "output_type": "execute_result"
    }
   ],
   "source": [
    "m_ = movies\n",
    "#m_=list(filter(lambda m: m.year>2000, m_))\n",
    "m_=list(filter(lambda m: m.num_ratings>1000, m_))\n",
    "m_=list(filter(lambda m: m.mean_rating>8.5, m_))\n",
    "len(m_)"
   ]
  },
  {
   "cell_type": "code",
   "execution_count": 8,
   "metadata": {
    "collapsed": true
   },
   "outputs": [],
   "source": [
    "def sortby(tree, col, descending):\n",
    "    \"\"\"sort tree contents when a column header is clicked on\"\"\"\n",
    "    # grab values to sort\n",
    "    data = [(tree.set(child, col), child) \\\n",
    "        for child in tree.get_children('')]\n",
    "    # if the data to be sorted is numeric change to float\n",
    "    #data =  change_numeric(data)\n",
    "    # now sort the data in place\n",
    "    if(data[0][0].isnumeric()): # FIX: doesn't work for float\n",
    "        data = [(float(d[0]), d[1]) for d in data]\n",
    "    data.sort(reverse=descending)\n",
    "    for ix, item in enumerate(data):\n",
    "        tree.move(item[1], '', ix)\n",
    "    # switch the heading so it will sort in the opposite direction\n",
    "    tree.heading(col, command=lambda col=col: sortby(tree, col, \\\n",
    "        int(not descending)))"
   ]
  },
  {
   "cell_type": "code",
   "execution_count": 9,
   "metadata": {
    "collapsed": false
   },
   "outputs": [],
   "source": [
    "min_year = min_rating_count = min_mean_rating = float('inf')\n",
    "max_year = max_rating_count = max_mean_rating = float('-inf')\n",
    "for m in m_:\n",
    "    min_year = min((min_year, m.year))\n",
    "    max_year = max((max_year, m.year))\n",
    "    min_rating_count = min((min_rating_count, m.num_ratings))\n",
    "    max_rating_count = max((max_rating_count, m.num_ratings))\n",
    "    min_mean_rating = min((min_mean_rating, m.mean_rating))\n",
    "    max_mean_rating = max((max_mean_rating, m.mean_rating))    "
   ]
  },
  {
   "cell_type": "code",
   "execution_count": 10,
   "metadata": {
    "collapsed": true
   },
   "outputs": [],
   "source": [
    "if os.path.isfile(\"ratings.p\"):\n",
    "    ratings = pickle.load(open(\"ratings.p\", \"rb\"))\n",
    "else:\n",
    "    ratings = {}"
   ]
  },
  {
   "cell_type": "code",
   "execution_count": 11,
   "metadata": {
    "collapsed": true
   },
   "outputs": [],
   "source": [
    "ratings = {}"
   ]
  },
  {
   "cell_type": "code",
   "execution_count": 31,
   "metadata": {
    "collapsed": false
   },
   "outputs": [
    {
     "name": "stdout",
     "output_type": "stream",
     "text": [
      "Not implemented yet\n",
      "Not implemented yet\n"
     ]
    }
   ],
   "source": [
    "root = Tk()\n",
    "root.title(\"IMDB MOVIE RECOMMENDER SYSTEM\")\n",
    "\n",
    "root.rowconfigure(0, weight=1)\n",
    "root.columnconfigure(0, weight=1)\n",
    "\n",
    "mainframe = ttk.Frame(root, padding=\"3 3 12 12\")\n",
    "mainframe.grid(column=0, row=0, sticky=\"nsew\")\n",
    "mainframe['borderwidth'] = 10\n",
    "mainframe['relief'] = 'sunken'\n",
    "\n",
    "mainframe.rowconfigure(0, weight=1)\n",
    "mainframe.columnconfigure(0, weight=0)\n",
    "mainframe.columnconfigure(1, weight=1)\n",
    "\n",
    "filterframe = ttk.Labelframe(mainframe, padding=\"3 3 12 12\", text=\"Filter\")\n",
    "filterframe.grid(column=0, row=0, sticky=\"nsew\")\n",
    "filterframe['borderwidth'] = 2\n",
    "filterframe['relief'] = 'sunken'\n",
    "\n",
    "\n",
    "dataframe = ttk.Labelframe(mainframe, padding=\"3 3 12 12\", text=\"Data\")\n",
    "dataframe.grid(column=1, row=0, sticky=\"nsew\")\n",
    "dataframe['borderwidth'] = 2\n",
    "dataframe['relief'] = 'sunken'\n",
    "\n",
    "dataframe.grid_columnconfigure(0, weight=1)\n",
    "dataframe.grid_columnconfigure(1, weight=0)\n",
    "dataframe.grid_rowconfigure(0, weight=1)\n",
    "dataframe.grid_rowconfigure(1, weight=0)\n",
    "dataframe.grid_rowconfigure(2, weight=0)\n",
    "\n",
    "\n",
    "yearfilterframe = ttk.Labelframe(filterframe, padding=\"3 3 12 12\", text=\"Year\")\n",
    "yearfilterframe.grid(column=0, row=0, sticky=\"nsew\")\n",
    "yearfilterframe['borderwidth'] = 2\n",
    "yearfilterframe['relief'] = 'sunken'\n",
    "ttk.Label(yearfilterframe, text=\"MIN\").grid(column=0, row=0, sticky=\"W\")\n",
    "minyear=IntVar()\n",
    "minyear.set(min_year)\n",
    "ttk.Entry(yearfilterframe, textvariable=minyear).grid(column=1, row=0, sticky=\"E\")\n",
    "ttk.Label(yearfilterframe, text=\"MAX\").grid(column=0, row=1, sticky=\"W\")\n",
    "maxyear=IntVar()\n",
    "maxyear.set(max_year)\n",
    "ttk.Entry(yearfilterframe, textvariable=maxyear).grid(column=1, row=1, sticky=\"E\")\n",
    "\n",
    "\n",
    "numratingfilterframe = ttk.Labelframe(filterframe, padding=\"3 3 12 12\", text=\"# of Ratings\")\n",
    "numratingfilterframe.grid(column=0, row=1, sticky=\"nsew\")\n",
    "numratingfilterframe['borderwidth'] = 2\n",
    "numratingfilterframe['relief'] = 'sunken'\n",
    "ttk.Label(numratingfilterframe, text=\"MIN\").grid(column=0, row=0, sticky=\"E\")\n",
    "minratingcount=IntVar()\n",
    "minratingcount.set(min_rating_count)\n",
    "ttk.Entry(numratingfilterframe, textvariable=minratingcount).grid(column=1, row=0, sticky=\"W\")\n",
    "ttk.Label(numratingfilterframe, text=\"MAX\").grid(column=0, row=1, sticky=\"E\")\n",
    "maxratingcount=IntVar()\n",
    "maxratingcount.set(max_rating_count)\n",
    "ttk.Entry(numratingfilterframe, textvariable=maxratingcount).grid(column=1, row=1, sticky=\"W\")\n",
    "\n",
    "\n",
    "meanratingfilterframe = ttk.Labelframe(filterframe, padding=\"3 3 12 12\", text=\"Average Rating\")\n",
    "meanratingfilterframe.grid(column=0, row=2, sticky=\"nsew\")\n",
    "meanratingfilterframe['borderwidth'] = 2\n",
    "meanratingfilterframe['relief'] = 'sunken'\n",
    "ttk.Label(meanratingfilterframe, text=\"MIN\").grid(column=0, row=0, sticky=\"W\")\n",
    "minrating=DoubleVar()\n",
    "minrating.set(min_mean_rating)\n",
    "ttk.Entry(meanratingfilterframe, textvariable=minrating).grid(column=1, row=0, sticky=\"E\")\n",
    "ttk.Label(meanratingfilterframe, text=\"MAX\").grid(column=0, row=1, sticky=\"W\")\n",
    "maxrating=DoubleVar()\n",
    "maxrating.set(max_mean_rating)\n",
    "ttk.Entry(meanratingfilterframe, textvariable=maxrating).grid(column=1, row=1, sticky=\"E\")\n",
    "\n",
    "phrasefilterframe = ttk.Labelframe(filterframe, padding=\"3 3 12 12\", text=\"Phrase\")\n",
    "phrasefilterframe.grid(column=0, row=3, sticky=\"nsew\")\n",
    "phrasefilterframe['borderwidth'] = 2\n",
    "phrasefilterframe['relief'] = 'sunken'\n",
    "\n",
    "titlephrase = StringVar()\n",
    "ttk.Label(phrasefilterframe, text=\"Title\").grid(column=0, row=0, sticky=\"W\")\n",
    "ttk.Entry(phrasefilterframe, textvariable=titlephrase).grid(column=1, row=0, sticky=\"nsew\")\n",
    "keywordphrase = StringVar()\n",
    "ttk.Label(phrasefilterframe, text=\"Keyword\").grid(column=0, row=1, sticky=\"W\")\n",
    "ttk.Entry(phrasefilterframe, textvariable=keywordphrase).grid(column=1, row=1, sticky=\"nsew\")\n",
    "genrephrase = StringVar()\n",
    "ttk.Label(phrasefilterframe, text=\"Genre\").grid(column=0, row=2, sticky=\"W\")\n",
    "ttk.Entry(phrasefilterframe, textvariable=genrephrase).grid(column=1, row=2, sticky=\"nsew\")\n",
    "\n",
    "certfilterframe = ttk.Labelframe(filterframe, padding=\"3 3 12 12\", text=\"USA Certificate\")\n",
    "certfilterframe.grid(column=0, row=4, sticky=\"nsew\")\n",
    "certfilterframe['borderwidth'] = 2\n",
    "certfilterframe['relief'] = 'sunken'\n",
    "\n",
    "\n",
    "left_certificates = [\"Approved\", \"Passed\", \"G\", \"PG\", \"PG-13\", \"R\", \"Unrated\", \"Not Rated\"]\n",
    "right_certificates = [\"TV-G\", \"TV-PG\", \"TV-Y\", \"TV-Y7\", \"TV-14\", \"TV-MA\"]\n",
    "cert_vars = []\n",
    "i=0\n",
    "\n",
    "for cert in left_certificates:\n",
    "    cv = StringVar()\n",
    "    cv.set(cert)\n",
    "    ttk.Checkbutton(certfilterframe, text=cert, onvalue = cert, variable=cv).grid(column=0, row=i, sticky=\"w\")\n",
    "    cert_vars.append(cv)\n",
    "    i += 1\n",
    "\n",
    "i=0\n",
    "\n",
    "for cert in right_certificates:    \n",
    "    cv = StringVar()\n",
    "    cv.set(cert)\n",
    "    ttk.Checkbutton(certfilterframe, text=cert, onvalue = cert, variable=cv).grid(column=2, row=i, sticky=\"w\")\n",
    "    cert_vars.append(cv)\n",
    "    i += 1\n",
    "\n",
    "cert_Unk = StringVar()\n",
    "cert_Unk.set(\"Unknown\")\n",
    "ttk.Checkbutton(certfilterframe, text='Unknown', onvalue = \"Unknown\", variable=cert_Unk).grid(column=1, \n",
    "                                                                                            row=max((len(right_certificates),len(left_certificates)))+1, sticky=\"w\")\n",
    "cert_vars.append(cert_Unk)\n",
    "\n",
    "\n",
    "removed_iids = set()\n",
    "\n",
    "def filter_data(*args):\n",
    "    remove_iids = set()\n",
    "    data = data_tree.get_children('')\n",
    "    #print(data_tree.set(data[0]))\n",
    "    display_certificates = set()\n",
    "    \n",
    "    for cv in cert_vars:\n",
    "        if cv.get() != \"0\":\n",
    "            display_certificates.add(cv.get())\n",
    "    \n",
    "    \n",
    "    for iid in data:\n",
    "        m = m_[int(iid)]\n",
    "        # Year\n",
    "        if m.year < minyear.get():\n",
    "            remove_iids.add(iid)\n",
    "        if m.year > maxyear.get():\n",
    "            remove_iids.add(iid)\n",
    "        # Rating Count\n",
    "        if m.num_ratings < minratingcount.get():\n",
    "            remove_iids.add(iid)\n",
    "        if m.num_ratings > maxratingcount.get():\n",
    "            remove_iids.add(iid)\n",
    "        # MEAN RATING\n",
    "        if m.mean_rating < minrating.get():\n",
    "            remove_iids.add(iid)\n",
    "        if m.mean_rating > maxrating.get():\n",
    "            remove_iids.add(iid)\n",
    "        if m.title.find(titlephrase.get()) == -1:\n",
    "            remove_iids.add(iid)\n",
    "        \n",
    "        if genrephrase.get() != \"\":\n",
    "            if m.genres == None:\n",
    "                remove_iids.add(iid)\n",
    "            else:\n",
    "                gp = False\n",
    "                for g in m.genres:\n",
    "                    if g.find(genrephrase.get()) != -1:\n",
    "                        gp = True\n",
    "                        break\n",
    "                if not gp:\n",
    "                    remove_iids.add(iid)\n",
    "        if keywordphrase.get() != \"\":\n",
    "            if m.keywords == None:\n",
    "                remove_iids.add(iid)\n",
    "            else:\n",
    "                kp = False\n",
    "                for k in m.keywords:\n",
    "                    if k.find(keywordphrase.get()) != -1:\n",
    "                        kp = True\n",
    "                        break\n",
    "                if not kp:\n",
    "                    remove_iids.add(iid)\n",
    "        \n",
    "        if m.certificate not in display_certificates:\n",
    "            remove_iids.add(iid)\n",
    "        \n",
    "    #data_tree.delete(list(remove_iids))\n",
    "    for iid in remove_iids:\n",
    "        data_tree.delete(iid)\n",
    "    removed_iids.update(remove_iids)\n",
    "    #TODO\n",
    "    # 1. Update the other fields based on the new filtered data\n",
    "    # 2. There is no way to go back in filtering right now\n",
    "\n",
    "def reset_filters(*args):\n",
    "    for iid in removed_iids:\n",
    "        i = int(iid)\n",
    "        item = [m_[i].title, m_[i].year, m_[i].num_ratings, m_[i].mean_rating, m_[i].certificate]\n",
    "        data_tree.insert('', 'end', iid = str(i), values=item)\n",
    "    sortby(data_tree, 'Title', False)\n",
    "    removed_iids.clear()\n",
    "    #TODO Reset the fields to their default values\n",
    "    \n",
    "def double_click(e):\n",
    "    item = data_tree.selection()[0]\n",
    "    #print(\"You clicked on\", data_tree.set(item))\n",
    "    #print(m_[int(item)])\n",
    "    tl = Toplevel(root)\n",
    "    #ttk.Label(tl, text=data_tree.set(item)).grid(column=0, row=0, sticky=\"E\")\n",
    "    m = m_[int(item)]\n",
    "    \n",
    "    def rate_movie(*args):\n",
    "        #print(m.title)\n",
    "        #print(rating.get())\n",
    "        #ratings[m.title+str(m.year)]=rating.get()\n",
    "        if rating.get() != \"no-opinion\":\n",
    "            ratings[m] = rating.get()\n",
    "        else:\n",
    "            ratings.pop(m, None)\n",
    "        tl.destroy()\n",
    "    \n",
    "    ttk.Label(tl, text=m.title + \" (\" + str(m.year) + \")\", font=font.Font(family='Helvetica', size=14, weight='bold')).grid(column=0, row=0, sticky=\"W\")\n",
    "    if m.genres is not None:\n",
    "        g = \", \".join(m.genres)\n",
    "        ttk.Label(tl, text=\"Genres: \" + g).grid(column=0, row=1, sticky=\"W\")      \n",
    "    if m.keywords is not None:\n",
    "        #cnames = StringVar(value=countrynames)\n",
    "        kl= Listbox(tl, listvariable=StringVar(value=m.keywords), height=5)\n",
    "        kl.grid(column=0, row=2, sticky=\"nsew\")\n",
    "        vs = ttk.Scrollbar(tl, orient=VERTICAL, command=kl.yview)\n",
    "        kl.configure(yscrollcommand=vs.set)\n",
    "        vs.grid(column=1, row=2, sticky=\"nsew\")\n",
    "        hs = ttk.Scrollbar(tl, orient=HORIZONTAL, command=kl.xview)\n",
    "        kl.configure(xscrollcommand=hs.set)\n",
    "        hs.grid(column=0, row=3, sticky=\"nsew\")\n",
    "    rateframe=ttk.Frame(tl, padding=\"3 3 12 12\")\n",
    "    rateframe.grid(column=0, row=4, sticky=\"nsew\")        \n",
    "    rating = StringVar()\n",
    "    if m in ratings:\n",
    "        rating.set(ratings[m])\n",
    "    else:\n",
    "        rating.set(\"no-opinion\")\n",
    "    ttk.Radiobutton(rateframe, text='Like', variable=rating, value='like').grid(column=0, row=0, sticky=\"nsew\")\n",
    "    ttk.Radiobutton(rateframe, text='Dislike', variable=rating, value='dislike').grid(column=1, row=0, sticky=\"nsew\")\n",
    "    ttk.Radiobutton(rateframe, text='No opinion', variable=rating, value='no-opinion').grid(column=2, row=0, sticky=\"nsew\")\n",
    "    ttk.Button(rateframe, text=\"Submit\", command=rate_movie).grid(column=1, row=1, sticky = \"nsew\")\n",
    "        \n",
    "    \n",
    "\n",
    "buttonfilterframe = ttk.Frame(filterframe, padding=\"3 3 12 12\")\n",
    "buttonfilterframe.grid(column=0, row=5, sticky=(N, E))\n",
    "\n",
    "ttk.Button(buttonfilterframe, text=\"Filter\", command=filter_data).grid(column=0, row=0, sticky = \"W\")\n",
    "ttk.Button(buttonfilterframe, text=\"Reset\", command=reset_filters).grid(column=1, row=0, sticky = \"E\")\n",
    "\n",
    "# some of the following code is borrowed from https://www.daniweb.com/programming/software-development/threads/350266/creating-table-in-python\n",
    "\n",
    "data_header = ['Title', 'Year', 'Rating Count', \"Mean Rating\", 'US Certificate']\n",
    "#data = [[m.title, m.year, m.num_ratings, m.mean_rating] for m in m_]\n",
    "\n",
    "data_tree = ttk.Treeview(dataframe, columns=data_header, show=\"headings\", selectmode='browse')\n",
    "\n",
    "vsb = ttk.Scrollbar(dataframe, orient=\"vertical\", command=data_tree.yview)\n",
    "hsb = ttk.Scrollbar(dataframe, orient=\"horizontal\", command=data_tree.xview)\n",
    "\n",
    "data_tree.configure(yscrollcommand=vsb.set, xscrollcommand=hsb.set)\n",
    "data_tree.grid(column=0, row=0, sticky='nsew')\n",
    "\n",
    "data_tree.bind(\"<Double-1>\", double_click)\n",
    "\n",
    "vsb.grid(column=1, row=0, sticky='ns')\n",
    "hsb.grid(column=0, row=1, sticky='ew')\n",
    "\n",
    "def build_a_model_of_the_data(*args):\n",
    "    print(\"Not implemented yet\")\n",
    "\n",
    "ttk.Button(dataframe, text=\"Build a Model of the Data\", command=build_a_model_of_the_data).grid(column=0, row=2, sticky = \"nsew\")\n",
    "\n",
    "\n",
    "for col in data_header:\n",
    "    data_tree.heading(col, text=col.title(), command=lambda c=col: sortby(data_tree, c, 0))\n",
    "    # adjust the column's width to the header string\n",
    "    data_tree.column(col, width=tkFont.Font().measure(col.title()))\n",
    "    \n",
    "for i in range(len(m_)):\n",
    "    item = [m_[i].title, m_[i].year, m_[i].num_ratings, m_[i].mean_rating, m_[i].certificate]\n",
    "    data_tree.insert('', 'end', iid = str(i), values=item)\n",
    "    # adjust column's width if necessary to fit each value\n",
    "    #for ix, val in enumerate(item):\n",
    "     #   col_w = tkFont.Font().measure(val)\n",
    "     #   if data_tree.column(data_header[ix],width=None)<col_w:\n",
    "     #       data_tree.column(data_header[ix], width=col_w)\n",
    "\n",
    "root.mainloop()"
   ]
  },
  {
   "cell_type": "code",
   "execution_count": 12,
   "metadata": {
    "collapsed": true
   },
   "outputs": [],
   "source": [
    "ratings = {}\n",
    "\n",
    "look_for_genres = set()\n",
    "look_for_genres.update(['Documentary'])\n",
    "\n",
    "look_for_keywords = set()\n",
    "look_for_keywords.update(['nature'])\n",
    "\n",
    "certificates = set()\n",
    "certificates.update([\"G\", \"PG\", \"TV-G\", \"TV-PG\"])\n",
    "\n",
    "\n",
    "for m in m_:\n",
    "    if m.certificate in certificates:\n",
    "        if m.genres is not None:\n",
    "            mgs = set()\n",
    "            mgs.update(m.genres)\n",
    "            if len(look_for_genres.intersection(mgs)) == len(look_for_genres):\n",
    "                #ratings[m] = 'like'\n",
    "                if m.keywords is not None:\n",
    "                    mks = set()\n",
    "                    mks.update(m.keywords)\n",
    "                    if len(look_for_keywords.intersection(mks)) == len(look_for_keywords):\n",
    "                        ratings[m] = 'like'"
   ]
  },
  {
   "cell_type": "code",
   "execution_count": 13,
   "metadata": {
    "collapsed": false
   },
   "outputs": [
    {
     "data": {
      "text/plain": [
       "9"
      ]
     },
     "execution_count": 13,
     "metadata": {},
     "output_type": "execute_result"
    }
   ],
   "source": [
    "len(ratings)"
   ]
  },
  {
   "cell_type": "code",
   "execution_count": 27,
   "metadata": {
    "collapsed": true
   },
   "outputs": [],
   "source": [
    "#pickle.dump(ratings, open( \"kidsratings.p\", \"wb\" ))"
   ]
  },
  {
   "cell_type": "code",
   "execution_count": 14,
   "metadata": {
    "collapsed": true
   },
   "outputs": [],
   "source": [
    "r = []\n",
    "for m in movies:\n",
    "    r.append(m.mean_rating)"
   ]
  },
  {
   "cell_type": "code",
   "execution_count": 15,
   "metadata": {
    "collapsed": false
   },
   "outputs": [],
   "source": [
    "r_mean = np.mean(r)\n",
    "r_var = np.var(r)"
   ]
  },
  {
   "cell_type": "code",
   "execution_count": 16,
   "metadata": {
    "collapsed": true
   },
   "outputs": [],
   "source": [
    "Dk = []\n",
    "Dg = []\n",
    "y = []\n",
    "for m in m_:\n",
    "    ms = ''\n",
    "    if m.keywords is not None:\n",
    "        ms = \" \".join(m.keywords)\n",
    "    Dk.append(ms)\n",
    "    mg = ''\n",
    "    if m.genres is not None:\n",
    "        mg = \" \".join(m.genres)\n",
    "    Dg.append(mg)\n",
    "    if m in ratings:\n",
    "        y.append(1)\n",
    "    else:\n",
    "        y.append(0)"
   ]
  },
  {
   "cell_type": "code",
   "execution_count": 17,
   "metadata": {
    "collapsed": false
   },
   "outputs": [
    {
     "data": {
      "text/plain": [
       "691"
      ]
     },
     "execution_count": 17,
     "metadata": {},
     "output_type": "execute_result"
    }
   ],
   "source": [
    "len(y)"
   ]
  },
  {
   "cell_type": "code",
   "execution_count": 18,
   "metadata": {
    "collapsed": false
   },
   "outputs": [],
   "source": [
    "y = np.array(y)"
   ]
  },
  {
   "cell_type": "code",
   "execution_count": 19,
   "metadata": {
    "collapsed": false
   },
   "outputs": [
    {
     "data": {
      "text/plain": [
       "(691, 9864)"
      ]
     },
     "execution_count": 19,
     "metadata": {},
     "output_type": "execute_result"
    }
   ],
   "source": [
    "vocabulary = []\n",
    "vect = CountVectorizer(token_pattern = r'\\b\\S+\\b', lowercase=False)\n",
    "Xg = vect.fit_transform(Dg)\n",
    "vocabulary = vect.get_feature_names()\n",
    "vect = TfidfVectorizer(token_pattern = r'\\b\\S+\\b')\n",
    "Xk = vect.fit_transform(Dk)\n",
    "vocabulary = vocabulary + vect.get_feature_names()\n",
    "X = hstack((Xg, Xk)).tocsr()\n",
    "X.shape"
   ]
  },
  {
   "cell_type": "code",
   "execution_count": 20,
   "metadata": {
    "collapsed": false
   },
   "outputs": [
    {
     "data": {
      "text/plain": [
       "array([\"Human Planet\"\t(2011)\t(TV-PG), \"Planet Earth II\"\t(2016)\t(TV-G),\n",
       "       \"Planet Earth\"\t(2006)\t(TV-G), \"The Blue Planet\"\t(2001)\t(TV-G),\n",
       "       \"The Life of Birds\"\t(1998)\t(TV-PG),\n",
       "       \"Through the Wormhole\"\t(2010)\t(TV-PG),\n",
       "       \"Wonders of Life\"\t(2013)\t(TV-PG),\n",
       "       \"Wonders of the Solar System\"\t(2010)\t(TV-PG),\n",
       "       \"Wonders of the Universe\"\t(2011)\t(TV-PG)], dtype=object)"
      ]
     },
     "execution_count": 20,
     "metadata": {},
     "output_type": "execute_result"
    }
   ],
   "source": [
    "np.array(m_)[np.where(y==1)]"
   ]
  },
  {
   "cell_type": "code",
   "execution_count": 21,
   "metadata": {
    "collapsed": false
   },
   "outputs": [],
   "source": [
    "clf = svm.OneClassSVM(kernel='linear')"
   ]
  },
  {
   "cell_type": "code",
   "execution_count": 22,
   "metadata": {
    "collapsed": false
   },
   "outputs": [
    {
     "data": {
      "text/plain": [
       "OneClassSVM(cache_size=200, coef0=0.0, degree=3, gamma='auto',\n",
       "      kernel='linear', max_iter=-1, nu=0.5, random_state=None,\n",
       "      shrinking=True, tol=0.001, verbose=False)"
      ]
     },
     "execution_count": 22,
     "metadata": {},
     "output_type": "execute_result"
    }
   ],
   "source": [
    "clf.fit(X[np.where(y==1)])"
   ]
  },
  {
   "cell_type": "code",
   "execution_count": 23,
   "metadata": {
    "collapsed": false
   },
   "outputs": [
    {
     "data": {
      "text/plain": [
       "<1x9864 sparse matrix of type '<class 'numpy.float64'>'\n",
       "\twith 181 stored elements in Compressed Sparse Row format>"
      ]
     },
     "execution_count": 23,
     "metadata": {},
     "output_type": "execute_result"
    }
   ],
   "source": [
    "clf.coef_"
   ]
  },
  {
   "cell_type": "code",
   "execution_count": 24,
   "metadata": {
    "collapsed": false
   },
   "outputs": [],
   "source": [
    "feat_indices = np.argsort(np.abs(clf.coef_.toarray()[0]))[::-1]"
   ]
  },
  {
   "cell_type": "code",
   "execution_count": 25,
   "metadata": {
    "collapsed": false
   },
   "outputs": [
    {
     "name": "stdout",
     "output_type": "stream",
     "text": [
      "4.5\n",
      "1.01368736251\n",
      "0.468534963364\n",
      "0.408853304338\n",
      "0.350112905018\n",
      "0.337195097646\n",
      "0.323097262956\n",
      "0.323097262956\n",
      "0.322950822292\n",
      "0.317225468001\n",
      "0.317225468001\n",
      "0.303056790284\n",
      "0.303056790284\n",
      "0.292422244614\n",
      "0.280333539643\n",
      "0.279855654104\n",
      "0.269992162818\n",
      "0.263546950269\n",
      "0.263117530996\n",
      "0.240112752475\n"
     ]
    }
   ],
   "source": [
    "for i in feat_indices[:20]:\n",
    "    print(clf.coef_.toarray()[0][i])"
   ]
  },
  {
   "cell_type": "code",
   "execution_count": 26,
   "metadata": {
    "collapsed": false
   },
   "outputs": [
    {
     "name": "stdout",
     "output_type": "stream",
     "text": [
      "Documentary\n",
      "nature\n",
      "tv-mini-series\n",
      "nature-documentary\n",
      "island\n",
      "bird-watching\n",
      "urban\n",
      "primitive\n",
      "survival\n",
      "bird-in-title\n",
      "naturalist\n",
      "bird\n",
      "wildlife\n",
      "science\n",
      "physicist\n",
      "peril\n",
      "british-accent\n",
      "life\n",
      "animal-in-title\n",
      "earth\n",
      "scientist\n",
      "planet-earth\n",
      "biology\n",
      "professor\n",
      "bbc\n",
      "educational\n",
      "astrophysics\n",
      "desert\n",
      "animal\n",
      "cosmos\n"
     ]
    }
   ],
   "source": [
    "for i in feat_indices[:30]:\n",
    "    print(vocabulary[i])"
   ]
  },
  {
   "cell_type": "code",
   "execution_count": 27,
   "metadata": {
    "collapsed": false
   },
   "outputs": [],
   "source": [
    "positive = np.where(clf.predict(X) != -1)[0]"
   ]
  },
  {
   "cell_type": "code",
   "execution_count": 28,
   "metadata": {
    "collapsed": false
   },
   "outputs": [
    {
     "data": {
      "text/plain": [
       "6"
      ]
     },
     "execution_count": 28,
     "metadata": {},
     "output_type": "execute_result"
    }
   ],
   "source": [
    "len(positive)"
   ]
  },
  {
   "cell_type": "code",
   "execution_count": 29,
   "metadata": {
    "collapsed": false
   },
   "outputs": [],
   "source": [
    "df = (clf.decision_function(X)).flatten()"
   ]
  },
  {
   "cell_type": "code",
   "execution_count": 30,
   "metadata": {
    "collapsed": true
   },
   "outputs": [],
   "source": [
    "movie_indices = np.argsort(df)[::-1]"
   ]
  },
  {
   "cell_type": "code",
   "execution_count": 31,
   "metadata": {
    "collapsed": false
   },
   "outputs": [
    {
     "name": "stdout",
     "output_type": "stream",
     "text": [
      "Home\t(2009)\t(Not Rated)\n",
      "\"The Trials of Life\"\t(1990)\t(Unknown)\n",
      "\"The Blue Planet\"\t(2001)\t(TV-G)\n",
      "\"Planet Earth\"\t(2006)\t(TV-G)\n",
      "\"Planet Earth II\"\t(2016)\t(TV-G)\n",
      "\"Through the Wormhole\"\t(2010)\t(TV-PG)\n",
      "\"Human Planet\"\t(2011)\t(TV-PG)\n",
      "\"Wonders of the Universe\"\t(2011)\t(TV-PG)\n",
      "\"Wonders of Life\"\t(2013)\t(TV-PG)\n",
      "\"Wonders of the Solar System\"\t(2010)\t(TV-PG)\n",
      "\"The Life of Birds\"\t(1998)\t(TV-PG)\n",
      "\"Life on Earth\"\t(1979)\t(Unknown)\n",
      "\"Nature's Great Events\"\t(2009)\t(Unknown)\n",
      "\"Africa\"\t(2013)\t(Unknown)\n",
      "\"The Life of Mammals\"\t(2002)\t(Unknown)\n",
      "\"The National Parks: America's Best Idea\"\t(2009)\t(Unknown)\n",
      "\"Cosmos: A Spacetime Odyssey\"\t(2014)\t(TV-PG)\n",
      "\"Sonic Highways\"\t(2014)\t(Unknown)\n",
      "\"South Pacific\"\t(2009)\t(Unknown)\n",
      "\"Inside Look: The People v. O.J. Simpson, American Crime Story\"\t(2016)\t(Unknown)\n"
     ]
    }
   ],
   "source": [
    "for i in movie_indices[:20]:\n",
    "    print(m_[i])\n",
    "    #print(df[i])\n",
    "    #print(m_[i].keywords)\n",
    "    #print()"
   ]
  },
  {
   "cell_type": "code",
   "execution_count": 32,
   "metadata": {
    "collapsed": false
   },
   "outputs": [
    {
     "data": {
      "text/plain": [
       "array([  1.27804961e+01,   2.32521573e-03,   5.86136938e-04,\n",
       "         2.05671834e-04,   1.31987878e-04,   6.34651131e-05,\n",
       "        -7.02626119e-05,  -9.89617511e-05,  -9.89933241e-05,\n",
       "        -3.32525384e-04,  -3.86036424e-04,  -4.03890062e-02,\n",
       "        -5.67618376e-02,  -1.55858125e-01,  -3.64263996e-01,\n",
       "        -4.44985239e-01,  -5.09812925e-01,  -5.42827183e-01,\n",
       "        -5.42827183e-01,  -5.42827183e-01])"
      ]
     },
     "execution_count": 32,
     "metadata": {},
     "output_type": "execute_result"
    }
   ],
   "source": [
    "df[movie_indices[:20]]"
   ]
  },
  {
   "cell_type": "code",
   "execution_count": null,
   "metadata": {
    "collapsed": true
   },
   "outputs": [],
   "source": []
  }
 ],
 "metadata": {
  "kernelspec": {
   "display_name": "Python 3",
   "language": "python",
   "name": "python3"
  },
  "language_info": {
   "codemirror_mode": {
    "name": "ipython",
    "version": 3
   },
   "file_extension": ".py",
   "mimetype": "text/x-python",
   "name": "python",
   "nbconvert_exporter": "python",
   "pygments_lexer": "ipython3",
   "version": "3.5.1"
  }
 },
 "nbformat": 4,
 "nbformat_minor": 0
}

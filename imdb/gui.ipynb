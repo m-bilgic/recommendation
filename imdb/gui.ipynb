{
 "cells": [
  {
   "cell_type": "code",
   "execution_count": 1,
   "metadata": {
    "collapsed": true
   },
   "outputs": [],
   "source": [
    "from tkinter import *\n",
    "from tkinter import ttk\n",
    "import tkinter.font as tkFont"
   ]
  },
  {
   "cell_type": "code",
   "execution_count": 2,
   "metadata": {
    "collapsed": true
   },
   "outputs": [],
   "source": [
    "from movie import Movie"
   ]
  },
  {
   "cell_type": "code",
   "execution_count": 3,
   "metadata": {
    "collapsed": false
   },
   "outputs": [],
   "source": [
    "from parse import parse_imdb_data"
   ]
  },
  {
   "cell_type": "code",
   "execution_count": 4,
   "metadata": {
    "collapsed": false
   },
   "outputs": [
    {
     "name": "stdout",
     "output_type": "stream",
     "text": [
      "Failed to parse movie 1......0.7      12   8.3  \"By Any Means\" (????) \n",
      "Failed to parse movie 1..1221..1       8   5.5  \"Das große RTL Special zum Film\" (????) {Evan Allmächtig} \n",
      "Failed to parse movie 0...0.0.06      12   8.5  \"Das große RTL Special zum Film\" (????) {Harry Potter und der Orden des Phönix} \n",
      "Failed to parse movie 200.0000.4      36   6.3  \"Das große RTL Special zum Film\" (????) {Harry Potter und die Kammer des Schreckens} \n",
      "Failed to parse movie 1....5.3..       6   5.8  \"Germside\" (????) \n",
      "Failed to parse movie ......46..       5   7.6  \"Germspesyal\" (????) \n",
      "Failed to parse movie ......22.6       5   9.0  \"TV Rijnmond sport\" (????) {Huldiging Feyenoord KNVB Beker 2008} \n",
      "Failed to parse movie 0000000124    1201   8.9  Baiohazâdo 7 (????) (VG) \n",
      "Failed to parse movie 2........8       5   8.2  Cumming of Age Volume 1 (????) (V) \n",
      "Failed to parse movie ....2....8       5   9.0  Faust Fucker - Dr. Fist und seine heißen Stuten (????) (V) \n",
      "Failed to parse movie 4...0.00.4      43   5.5  Passion (????/I) \n",
      "Failed to parse movie 0....031.4      20   8.2  Sam Raimi Early Shorts (????) (V) \n",
      "Failed to parse movie 2111000.01      27   4.2  The Colour of Life and Death (????) \n"
     ]
    }
   ],
   "source": [
    "movies = parse_imdb_data()"
   ]
  },
  {
   "cell_type": "code",
   "execution_count": 27,
   "metadata": {
    "collapsed": false
   },
   "outputs": [
    {
     "data": {
      "text/plain": [
       "3151"
      ]
     },
     "execution_count": 27,
     "metadata": {},
     "output_type": "execute_result"
    }
   ],
   "source": [
    "m_ = movies\n",
    "#m_=list(filter(lambda m: m.year>2000, m_))\n",
    "m_=list(filter(lambda m: m.num_ratings>5000, m_))\n",
    "m_=list(filter(lambda m: m.mean_rating>7.5, m_))\n",
    "len(m_)"
   ]
  },
  {
   "cell_type": "code",
   "execution_count": 28,
   "metadata": {
    "collapsed": true
   },
   "outputs": [],
   "source": [
    "def sortby(tree, col, descending):\n",
    "    \"\"\"sort tree contents when a column header is clicked on\"\"\"\n",
    "    # grab values to sort\n",
    "    data = [(tree.set(child, col), child) \\\n",
    "        for child in tree.get_children('')]\n",
    "    # if the data to be sorted is numeric change to float\n",
    "    #data =  change_numeric(data)\n",
    "    # now sort the data in place\n",
    "    if(data[0][0].isnumeric()): # FIX: doesn't work for float\n",
    "        data = [(float(d[0]), d[1]) for d in data]\n",
    "    data.sort(reverse=descending)\n",
    "    for ix, item in enumerate(data):\n",
    "        tree.move(item[1], '', ix)\n",
    "    # switch the heading so it will sort in the opposite direction\n",
    "    tree.heading(col, command=lambda col=col: sortby(tree, col, \\\n",
    "        int(not descending)))"
   ]
  },
  {
   "cell_type": "code",
   "execution_count": 29,
   "metadata": {
    "collapsed": false
   },
   "outputs": [],
   "source": [
    "root = Tk()\n",
    "root.title(\"IMDB MOVIE RECOMMENDER SYSTEM\")\n",
    "\n",
    "mainframe = ttk.Frame(root, padding=\"3 3 12 12\")\n",
    "mainframe.grid(column=0, row=0, sticky=(N, W, E, S))\n",
    "mainframe.columnconfigure(0, weight=1)\n",
    "mainframe.rowconfigure(0, weight=1)\n",
    "\n",
    "filterframe = ttk.Labelframe(mainframe, padding=\"3 3 12 12\", text=\"Filter\")\n",
    "filterframe.grid(column=0, row=0, sticky=(N, E))\n",
    "filterframe['borderwidth'] = 2\n",
    "filterframe['relief'] = 'sunken'\n",
    "\n",
    "yearfilterframe = ttk.Labelframe(filterframe, padding=\"3 3 12 12\", text=\"Year\")\n",
    "yearfilterframe.grid(column=0, row=0, sticky=(N, E))\n",
    "yearfilterframe['borderwidth'] = 2\n",
    "yearfilterframe['relief'] = 'sunken'\n",
    "ttk.Label(yearfilterframe, text=\"MIN\").grid(column=0, row=0, sticky=\"W\")\n",
    "minyear=IntVar()\n",
    "minyear.set(1900)\n",
    "ttk.Entry(yearfilterframe, textvariable=minyear).grid(column=1, row=0, sticky=\"E\")\n",
    "ttk.Label(yearfilterframe, text=\"MAX\").grid(column=0, row=1, sticky=\"W\")\n",
    "maxyear=IntVar()\n",
    "maxyear.set(2017)\n",
    "ttk.Entry(yearfilterframe, textvariable=maxyear).grid(column=1, row=1, sticky=\"E\")\n",
    "\n",
    "\n",
    "numratingfilterframe = ttk.Labelframe(filterframe, padding=\"3 3 12 12\", text=\"# of Ratings\")\n",
    "numratingfilterframe.grid(column=0, row=1, sticky=(N, E))\n",
    "numratingfilterframe['borderwidth'] = 2\n",
    "numratingfilterframe['relief'] = 'sunken'\n",
    "ttk.Label(numratingfilterframe, text=\"MIN\").grid(column=0, row=0, sticky=\"E\")\n",
    "minratingcount=IntVar()\n",
    "ttk.Entry(numratingfilterframe, textvariable=minratingcount).grid(column=1, row=0, sticky=\"W\")\n",
    "ttk.Label(numratingfilterframe, text=\"MAX\").grid(column=0, row=1, sticky=\"E\")\n",
    "maxratingcount=IntVar()\n",
    "maxratingcount.set(int(1e5))\n",
    "ttk.Entry(numratingfilterframe, textvariable=maxratingcount).grid(column=1, row=1, sticky=\"W\")\n",
    "\n",
    "\n",
    "meanratingfilterframe = ttk.Labelframe(filterframe, padding=\"3 3 12 12\", text=\"# of Ratings\")\n",
    "meanratingfilterframe.grid(column=0, row=2, sticky=(N, E))\n",
    "meanratingfilterframe['borderwidth'] = 2\n",
    "meanratingfilterframe['relief'] = 'sunken'\n",
    "ttk.Label(meanratingfilterframe, text=\"MIN\").grid(column=0, row=0, sticky=\"W\")\n",
    "minrating=DoubleVar()\n",
    "minrating.set(0.0)\n",
    "ttk.Entry(meanratingfilterframe, textvariable=minrating).grid(column=1, row=0, sticky=\"E\")\n",
    "ttk.Label(meanratingfilterframe, text=\"MAX\").grid(column=0, row=1, sticky=\"W\")\n",
    "maxrating=DoubleVar()\n",
    "maxrating.set(10.0)\n",
    "ttk.Entry(meanratingfilterframe, textvariable=maxrating).grid(column=1, row=1, sticky=\"E\")\n",
    "\n",
    "def filter_data(*args):\n",
    "    pass\n",
    "\n",
    "def reset_filters(*args):\n",
    "    pass\n",
    "\n",
    "buttonfilterframe = ttk.Frame(filterframe, padding=\"3 3 12 12\")\n",
    "buttonfilterframe.grid(column=0, row=3, sticky=(N, E))\n",
    "\n",
    "ttk.Button(buttonfilterframe, text=\"Filter\", command=filter_data).grid(column=0, row=0, sticky = \"W\")\n",
    "ttk.Button(buttonfilterframe, text=\"Reset\", command=reset_filters).grid(column=1, row=0, sticky = \"E\")\n",
    "\n",
    "#s = Scale(filterframe, orient=HORIZONTAL, length=200, from_=1900, to=2017 , showvalue=True, label=\"Minimum Year\", command=filter_year)\n",
    "#s.grid(column=0, row=0, sticky=W)\n",
    "\n",
    "#s = Scale(filterframe, orient=HORIZONTAL, length=200, from_=0, to=1e3, resolution=1, showvalue=True, label=\"Minimum # Ratings\", command=filter_num_ratings)\n",
    "#s.grid(column=0, row=1, sticky=W)\n",
    "\n",
    "#s = Scale(filterframe, orient=HORIZONTAL, length=200, from_=0.0, to=10.0, resolution=0.1, showvalue=True, label=\"Minimum Mean Rating\")\n",
    "#s.grid(column=0, row=2, sticky=W)\n",
    "\n",
    "\n",
    "dataframe = ttk.Labelframe(mainframe, padding=\"3 3 12 12\", text=\"Data\")\n",
    "dataframe.grid(column=1, row=0, sticky=(N, E))\n",
    "dataframe['borderwidth'] = 2\n",
    "dataframe['relief'] = 'sunken'\n",
    "\n",
    "# some of the following code is borrowed from https://www.daniweb.com/programming/software-development/threads/350266/creating-table-in-python\n",
    "\n",
    "data_header = ['Title', 'Year', 'Rating Count', \"Mean Rating\"]\n",
    "#data = [('A', 1982, 5, 2.3), ['C', 2000, 3, 5]]\n",
    "\n",
    "\n",
    "\n",
    "data = [[m.title, m.year, m.num_ratings, m.mean_rating] for m in m_]\n",
    "\n",
    "data_tree = ttk.Treeview(dataframe, columns=data_header, show=\"headings\")\n",
    "\n",
    "vsb = ttk.Scrollbar(dataframe, orient=\"vertical\", command=data_tree.yview)\n",
    "hsb = ttk.Scrollbar(dataframe, orient=\"horizontal\", command=data_tree.xview)\n",
    "\n",
    "data_tree.configure(yscrollcommand=vsb.set, xscrollcommand=hsb.set)\n",
    "\n",
    "data_tree.grid(column=0, row=0, sticky='nsew')\n",
    "\n",
    "vsb.grid(column=1, row=0, sticky='ns')\n",
    "hsb.grid(column=0, row=1, sticky='ew')\n",
    "\n",
    "dataframe.grid_columnconfigure(0, weight=1)\n",
    "dataframe.grid_rowconfigure(0, weight=1)\n",
    "\n",
    "\n",
    "for col in data_header:\n",
    "    data_tree.heading(col, text=col.title(), command=lambda c=col: sortby(data_tree, c, 0))\n",
    "    # adjust the column's width to the header string\n",
    "    data_tree.column(col, width=tkFont.Font().measure(col.title()))\n",
    "    \n",
    "for item in data:\n",
    "            data_tree.insert('', 'end', values=item)\n",
    "            # adjust column's width if necessary to fit each value\n",
    "            for ix, val in enumerate(item):\n",
    "                col_w = tkFont.Font().measure(val)\n",
    "                if data_tree.column(data_header[ix],width=None)<col_w:\n",
    "                    data_tree.column(data_header[ix], width=col_w)\n",
    "\n",
    "root.mainloop()"
   ]
  },
  {
   "cell_type": "code",
   "execution_count": 20,
   "metadata": {
    "collapsed": false
   },
   "outputs": [
    {
     "data": {
      "text/plain": [
       "7603"
      ]
     },
     "execution_count": 20,
     "metadata": {},
     "output_type": "execute_result"
    }
   ],
   "source": []
  },
  {
   "cell_type": "code",
   "execution_count": 15,
   "metadata": {
    "collapsed": false
   },
   "outputs": [
    {
     "data": {
      "text/plain": [
       "5 O'Clock in the Morning\t1966\t.2122.11..\t9\t4.4"
      ]
     },
     "execution_count": 15,
     "metadata": {},
     "output_type": "execute_result"
    }
   ],
   "source": [
    "movies[65000]"
   ]
  },
  {
   "cell_type": "code",
   "execution_count": 60,
   "metadata": {
    "collapsed": false
   },
   "outputs": [
    {
     "data": {
      "text/plain": [
       "True"
      ]
     },
     "execution_count": 60,
     "metadata": {},
     "output_type": "execute_result"
    }
   ],
   "source": [
    "\"3\".isdecimal()"
   ]
  },
  {
   "cell_type": "code",
   "execution_count": 59,
   "metadata": {
    "collapsed": false
   },
   "outputs": [
    {
     "data": {
      "text/plain": [
       "False"
      ]
     },
     "execution_count": 59,
     "metadata": {},
     "output_type": "execute_result"
    }
   ],
   "source": [
    "\"3.2\".isdecimal()"
   ]
  },
  {
   "cell_type": "code",
   "execution_count": 61,
   "metadata": {
    "collapsed": false
   },
   "outputs": [
    {
     "data": {
      "text/plain": [
       "True"
      ]
     },
     "execution_count": 61,
     "metadata": {},
     "output_type": "execute_result"
    }
   ],
   "source": [
    "\"3\".isnumeric()"
   ]
  },
  {
   "cell_type": "code",
   "execution_count": 62,
   "metadata": {
    "collapsed": false
   },
   "outputs": [
    {
     "data": {
      "text/plain": [
       "False"
      ]
     },
     "execution_count": 62,
     "metadata": {},
     "output_type": "execute_result"
    }
   ],
   "source": [
    "\"3.2\".isnumeric()"
   ]
  },
  {
   "cell_type": "code",
   "execution_count": 63,
   "metadata": {
    "collapsed": false
   },
   "outputs": [
    {
     "data": {
      "text/plain": [
       "True"
      ]
     },
     "execution_count": 63,
     "metadata": {},
     "output_type": "execute_result"
    }
   ],
   "source": [
    "\"3\".isdigit()"
   ]
  },
  {
   "cell_type": "code",
   "execution_count": 64,
   "metadata": {
    "collapsed": false
   },
   "outputs": [
    {
     "data": {
      "text/plain": [
       "False"
      ]
     },
     "execution_count": 64,
     "metadata": {},
     "output_type": "execute_result"
    }
   ],
   "source": [
    "\"3.2\".isdigit()"
   ]
  },
  {
   "cell_type": "code",
   "execution_count": null,
   "metadata": {
    "collapsed": true
   },
   "outputs": [],
   "source": []
  }
 ],
 "metadata": {
  "kernelspec": {
   "display_name": "Python 3",
   "language": "python",
   "name": "python3"
  },
  "language_info": {
   "codemirror_mode": {
    "name": "ipython",
    "version": 3
   },
   "file_extension": ".py",
   "mimetype": "text/x-python",
   "name": "python",
   "nbconvert_exporter": "python",
   "pygments_lexer": "ipython3",
   "version": "3.5.1"
  }
 },
 "nbformat": 4,
 "nbformat_minor": 0
}

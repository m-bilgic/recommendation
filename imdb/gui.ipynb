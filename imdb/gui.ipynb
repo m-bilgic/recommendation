{
 "cells": [
  {
   "cell_type": "code",
   "execution_count": 1,
   "metadata": {
    "collapsed": true
   },
   "outputs": [],
   "source": [
    "from tkinter import *\n",
    "from tkinter import ttk\n",
    "import tkinter.font as tkFont\n",
    "from tkinter import font"
   ]
  },
  {
   "cell_type": "code",
   "execution_count": 2,
   "metadata": {
    "collapsed": false
   },
   "outputs": [],
   "source": [
    "from movie import Movie"
   ]
  },
  {
   "cell_type": "code",
   "execution_count": 3,
   "metadata": {
    "collapsed": false
   },
   "outputs": [],
   "source": [
    "from parse import parse_imdb_data"
   ]
  },
  {
   "cell_type": "code",
   "execution_count": 4,
   "metadata": {
    "collapsed": true
   },
   "outputs": [],
   "source": [
    "import os\n",
    "import pickle"
   ]
  },
  {
   "cell_type": "code",
   "execution_count": 5,
   "metadata": {
    "collapsed": false
   },
   "outputs": [
    {
     "name": "stdout",
     "output_type": "stream",
     "text": [
      "PARSING THE RATINGS FILE\n",
      "PARSING THE GENRES FILE\n",
      "PARSING THE KEYWORDS FILE\n",
      "PARSING THE MPAA RATINGS REASONS FILE\n",
      "PARSING THE CERTIFICATES FILE\n"
     ]
    }
   ],
   "source": [
    "if os.path.isfile(\"movies.p\"):\n",
    "    movies = pickle.load(open(\"movies.p\", \"rb\"))\n",
    "else:\n",
    "    movies = parse_imdb_data()\n",
    "    pickle.dump(movies, open( \"movies.p\", \"wb\" ))"
   ]
  },
  {
   "cell_type": "code",
   "execution_count": 134,
   "metadata": {
    "collapsed": false
   },
   "outputs": [
    {
     "data": {
      "text/plain": [
       "30587"
      ]
     },
     "execution_count": 134,
     "metadata": {},
     "output_type": "execute_result"
    }
   ],
   "source": [
    "m_ = movies\n",
    "#m_=list(filter(lambda m: m.year>2000, m_))\n",
    "m_=list(filter(lambda m: m.num_ratings>1000, m_))\n",
    "#m_=list(filter(lambda m: m.mean_rating>8.5, m_))\n",
    "len(m_)"
   ]
  },
  {
   "cell_type": "code",
   "execution_count": 13,
   "metadata": {
    "collapsed": true
   },
   "outputs": [],
   "source": [
    "def sortby(tree, col, descending):\n",
    "    \"\"\"sort tree contents when a column header is clicked on\"\"\"\n",
    "    # grab values to sort\n",
    "    data = [(tree.set(child, col), child) \\\n",
    "        for child in tree.get_children('')]\n",
    "    # if the data to be sorted is numeric change to float\n",
    "    #data =  change_numeric(data)\n",
    "    # now sort the data in place\n",
    "    if(data[0][0].isnumeric()): # FIX: doesn't work for float\n",
    "        data = [(float(d[0]), d[1]) for d in data]\n",
    "    data.sort(reverse=descending)\n",
    "    for ix, item in enumerate(data):\n",
    "        tree.move(item[1], '', ix)\n",
    "    # switch the heading so it will sort in the opposite direction\n",
    "    tree.heading(col, command=lambda col=col: sortby(tree, col, \\\n",
    "        int(not descending)))"
   ]
  },
  {
   "cell_type": "code",
   "execution_count": 14,
   "metadata": {
    "collapsed": false
   },
   "outputs": [],
   "source": [
    "min_year = min_rating_count = min_mean_rating = float('inf')\n",
    "max_year = max_rating_count = max_mean_rating = float('-inf')\n",
    "for m in m_:\n",
    "    min_year = min((min_year, m.year))\n",
    "    max_year = max((max_year, m.year))\n",
    "    min_rating_count = min((min_rating_count, m.num_ratings))\n",
    "    max_rating_count = max((max_rating_count, m.num_ratings))\n",
    "    min_mean_rating = min((min_mean_rating, m.mean_rating))\n",
    "    max_mean_rating = max((max_mean_rating, m.mean_rating))    "
   ]
  },
  {
   "cell_type": "code",
   "execution_count": 15,
   "metadata": {
    "collapsed": true
   },
   "outputs": [],
   "source": [
    "if os.path.isfile(\"ratings.p\"):\n",
    "    ratings = pickle.load(open(\"ratings.p\", \"rb\"))\n",
    "else:\n",
    "    ratings = {}"
   ]
  },
  {
   "cell_type": "code",
   "execution_count": 16,
   "metadata": {
    "collapsed": true
   },
   "outputs": [],
   "source": [
    "ratings = {}"
   ]
  },
  {
   "cell_type": "code",
   "execution_count": 22,
   "metadata": {
    "collapsed": false
   },
   "outputs": [],
   "source": [
    "root = Tk()\n",
    "root.title(\"IMDB MOVIE RECOMMENDER SYSTEM\")\n",
    "\n",
    "mainframe = ttk.Frame(root, padding=\"3 3 12 12\")\n",
    "mainframe.grid(column=0, row=0, sticky=(N, W, E, S))\n",
    "\n",
    "filterframe = ttk.Labelframe(mainframe, padding=\"3 3 12 12\", text=\"Filter\")\n",
    "filterframe.grid(column=0, row=0, sticky=(N, W))\n",
    "filterframe['borderwidth'] = 2\n",
    "filterframe['relief'] = 'sunken'\n",
    "\n",
    "\n",
    "yearfilterframe = ttk.Labelframe(filterframe, padding=\"3 3 12 12\", text=\"Year\")\n",
    "yearfilterframe.grid(column=0, row=0, sticky=(N, E))\n",
    "yearfilterframe['borderwidth'] = 2\n",
    "yearfilterframe['relief'] = 'sunken'\n",
    "ttk.Label(yearfilterframe, text=\"MIN\").grid(column=0, row=0, sticky=\"W\")\n",
    "minyear=IntVar()\n",
    "minyear.set(min_year)\n",
    "ttk.Entry(yearfilterframe, textvariable=minyear).grid(column=1, row=0, sticky=\"E\")\n",
    "ttk.Label(yearfilterframe, text=\"MAX\").grid(column=0, row=1, sticky=\"W\")\n",
    "maxyear=IntVar()\n",
    "maxyear.set(max_year)\n",
    "ttk.Entry(yearfilterframe, textvariable=maxyear).grid(column=1, row=1, sticky=\"E\")\n",
    "\n",
    "\n",
    "numratingfilterframe = ttk.Labelframe(filterframe, padding=\"3 3 12 12\", text=\"# of Ratings\")\n",
    "numratingfilterframe.grid(column=0, row=1, sticky=(N, E))\n",
    "numratingfilterframe['borderwidth'] = 2\n",
    "numratingfilterframe['relief'] = 'sunken'\n",
    "ttk.Label(numratingfilterframe, text=\"MIN\").grid(column=0, row=0, sticky=\"E\")\n",
    "minratingcount=IntVar()\n",
    "minratingcount.set(min_rating_count)\n",
    "ttk.Entry(numratingfilterframe, textvariable=minratingcount).grid(column=1, row=0, sticky=\"W\")\n",
    "ttk.Label(numratingfilterframe, text=\"MAX\").grid(column=0, row=1, sticky=\"E\")\n",
    "maxratingcount=IntVar()\n",
    "maxratingcount.set(max_rating_count)\n",
    "ttk.Entry(numratingfilterframe, textvariable=maxratingcount).grid(column=1, row=1, sticky=\"W\")\n",
    "\n",
    "\n",
    "meanratingfilterframe = ttk.Labelframe(filterframe, padding=\"3 3 12 12\", text=\"# of Ratings\")\n",
    "meanratingfilterframe.grid(column=0, row=2, sticky=(N, E))\n",
    "meanratingfilterframe['borderwidth'] = 2\n",
    "meanratingfilterframe['relief'] = 'sunken'\n",
    "ttk.Label(meanratingfilterframe, text=\"MIN\").grid(column=0, row=0, sticky=\"W\")\n",
    "minrating=DoubleVar()\n",
    "minrating.set(min_mean_rating)\n",
    "ttk.Entry(meanratingfilterframe, textvariable=minrating).grid(column=1, row=0, sticky=\"E\")\n",
    "ttk.Label(meanratingfilterframe, text=\"MAX\").grid(column=0, row=1, sticky=\"W\")\n",
    "maxrating=DoubleVar()\n",
    "maxrating.set(max_mean_rating)\n",
    "ttk.Entry(meanratingfilterframe, textvariable=maxrating).grid(column=1, row=1, sticky=\"E\")\n",
    "\n",
    "phrasefilterframe = ttk.Labelframe(filterframe, padding=\"3 3 12 12\", text=\"Phrase\")\n",
    "phrasefilterframe.grid(column=0, row=3, sticky=\"nsew\")\n",
    "phrasefilterframe['borderwidth'] = 2\n",
    "phrasefilterframe['relief'] = 'sunken'\n",
    "\n",
    "titlephrase = StringVar()\n",
    "ttk.Label(phrasefilterframe, text=\"Title\").grid(column=0, row=0, sticky=\"W\")\n",
    "ttk.Entry(phrasefilterframe, textvariable=titlephrase).grid(column=1, row=0, sticky=\"nsew\")\n",
    "keywordphrase = StringVar()\n",
    "ttk.Label(phrasefilterframe, text=\"Keyword\").grid(column=0, row=1, sticky=\"W\")\n",
    "ttk.Entry(phrasefilterframe, textvariable=keywordphrase).grid(column=1, row=1, sticky=\"nsew\")\n",
    "genrephrase = StringVar()\n",
    "ttk.Label(phrasefilterframe, text=\"Genre\").grid(column=0, row=2, sticky=\"W\")\n",
    "ttk.Entry(phrasefilterframe, textvariable=genrephrase).grid(column=1, row=2, sticky=\"nsew\")\n",
    "\n",
    "removed_iids = set()\n",
    "\n",
    "def filter_data(*args):\n",
    "    remove_iids = set()\n",
    "    data = data_tree.get_children('')\n",
    "    #print(data_tree.set(data[0]))    \n",
    "    for iid in data:\n",
    "        m = m_[int(iid)]\n",
    "        # Year\n",
    "        if m.year < minyear.get():\n",
    "            remove_iids.add(iid)\n",
    "        if m.year > maxyear.get():\n",
    "            remove_iids.add(iid)\n",
    "        # Rating Count\n",
    "        if m.num_ratings < minratingcount.get():\n",
    "            remove_iids.add(iid)\n",
    "        if m.num_ratings > maxratingcount.get():\n",
    "            remove_iids.add(iid)\n",
    "        # MEAN RATING\n",
    "        if m.mean_rating < minrating.get():\n",
    "            remove_iids.add(iid)\n",
    "        if m.mean_rating > maxrating.get():\n",
    "            remove_iids.add(iid)\n",
    "        if m.title.find(titlephrase.get()) == -1:\n",
    "            remove_iids.add(iid)\n",
    "        \n",
    "        if genrephrase.get() != \"\":\n",
    "            if m.genres == None:\n",
    "                remove_iids.add(iid)\n",
    "            else:\n",
    "                gp = False\n",
    "                for g in m.genres:\n",
    "                    if g.find(genrephrase.get()) != -1:\n",
    "                        gp = True\n",
    "                        break\n",
    "                if not gp:\n",
    "                    remove_iids.add(iid)\n",
    "        if keywordphrase.get() != \"\":\n",
    "            if m.keywords == None:\n",
    "                remove_iids.add(iid)\n",
    "            else:\n",
    "                kp = False\n",
    "                for k in m.keywords:\n",
    "                    if k.find(keywordphrase.get()) != -1:\n",
    "                        kp = True\n",
    "                        break\n",
    "                if not kp:\n",
    "                    remove_iids.add(iid)\n",
    "        \n",
    "    #data_tree.delete(list(remove_iids))\n",
    "    for iid in remove_iids:\n",
    "        data_tree.delete(iid)\n",
    "    removed_iids.update(remove_iids)\n",
    "    #TODO\n",
    "    # 1. Update the other fields based on the new filtered data\n",
    "    # 2. There is no way to go back in filtering right now\n",
    "\n",
    "def reset_filters(*args):\n",
    "    for iid in removed_iids:\n",
    "        i = int(iid)\n",
    "        item = [m_[i].title, m_[i].year, m_[i].num_ratings, m_[i].mean_rating]\n",
    "        data_tree.insert('', 'end', iid = str(i), values=item)\n",
    "    sortby(data_tree, 'Title', False)\n",
    "    removed_iids.clear()\n",
    "    #TODO Reset the fields to their default values\n",
    "    \n",
    "def double_click(e):\n",
    "    item = data_tree.selection()[0]\n",
    "    #print(\"You clicked on\", data_tree.set(item))\n",
    "    #print(m_[int(item)])\n",
    "    tl = Toplevel(root)\n",
    "    #ttk.Label(tl, text=data_tree.set(item)).grid(column=0, row=0, sticky=\"E\")\n",
    "    m = m_[int(item)]\n",
    "    \n",
    "    def rate_movie(*args):\n",
    "        #print(m.title)\n",
    "        #print(rating.get())\n",
    "        #ratings[m.title+str(m.year)]=rating.get()\n",
    "        if rating.get() != \"no-opinion\":\n",
    "            ratings[m] = rating.get()\n",
    "        else:\n",
    "            ratings.pop(m, None)\n",
    "        tl.destroy()\n",
    "    \n",
    "    ttk.Label(tl, text=m.title + \" (\" + str(m.year) + \")\", font=font.Font(family='Helvetica', size=14, weight='bold')).grid(column=0, row=0, sticky=\"W\")\n",
    "    if m.genres is not None:\n",
    "        g = \", \".join(m.genres)\n",
    "        ttk.Label(tl, text=\"Genres: \" + g).grid(column=0, row=1, sticky=\"W\")      \n",
    "    if m.keywords is not None:\n",
    "        #cnames = StringVar(value=countrynames)\n",
    "        kl= Listbox(tl, listvariable=StringVar(value=m.keywords), height=5)\n",
    "        kl.grid(column=0, row=2, sticky=\"nsew\")\n",
    "        vs = ttk.Scrollbar(tl, orient=VERTICAL, command=kl.yview)\n",
    "        kl.configure(yscrollcommand=vs.set)\n",
    "        vs.grid(column=1, row=2, sticky=\"nsew\")\n",
    "        hs = ttk.Scrollbar(tl, orient=HORIZONTAL, command=kl.xview)\n",
    "        kl.configure(xscrollcommand=hs.set)\n",
    "        hs.grid(column=0, row=3, sticky=\"nsew\")\n",
    "    rateframe=ttk.Frame(tl, padding=\"3 3 12 12\")\n",
    "    rateframe.grid(column=0, row=4, sticky=\"nsew\")        \n",
    "    rating = StringVar()\n",
    "    if m in ratings:\n",
    "        rating.set(ratings[m])\n",
    "    else:\n",
    "        rating.set(\"no-opinion\")\n",
    "    ttk.Radiobutton(rateframe, text='Like', variable=rating, value='like').grid(column=0, row=0, sticky=\"nsew\")\n",
    "    ttk.Radiobutton(rateframe, text='Dislike', variable=rating, value='dislike').grid(column=1, row=0, sticky=\"nsew\")\n",
    "    ttk.Radiobutton(rateframe, text='No opinion', variable=rating, value='no-opinion').grid(column=2, row=0, sticky=\"nsew\")\n",
    "    ttk.Button(rateframe, text=\"Submit\", command=rate_movie).grid(column=1, row=1, sticky = \"nsew\")\n",
    "        \n",
    "    \n",
    "\n",
    "buttonfilterframe = ttk.Frame(filterframe, padding=\"3 3 12 12\")\n",
    "buttonfilterframe.grid(column=0, row=4, sticky=(N, E))\n",
    "\n",
    "ttk.Button(buttonfilterframe, text=\"Filter\", command=filter_data).grid(column=0, row=0, sticky = \"W\")\n",
    "ttk.Button(buttonfilterframe, text=\"Reset\", command=reset_filters).grid(column=1, row=0, sticky = \"E\")\n",
    "\n",
    "#s = Scale(filterframe, orient=HORIZONTAL, length=200, from_=1900, to=2017 , showvalue=True, label=\"Minimum Year\", command=filter_year)\n",
    "#s.grid(column=0, row=0, sticky=W)\n",
    "\n",
    "#s = Scale(filterframe, orient=HORIZONTAL, length=200, from_=0, to=1e3, resolution=1, showvalue=True, label=\"Minimum # Ratings\", command=filter_num_ratings)\n",
    "#s.grid(column=0, row=1, sticky=W)\n",
    "\n",
    "#s = Scale(filterframe, orient=HORIZONTAL, length=200, from_=0.0, to=10.0, resolution=0.1, showvalue=True, label=\"Minimum Mean Rating\")\n",
    "#s.grid(column=0, row=2, sticky=W)\n",
    "\n",
    "\n",
    "\n",
    "\n",
    "dataframe = ttk.Labelframe(mainframe, padding=\"3 3 12 12\", text=\"Data\")\n",
    "dataframe.grid(column=1, row=0, sticky=\"ne\")\n",
    "dataframe['borderwidth'] = 2\n",
    "dataframe['relief'] = 'sunken'\n",
    "\n",
    "searchfilterframe = ttk.Frame(dataframe, padding=\"3 3 12 12\")\n",
    "searchfilterframe['borderwidth'] = 2\n",
    "searchfilterframe['relief'] = 'sunken'\n",
    "searchfilterframe.grid(column=0, row=0, sticky=\"nsew\")\n",
    "\n",
    "\n",
    "\n",
    "# some of the following code is borrowed from https://www.daniweb.com/programming/software-development/threads/350266/creating-table-in-python\n",
    "\n",
    "data_header = ['Title', 'Year', 'Rating Count', \"Mean Rating\", 'US Certificate']\n",
    "#data = [[m.title, m.year, m.num_ratings, m.mean_rating] for m in m_]\n",
    "\n",
    "data_tree = ttk.Treeview(dataframe, columns=data_header, show=\"headings\", selectmode='browse')\n",
    "\n",
    "vsb = ttk.Scrollbar(dataframe, orient=\"vertical\", command=data_tree.yview)\n",
    "hsb = ttk.Scrollbar(dataframe, orient=\"horizontal\", command=data_tree.xview)\n",
    "\n",
    "data_tree.configure(yscrollcommand=vsb.set, xscrollcommand=hsb.set)\n",
    "data_tree.grid(column=0, row=1, sticky='nsew')\n",
    "\n",
    "data_tree.bind(\"<Double-1>\", double_click)\n",
    "\n",
    "vsb.grid(column=1, row=1, sticky='ns')\n",
    "hsb.grid(column=0, row=2, sticky='ew')\n",
    "\n",
    "dataframe.grid_columnconfigure(0, weight=1)\n",
    "dataframe.grid_rowconfigure(0, weight=1)\n",
    "\n",
    "\n",
    "for col in data_header:\n",
    "    data_tree.heading(col, text=col.title(), command=lambda c=col: sortby(data_tree, c, 0))\n",
    "    # adjust the column's width to the header string\n",
    "    data_tree.column(col, width=tkFont.Font().measure(col.title()))\n",
    "    \n",
    "for i in range(len(m_)):\n",
    "    item = [m_[i].title, m_[i].year, m_[i].num_ratings, m_[i].mean_rating, m_[i].certificate]\n",
    "    data_tree.insert('', 'end', iid = str(i), values=item)\n",
    "    # adjust column's width if necessary to fit each value\n",
    "    for ix, val in enumerate(item):\n",
    "        col_w = tkFont.Font().measure(val)\n",
    "        if data_tree.column(data_header[ix],width=None)<col_w:\n",
    "            data_tree.column(data_header[ix], width=col_w)\n",
    "\n",
    "root.mainloop()"
   ]
  },
  {
   "cell_type": "code",
   "execution_count": 135,
   "metadata": {
    "collapsed": true
   },
   "outputs": [],
   "source": [
    "ratings = {}\n",
    "\n",
    "look_for_genres = set()\n",
    "look_for_genres.update(['Documentary'])\n",
    "\n",
    "look_for_keywords = set()\n",
    "look_for_keywords.update(['nature'])\n",
    "\n",
    "certificates = set()\n",
    "certificates.update([\"G\", \"PG\", \"TV-G\", \"TV-PG\"])\n",
    "\n",
    "for m in m_:\n",
    "    if m.certificate in certificates:\n",
    "        if m.genres is not None:\n",
    "            mgs = set()\n",
    "            mgs.update(m.genres)\n",
    "            if len(look_for_genres.intersection(mgs)) == len(look_for_genres):\n",
    "                #ratings[m] = 'like'\n",
    "                if m.keywords is not None:\n",
    "                    mks = set()\n",
    "                    mks.update(m.keywords)\n",
    "                    if len(look_for_keywords.intersection(mks)) == len(look_for_keywords):\n",
    "                        ratings[m] = 'like'"
   ]
  },
  {
   "cell_type": "code",
   "execution_count": 136,
   "metadata": {
    "collapsed": false
   },
   "outputs": [
    {
     "data": {
      "text/plain": [
       "25"
      ]
     },
     "execution_count": 136,
     "metadata": {},
     "output_type": "execute_result"
    }
   ],
   "source": [
    "len(ratings)"
   ]
  },
  {
   "cell_type": "code",
   "execution_count": 102,
   "metadata": {
    "collapsed": false
   },
   "outputs": [],
   "source": [
    "#for m in ratings:\n",
    "    #print(m)\n",
    "    #print(m.genres)\n",
    "    #print()"
   ]
  },
  {
   "cell_type": "code",
   "execution_count": 103,
   "metadata": {
    "collapsed": true
   },
   "outputs": [],
   "source": [
    "#pickle.dump(ratings, open( \"kidsratings.p\", \"wb\" ))"
   ]
  },
  {
   "cell_type": "code",
   "execution_count": 137,
   "metadata": {
    "collapsed": true
   },
   "outputs": [],
   "source": [
    "# Vectorize\n",
    "# #Ratings, z-scored Mean Rating, #Ratings x z-scored meanrating, Genres, keywords\n",
    "Genres = set()\n",
    "Keywords = set()\n",
    "for m in ratings:\n",
    "    if m.genres is not None:\n",
    "        for g in m.genres:\n",
    "            Genres.add(g)\n",
    "    if m.keywords is not None:\n",
    "        for k in m.keywords:\n",
    "            Keywords.add(k)"
   ]
  },
  {
   "cell_type": "code",
   "execution_count": 138,
   "metadata": {
    "collapsed": false
   },
   "outputs": [
    {
     "data": {
      "text/plain": [
       "9"
      ]
     },
     "execution_count": 138,
     "metadata": {},
     "output_type": "execute_result"
    }
   ],
   "source": [
    "len(Genres)"
   ]
  },
  {
   "cell_type": "code",
   "execution_count": 139,
   "metadata": {
    "collapsed": false
   },
   "outputs": [
    {
     "data": {
      "text/plain": [
       "695"
      ]
     },
     "execution_count": 139,
     "metadata": {},
     "output_type": "execute_result"
    }
   ],
   "source": [
    "len(Keywords)"
   ]
  },
  {
   "cell_type": "code",
   "execution_count": 140,
   "metadata": {
    "collapsed": true
   },
   "outputs": [],
   "source": [
    "Genres = list(Genres)"
   ]
  },
  {
   "cell_type": "code",
   "execution_count": 141,
   "metadata": {
    "collapsed": true
   },
   "outputs": [],
   "source": [
    "Keywords = list(Keywords)"
   ]
  },
  {
   "cell_type": "code",
   "execution_count": 142,
   "metadata": {
    "collapsed": true
   },
   "outputs": [],
   "source": [
    "import numpy as np"
   ]
  },
  {
   "cell_type": "code",
   "execution_count": 143,
   "metadata": {
    "collapsed": true
   },
   "outputs": [],
   "source": [
    "r = []\n",
    "for m in movies:\n",
    "    r.append(m.mean_rating)"
   ]
  },
  {
   "cell_type": "code",
   "execution_count": 144,
   "metadata": {
    "collapsed": false
   },
   "outputs": [],
   "source": [
    "r_mean = np.mean(r)\n",
    "r_var = np.var(r)"
   ]
  },
  {
   "cell_type": "code",
   "execution_count": 145,
   "metadata": {
    "collapsed": true
   },
   "outputs": [],
   "source": [
    "from scipy.sparse import csr_matrix, vstack"
   ]
  },
  {
   "cell_type": "code",
   "execution_count": 146,
   "metadata": {
    "collapsed": false
   },
   "outputs": [],
   "source": [
    "D = []\n",
    "y = []\n",
    "for m in m_:\n",
    "    #if m not in ratings:\n",
    "    #    continue\n",
    "    d = []\n",
    "    #d.append(m.num_ratings)\n",
    "    #d.append((m.mean_rating - r_mean)/r_var)\n",
    "    #d.append(d[0]*d[1])\n",
    "    m_g = set()\n",
    "    if m.genres is not None:\n",
    "        m_g.update(m.genres)\n",
    "    m_k = set()\n",
    "    if m.keywords is not None:\n",
    "        m_k.update(m.keywords)\n",
    "    for g in Genres:\n",
    "        if g in m_g:\n",
    "            d.append(1)\n",
    "        else:\n",
    "            d.append(0)\n",
    "    for k in Keywords: # VERY INEFFICIENT. FIX!\n",
    "        if k in m_k:\n",
    "            d.append(1)\n",
    "        else:\n",
    "            d.append(0)\n",
    "    D.append(csr_matrix(d))\n",
    "    if m in ratings:\n",
    "        y.append(1)\n",
    "    else:\n",
    "        y.append(0)"
   ]
  },
  {
   "cell_type": "code",
   "execution_count": 147,
   "metadata": {
    "collapsed": false
   },
   "outputs": [
    {
     "data": {
      "text/plain": [
       "30587"
      ]
     },
     "execution_count": 147,
     "metadata": {},
     "output_type": "execute_result"
    }
   ],
   "source": [
    "len(D)"
   ]
  },
  {
   "cell_type": "code",
   "execution_count": 148,
   "metadata": {
    "collapsed": true
   },
   "outputs": [],
   "source": [
    "d = D[0]"
   ]
  },
  {
   "cell_type": "code",
   "execution_count": 149,
   "metadata": {
    "collapsed": false
   },
   "outputs": [],
   "source": [
    "for d_ in D[1:]:\n",
    "    d = vstack([d, d_])"
   ]
  },
  {
   "cell_type": "code",
   "execution_count": 150,
   "metadata": {
    "collapsed": false
   },
   "outputs": [
    {
     "data": {
      "text/plain": [
       "(30587, 704)"
      ]
     },
     "execution_count": 150,
     "metadata": {},
     "output_type": "execute_result"
    }
   ],
   "source": [
    "d.shape"
   ]
  },
  {
   "cell_type": "code",
   "execution_count": 151,
   "metadata": {
    "collapsed": false
   },
   "outputs": [
    {
     "data": {
      "text/plain": [
       "30587"
      ]
     },
     "execution_count": 151,
     "metadata": {},
     "output_type": "execute_result"
    }
   ],
   "source": [
    "len(y)"
   ]
  },
  {
   "cell_type": "code",
   "execution_count": 152,
   "metadata": {
    "collapsed": true
   },
   "outputs": [],
   "source": [
    "y = np.array(y)"
   ]
  },
  {
   "cell_type": "code",
   "execution_count": 153,
   "metadata": {
    "collapsed": false
   },
   "outputs": [
    {
     "data": {
      "text/plain": [
       "<25x704 sparse matrix of type '<class 'numpy.int32'>'\n",
       "\twith 957 stored elements in Compressed Sparse Row format>"
      ]
     },
     "execution_count": 153,
     "metadata": {},
     "output_type": "execute_result"
    }
   ],
   "source": [
    "d[np.where(y==1)]"
   ]
  },
  {
   "cell_type": "code",
   "execution_count": 154,
   "metadata": {
    "collapsed": true
   },
   "outputs": [],
   "source": [
    "from sklearn import svm"
   ]
  },
  {
   "cell_type": "code",
   "execution_count": 155,
   "metadata": {
    "collapsed": false
   },
   "outputs": [],
   "source": [
    "clf = svm.OneClassSVM(kernel='linear')"
   ]
  },
  {
   "cell_type": "code",
   "execution_count": 156,
   "metadata": {
    "collapsed": false
   },
   "outputs": [
    {
     "data": {
      "text/plain": [
       "OneClassSVM(cache_size=200, coef0=0.0, degree=3, gamma='auto',\n",
       "      kernel='linear', max_iter=-1, nu=0.5, random_state=None,\n",
       "      shrinking=True, tol=0.001, verbose=False)"
      ]
     },
     "execution_count": 156,
     "metadata": {},
     "output_type": "execute_result"
    }
   ],
   "source": [
    "clf.fit(d[np.where(y==1)])"
   ]
  },
  {
   "cell_type": "code",
   "execution_count": 157,
   "metadata": {
    "collapsed": false
   },
   "outputs": [
    {
     "data": {
      "text/plain": [
       "<1x704 sparse matrix of type '<class 'numpy.float64'>'\n",
       "\twith 493 stored elements in Compressed Sparse Row format>"
      ]
     },
     "execution_count": 157,
     "metadata": {},
     "output_type": "execute_result"
    }
   ],
   "source": [
    "clf.coef_"
   ]
  },
  {
   "cell_type": "code",
   "execution_count": 158,
   "metadata": {
    "collapsed": false
   },
   "outputs": [],
   "source": [
    "indices = np.argsort(np.abs(clf.coef_.toarray()[0]))[::-1]"
   ]
  },
  {
   "cell_type": "code",
   "execution_count": 159,
   "metadata": {
    "collapsed": false
   },
   "outputs": [
    {
     "name": "stdout",
     "output_type": "stream",
     "text": [
      "12.5\n",
      "12.5\n",
      "3.48472044235\n",
      "2.49361341771\n",
      "2.39318050843\n",
      "2.25193749348\n",
      "2.05176856061\n",
      "2.0\n",
      "2.0\n",
      "1.68954720292\n",
      "1.68695343033\n",
      "1.63750458247\n",
      "1.55908144746\n",
      "1.47458786412\n",
      "1.42847748959\n",
      "1.35026952479\n",
      "1.32506416668\n",
      "1.27345871503\n",
      "1.23327498267\n",
      "1.17185867211\n",
      "1.12055682035\n",
      "1.06991142778\n",
      "1.05204262045\n",
      "1.01907453199\n",
      "1.01907453199\n",
      "1.01907453199\n",
      "1.0\n",
      "1.0\n",
      "1.0\n",
      "1.0\n",
      "1.0\n",
      "1.0\n",
      "1.0\n",
      "1.0\n",
      "1.0\n",
      "1.0\n",
      "1.0\n",
      "1.0\n",
      "1.0\n",
      "1.0\n",
      "1.0\n",
      "1.0\n",
      "1.0\n",
      "1.0\n",
      "1.0\n",
      "1.0\n",
      "1.0\n",
      "1.0\n",
      "1.0\n",
      "1.0\n",
      "1.0\n",
      "1.0\n",
      "1.0\n",
      "1.0\n",
      "1.0\n",
      "1.0\n",
      "1.0\n",
      "0.990736326933\n",
      "0.920824899149\n",
      "0.764329562479\n",
      "0.764329562479\n",
      "0.763657644491\n",
      "0.743450033222\n",
      "0.743450033222\n",
      "0.743450033222\n",
      "0.704822237664\n",
      "0.693649578846\n",
      "0.67533369147\n",
      "0.666440716105\n",
      "0.666440716105\n",
      "0.666440716105\n",
      "0.659060619375\n",
      "0.63491080988\n",
      "0.63491080988\n",
      "0.63491080988\n",
      "0.63491080988\n",
      "0.63491080988\n",
      "0.63491080988\n",
      "0.63491080988\n",
      "0.63491080988\n",
      "0.63491080988\n",
      "0.63491080988\n",
      "0.63491080988\n",
      "0.63491080988\n",
      "0.63491080988\n",
      "0.63491080988\n",
      "0.63491080988\n",
      "0.63491080988\n",
      "0.63491080988\n",
      "0.63491080988\n",
      "0.63491080988\n",
      "0.63491080988\n",
      "0.63491080988\n",
      "0.63491080988\n",
      "0.607017998926\n",
      "0.592039624687\n",
      "0.574239510925\n",
      "0.574239510925\n",
      "0.559081447462\n",
      "0.559081447462\n"
     ]
    }
   ],
   "source": [
    "for i in indices[:100]:\n",
    "    print(clf.coef_.toarray()[0][i])"
   ]
  },
  {
   "cell_type": "code",
   "execution_count": 160,
   "metadata": {
    "collapsed": false
   },
   "outputs": [
    {
     "name": "stdout",
     "output_type": "stream",
     "text": [
      "Documentary\n",
      "nature\n",
      "tv-mini-series\n",
      "nature-documentary\n",
      "one-word-title\n",
      "animal\n",
      "wildlife\n",
      "monkey\n",
      "animal-in-title\n",
      "island\n",
      "river\n",
      "coral-reef\n",
      "Short\n",
      "survival\n",
      "bird\n",
      "f-rated\n",
      "desert\n",
      "science\n",
      "narration\n",
      "migration\n",
      "water\n",
      "mountain\n",
      "crocodile\n",
      "life\n",
      "earth\n",
      "british-accent\n",
      "mexico\n",
      "actor-shares-first-name-with-character\n",
      "diving\n",
      "egret\n"
     ]
    }
   ],
   "source": [
    "for i in indices[:30]:\n",
    "    if i < len(Genres):\n",
    "        print(Genres[i])\n",
    "    else:\n",
    "        print(Keywords[i-len(Genres)])"
   ]
  },
  {
   "cell_type": "code",
   "execution_count": 161,
   "metadata": {
    "collapsed": false
   },
   "outputs": [
    {
     "data": {
      "text/plain": [
       "(array([ 1482,  2389,  2390,  3115,  3350,  3677,  3976,  3977,  3978,\n",
       "         5095,  5582,  6395,  7176,  8136, 10619, 11901, 15893, 16330,\n",
       "        17927, 18201, 20488, 21374, 26146, 27867, 28918], dtype=int64),)"
      ]
     },
     "execution_count": 161,
     "metadata": {},
     "output_type": "execute_result"
    }
   ],
   "source": [
    "np.where(y==1)"
   ]
  },
  {
   "cell_type": "code",
   "execution_count": 162,
   "metadata": {
    "collapsed": false
   },
   "outputs": [],
   "source": [
    "positive = np.where(clf.predict(d) != -1)[0]"
   ]
  },
  {
   "cell_type": "code",
   "execution_count": 163,
   "metadata": {
    "collapsed": false
   },
   "outputs": [
    {
     "data": {
      "text/plain": [
       "12"
      ]
     },
     "execution_count": 163,
     "metadata": {},
     "output_type": "execute_result"
    }
   ],
   "source": [
    "len(positive)"
   ]
  },
  {
   "cell_type": "code",
   "execution_count": 164,
   "metadata": {
    "collapsed": false
   },
   "outputs": [],
   "source": [
    "df = (clf.decision_function(d)).flatten()"
   ]
  },
  {
   "cell_type": "code",
   "execution_count": 165,
   "metadata": {
    "collapsed": true
   },
   "outputs": [],
   "source": [
    "indices = np.argsort(df)[::-1]"
   ]
  },
  {
   "cell_type": "code",
   "execution_count": 166,
   "metadata": {
    "collapsed": false
   },
   "outputs": [
    {
     "name": "stdout",
     "output_type": "stream",
     "text": [
      "\"Life\"\t(2009)\t(TV-G)\n",
      "\"Wonders of the Universe\"\t(2011)\t(TV-PG)\n",
      "Le peuple migrateur\t(2001)\t(G)\n",
      "Samsara\t(2011)\t(PG-13)\n",
      "La marche de l'empereur\t(2005)\t(G)\n",
      "Microcosmos: Le peuple de l'herbe\t(1996)\t(G)\n",
      "Animals Are Beautiful People\t(1974)\t(G)\n",
      "Born to Be Wild\t(2011)\t(G)\n",
      "\"The Blue Planet\"\t(2001)\t(TV-G)\n",
      "\"Wonders of Life\"\t(2013)\t(TV-PG)\n",
      "Powaqqatsi\t(1988)\t(G)\n",
      "Rivers and Tides\t(2001)\t(TV-G)\n",
      "The Wild Parrots of Telegraph Hill\t(2003)\t(G)\n",
      "\"Through the Wormhole\"\t(2010)\t(TV-PG)\n",
      "\"Wonders of the Solar System\"\t(2010)\t(TV-PG)\n",
      "Encounters at the End of the World\t(2007)\t(G)\n",
      "\"Planet Earth\"\t(2006)\t(TV-G)\n",
      "Under the Sea 3D\t(2009)\t(G)\n",
      "The Last Lions\t(2011)\t(PG)\n",
      "Baraka\t(1992)\t(Not Rated)\n"
     ]
    }
   ],
   "source": [
    "for i in indices[:20]:\n",
    "    print(m_[i])\n",
    "    #print(df[i])\n",
    "    #print(m_[i].keywords)\n",
    "    #print()"
   ]
  },
  {
   "cell_type": "code",
   "execution_count": 167,
   "metadata": {
    "collapsed": false
   },
   "outputs": [
    {
     "data": {
      "text/plain": [
       "array([  1.72421488e+01,   6.59846731e+00,   3.64742832e+00,\n",
       "         3.04016465e+00,   1.00651443e+00,   2.57757897e-04,\n",
       "         2.42854260e-04,   2.39247113e-04,   2.29250593e-04,\n",
       "         2.21147745e-04,   2.04677995e-04,   5.70073599e-05,\n",
       "        -2.55431336e-05,  -2.55431336e-05,  -4.29777611e-05,\n",
       "        -2.09495835e-04,  -2.34883401e-04,  -2.46998788e-04,\n",
       "        -6.66500911e-04,  -1.25710111e-01])"
      ]
     },
     "execution_count": 167,
     "metadata": {},
     "output_type": "execute_result"
    }
   ],
   "source": [
    "df[indices[:20]]"
   ]
  },
  {
   "cell_type": "code",
   "execution_count": null,
   "metadata": {
    "collapsed": true
   },
   "outputs": [],
   "source": []
  }
 ],
 "metadata": {
  "kernelspec": {
   "display_name": "Python 3",
   "language": "python",
   "name": "python3"
  },
  "language_info": {
   "codemirror_mode": {
    "name": "ipython",
    "version": 3
   },
   "file_extension": ".py",
   "mimetype": "text/x-python",
   "name": "python",
   "nbconvert_exporter": "python",
   "pygments_lexer": "ipython3",
   "version": "3.5.1"
  }
 },
 "nbformat": 4,
 "nbformat_minor": 0
}

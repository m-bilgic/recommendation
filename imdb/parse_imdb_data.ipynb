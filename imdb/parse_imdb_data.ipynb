{
 "cells": [
  {
   "cell_type": "code",
   "execution_count": 1,
   "metadata": {
    "collapsed": true
   },
   "outputs": [],
   "source": [
    "import operator\n",
    "import re\n",
    "import sys"
   ]
  },
  {
   "cell_type": "code",
   "execution_count": 2,
   "metadata": {
    "collapsed": false
   },
   "outputs": [],
   "source": [
    "from movie import Movie"
   ]
  },
  {
   "cell_type": "code",
   "execution_count": 3,
   "metadata": {
    "collapsed": true
   },
   "outputs": [],
   "source": [
    "episode_re = re.compile(\"\\(\\d\\d\\d\\d\\)\\s\\{\") # FIX: this does not match if the year has nondigit characters\n",
    "year_re = re.compile(\"\\(\\d\\d\\d\\d\")"
   ]
  },
  {
   "cell_type": "code",
   "execution_count": 4,
   "metadata": {
    "collapsed": false
   },
   "outputs": [
    {
     "name": "stdout",
     "output_type": "stream",
     "text": [
      "Failed to parse movie 1......0.7      12   8.3  \"By Any Means\" (????) \n",
      "Failed to parse movie 1..1221..1       8   5.5  \"Das große RTL Special zum Film\" (????) {Evan Allmächtig} \n",
      "Failed to parse movie 0...0.0.06      12   8.5  \"Das große RTL Special zum Film\" (????) {Harry Potter und der Orden des Phönix} \n",
      "Failed to parse movie 200.0000.4      36   6.3  \"Das große RTL Special zum Film\" (????) {Harry Potter und die Kammer des Schreckens} \n",
      "Failed to parse movie 1....5.3..       6   5.8  \"Germside\" (????) \n",
      "Failed to parse movie ......46..       5   7.6  \"Germspesyal\" (????) \n",
      "Failed to parse movie ......22.6       5   9.0  \"TV Rijnmond sport\" (????) {Huldiging Feyenoord KNVB Beker 2008} \n",
      "Failed to parse movie 4...0.00.4      43   5.5  Passion (????/I) \n",
      "Failed to parse movie 1111000.01      26   4.3  The Colour of Life and Death (????) \n"
     ]
    }
   ],
   "source": [
    "# RATINGS FILE\n",
    "file_path = \"../../imdb/ratings.list\"\n",
    "with open(file_path, 'r') as f:\n",
    "    l = None\n",
    "    while(l != \"MOVIE RATINGS REPORT\"):\n",
    "        l = f.readline().strip()\n",
    "    #print(l)\n",
    "    # empty line\n",
    "    f.readline()\n",
    "    # header\n",
    "    f.readline()\n",
    "    # Movies\n",
    "    movies = []\n",
    "    for m in f:\n",
    "    #for i in range(100):\n",
    "    #    m = f.readline()\n",
    "        if m == \"\\n\":\n",
    "            break\n",
    "        if m.find(\"(VG)\") != -1: #skip video games\n",
    "            continue            \n",
    "        m=m.strip()\n",
    "        try:\n",
    "            m_list=m.split()\n",
    "            rating_distribution = m_list[0]\n",
    "            num_ratings = int(m_list[1])\n",
    "            mean_rating = float(m_list[2])\n",
    "            rest = \" \" . join(m_list[3:])\n",
    "            if episode_re.search(rest) is None: # if not episode                \n",
    "                year_match = year_re.search(rest)\n",
    "                title = rest[:year_match.start()-1]\n",
    "                year = int(year_match.group()[1:])\n",
    "                movies.append(Movie(title, year, rating_distribution, num_ratings, mean_rating))\n",
    "        except:\n",
    "            #e = sys.exc_info()[0]\n",
    "            #print( \"<p>Error: %s</p>\" % e )\n",
    "            print(\"Failed to parse movie %s \" %m)"
   ]
  },
  {
   "cell_type": "code",
   "execution_count": 86,
   "metadata": {
    "collapsed": false
   },
   "outputs": [],
   "source": [
    "# GENRES FILE\n",
    "file_path = \"../../imdb/genres.list\"\n",
    "with open(file_path, 'r') as f:\n",
    "    l = None\n",
    "    while(l != \"8: THE GENRES LIST\"):\n",
    "        l = f.readline().strip()\n",
    "    #print(l)    \n",
    "    # Dashes\n",
    "    f.readline()\n",
    "    # Empty\n",
    "    f.readline()\n",
    "    # Movies\n",
    "    genres = {}\n",
    "    for m in f:\n",
    "        #break\n",
    "    #for i in range(1000):\n",
    "        #m = f.readline()\n",
    "        if m == \"\\n\":\n",
    "            break\n",
    "        if m.find(\"(VG)\") != -1: #skip video games\n",
    "            continue\n",
    "        m=m.strip()\n",
    "\n",
    "        try:\n",
    "            m_list=m.split()\n",
    "            #print(m_list)\n",
    "            genre = m_list[-1]\n",
    "            if episode_re.search(m) is None: # if not episode                \n",
    "                year_match = year_re.search(m)\n",
    "                title = m[:year_match.start()-1]\n",
    "                year = year_match.group()[1:]\n",
    "                #movies.append(Movie(title, year, rating_distribution, num_ratings, mean_rating))\n",
    "                #print(\"%s \\t %d \\t %s\" %(title, year, genre))\n",
    "                tandy = title+year\n",
    "                if tandy in genres: # FIX: TWO OR MORE TITLES IN SEPARATE YEARS, GETS MATCHED TO THE SAME GENRE\n",
    "                    genres[tandy].append(genre)\n",
    "                else:\n",
    "                    genres[tandy]=[genre]\n",
    "        except:\n",
    "            pass\n",
    "            #e = sys.exc_info()[0]\n",
    "            #print( \"<p>Error: %s</p>\" % e )\n",
    "            #print(\"Failed to parse movie %s \" %m)"
   ]
  },
  {
   "cell_type": "code",
   "execution_count": 5,
   "metadata": {
    "collapsed": false
   },
   "outputs": [
    {
     "data": {
      "text/plain": [
       "401448"
      ]
     },
     "execution_count": 5,
     "metadata": {},
     "output_type": "execute_result"
    }
   ],
   "source": [
    "len(movies)"
   ]
  },
  {
   "cell_type": "code",
   "execution_count": 88,
   "metadata": {
    "collapsed": false
   },
   "outputs": [
    {
     "data": {
      "text/plain": [
       "1263141"
      ]
     },
     "execution_count": 88,
     "metadata": {},
     "output_type": "execute_result"
    }
   ],
   "source": [
    "len(genres)"
   ]
  },
  {
   "cell_type": "code",
   "execution_count": 83,
   "metadata": {
    "collapsed": false
   },
   "outputs": [
    {
     "data": {
      "text/plain": [
       "26099"
      ]
     },
     "execution_count": 83,
     "metadata": {},
     "output_type": "execute_result"
    }
   ],
   "source": [
    "count=0\n",
    "for m in movies:\n",
    "    if m.title+str(m.year) not in genres:\n",
    "        count += 1\n",
    "        #print(m.title)\n",
    "        #break\n",
    "    else:\n",
    "        genre = genres[m.title+str(m.year)]        \n",
    "        m.genre = genre\n",
    "count"
   ]
  },
  {
   "cell_type": "code",
   "execution_count": 70,
   "metadata": {
    "collapsed": false
   },
   "outputs": [],
   "source": [
    "m_ = movies\n",
    "#m_=list(filter(lambda m: m.year>2000, m_))\n",
    "m_=list(filter(lambda m: m.num_ratings>10000, m_))\n",
    "m_=list(filter(lambda m: m.mean_rating>9, m_))"
   ]
  },
  {
   "cell_type": "code",
   "execution_count": 71,
   "metadata": {
    "collapsed": false
   },
   "outputs": [
    {
     "data": {
      "text/plain": [
       "54"
      ]
     },
     "execution_count": 71,
     "metadata": {},
     "output_type": "execute_result"
    }
   ],
   "source": [
    "len(m_)"
   ]
  },
  {
   "cell_type": "code",
   "execution_count": 72,
   "metadata": {
    "collapsed": false
   },
   "outputs": [],
   "source": [
    "m_=sorted(m_, key=operator.attrgetter('num_ratings'), reverse=True)\n",
    "#m_=sorted(m_, key=operator.attrgetter('year'), reverse=True)\n",
    "#m_=sorted(m_, key=operator.attrgetter('mean_rating'), reverse=True)"
   ]
  },
  {
   "cell_type": "code",
   "execution_count": 73,
   "metadata": {
    "collapsed": false
   },
   "outputs": [
    {
     "data": {
      "text/plain": [
       "[The Shawshank Redemption\t1994\t0000000125\t1809562\t9.3,\n",
       " The Godfather\t1972\t0000000125\t1235781\t9.2,\n",
       " \"Game of Thrones\"\t2011\t0000000016\t1152065\t9.5,\n",
       " \"Breaking Bad\"\t2008\t0000000016\t980194\t9.5,\n",
       " \"Sherlock\"\t2010\t0000000025\t576523\t9.2,\n",
       " \"True Detective\"\t2014\t0000000134\t358137\t9.1,\n",
       " \"Band of Brothers\"\t2001\t0000000016\t257721\t9.5,\n",
       " \"The Sopranos\"\t1999\t0000000125\t208181\t9.2,\n",
       " \"The Wire\"\t2002\t0000000016\t207006\t9.4,\n",
       " \"Firefly\"\t2002\t0000000125\t200624\t9.1,\n",
       " \"Avatar: The Last Airbender\"\t2005\t0000000025\t147898\t9.2,\n",
       " \"Rick and Morty\"\t2013\t0000000026\t121668\t9.3,\n",
       " \"Planet Earth\"\t2006\t0000000016\t117959\t9.5,\n",
       " Dag II\t2016\t0000000009\t88003\t9.8,\n",
       " \"Leyla ile Mecnun\"\t2011\t0000000008\t75011\t9.2,\n",
       " \"Cosmos: A Spacetime Odyssey\"\t2014\t0000000026\t71363\t9.3,\n",
       " \"Hagane no renkinjutsushi\"\t2009\t0000000125\t60351\t9.1,\n",
       " \"Last Week Tonight with John Oliver\"\t2014\t0000000124\t47961\t9.1,\n",
       " \"One Punch Man: Wanpanman\"\t2015\t0000000125\t45059\t9.1,\n",
       " CM101MMXI Fundamentals\t2013\t0000000017\t37183\t9.3]"
      ]
     },
     "execution_count": 73,
     "metadata": {},
     "output_type": "execute_result"
    }
   ],
   "source": [
    "m_[:20]"
   ]
  },
  {
   "cell_type": "code",
   "execution_count": 74,
   "metadata": {
    "collapsed": false
   },
   "outputs": [
    {
     "name": "stdout",
     "output_type": "stream",
     "text": [
      "['Crime', 'Drama']\n",
      "['Crime', 'Drama']\n",
      "['Adventure', 'Drama', 'Fantasy', 'Romance']\n",
      "['Crime', 'Drama', 'Thriller']\n",
      "['Crime', 'Drama', 'Mystery']\n",
      "['Crime', 'Drama', 'Mystery', 'Thriller']\n",
      "['Action', 'Drama', 'History', 'War']\n",
      "['Crime', 'Drama']\n",
      "['Crime', 'Drama', 'Thriller']\n",
      "['Adventure', 'Drama', 'Sci-Fi']\n",
      "['Action', 'Adventure', 'Animation', 'Family', 'Fantasy', 'Mystery']\n",
      "['Adventure', 'Animation', 'Comedy', 'Sci-Fi']\n",
      "['Documentary']\n",
      "['Drama', 'History', 'War']\n",
      "['Adventure', 'Comedy', 'Drama', 'Fantasy', 'Mystery', 'Romance']\n",
      "['Documentary']\n",
      "['Action', 'Adventure', 'Animation', 'Comedy', 'Drama', 'Fantasy', 'Sci-Fi']\n",
      "['Comedy', 'News', 'Talk-Show']\n",
      "['Action', 'Animation', 'Comedy', 'Sci-Fi']\n",
      "['Comedy', 'Documentary']\n",
      "['Comedy', 'Drama']\n",
      "['Action', 'Adventure', 'Comedy', 'Crime', 'Drama', 'Thriller']\n",
      "['Action', 'Adventure', 'Drama', 'Horror', 'Thriller']\n",
      "['Documentary']\n",
      "['Comedy', 'Drama']\n",
      "['Documentary']\n",
      "['Comedy', 'Fantasy', 'Music', 'Short']\n",
      "['Action', 'Adventure', 'Comedy', 'Crime', 'Drama', 'Thriller']\n",
      "['Action', 'Adventure', 'Comedy', 'Crime', 'Drama', 'Thriller']\n",
      "['Documentary']\n",
      "['Action', 'Adventure', 'Crime', 'Drama', 'Fantasy', 'Mystery', 'Sci-Fi', 'Thriller']\n",
      "['Action', 'Adventure', 'Drama', 'Fantasy', 'Mystery']\n",
      "['Action', 'Adventure', 'Crime', 'Fantasy', 'Sci-Fi', 'Thriller']\n",
      "['Action', 'Comedy', 'Crime', 'Thriller']\n",
      "['Comedy', 'History']\n",
      "['Action', 'Adventure', 'Thriller', 'War']\n",
      "['Documentary']\n",
      "['Crime', 'Mystery', 'Thriller']\n",
      "['Action', 'Adventure', 'Crime', 'Drama', 'Western']\n",
      "['Action', 'Adventure', 'History', 'Sci-Fi']\n",
      "['Drama']\n",
      "['Action', 'Adventure', 'Sci-Fi']\n",
      "['Action', 'Adventure', 'Sci-Fi']\n",
      "['Documentary', 'History', 'War']\n",
      "['Crime', 'Drama', 'Thriller']\n",
      "['Action', 'Adventure', 'Fantasy', 'Mystery', 'Thriller']\n",
      "['Action', 'Adventure', 'Mystery', 'Sci-Fi']\n",
      "['Action', 'Adventure', 'Sci-Fi']\n",
      "['Action', 'Horror', 'Mystery', 'Sci-Fi', 'Thriller']\n",
      "['Action', 'Adventure', 'Sci-Fi', 'Thriller']\n",
      "['Action', 'Adventure', 'Fantasy', 'Mystery', 'Thriller']\n",
      "['Action', 'Adventure', 'Sci-Fi']\n",
      "['Action', 'Crime', 'Drama', 'Mystery', 'Thriller']\n",
      "['Comedy']\n"
     ]
    }
   ],
   "source": [
    "for m in m_:\n",
    "    try:\n",
    "       print(m.genre)\n",
    "    except:\n",
    "        print(m)"
   ]
  }
 ],
 "metadata": {
  "kernelspec": {
   "display_name": "Python 3",
   "language": "python",
   "name": "python3"
  },
  "language_info": {
   "codemirror_mode": {
    "name": "ipython",
    "version": 3
   },
   "file_extension": ".py",
   "mimetype": "text/x-python",
   "name": "python",
   "nbconvert_exporter": "python",
   "pygments_lexer": "ipython3",
   "version": "3.5.1"
  }
 },
 "nbformat": 4,
 "nbformat_minor": 0
}

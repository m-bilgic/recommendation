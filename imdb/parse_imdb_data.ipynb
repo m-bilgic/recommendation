{
 "cells": [
  {
   "cell_type": "code",
   "execution_count": 1,
   "metadata": {
    "collapsed": true
   },
   "outputs": [],
   "source": [
    "import operator\n",
    "import re\n",
    "import sys\n",
    "from movie import Movie"
   ]
  },
  {
   "cell_type": "code",
   "execution_count": 2,
   "metadata": {
    "collapsed": true
   },
   "outputs": [],
   "source": [
    "episode_re = re.compile(\"\\(\\d\\d\\d\\d[/\\S]*\\)\\s\\{\")\n",
    "year_re = re.compile(\"\\(\\d\\d\\d\\d[/\\S]*\\)\")"
   ]
  },
  {
   "cell_type": "code",
   "execution_count": 7,
   "metadata": {
    "collapsed": true
   },
   "outputs": [],
   "source": [
    "movies = []"
   ]
  },
  {
   "cell_type": "code",
   "execution_count": 8,
   "metadata": {
    "collapsed": false
   },
   "outputs": [
    {
     "name": "stdout",
     "output_type": "stream",
     "text": [
      "PARSING THE RATINGS FILE\n"
     ]
    }
   ],
   "source": [
    "print(\"PARSING THE RATINGS FILE\")\n",
    "#RATINGS FILE\n",
    "file_path = \"../../imdb/ratings.list\"\n",
    "with open(file_path, 'r') as f:\n",
    "    l = None\n",
    "    while(l != \"MOVIE RATINGS REPORT\"):\n",
    "        l = f.readline().strip()\n",
    "    #print(l)\n",
    "    # empty line\n",
    "    f.readline()\n",
    "    # header\n",
    "    f.readline()\n",
    "    # Movies\n",
    "\n",
    "    for m in f:\n",
    "    #for i in range(100):\n",
    "    #    m = f.readline()\n",
    "        if m == \"\\n\":\n",
    "            break\n",
    "        if m.find(\"(VG)\") != -1: #skip video games\n",
    "            continue\n",
    "        if m.find(\"(V)\") != -1:\n",
    "            continue\n",
    "        m=m.strip()\n",
    "        try:\n",
    "            m_list=m.split()\n",
    "            rating_distribution = m_list[0]\n",
    "            num_ratings = int(m_list[1])\n",
    "            mean_rating = float(m_list[2])\n",
    "            rest = \" \" . join(m_list[3:])\n",
    "            if episode_re.search(rest) is None: # if not episode                \n",
    "                year_match = year_re.search(rest)\n",
    "                title = rest[:year_match.start()-1]\n",
    "                year = year_match.group()[1:-1]\n",
    "                movies.append(Movie(title, year, rating_distribution, num_ratings, mean_rating))\n",
    "        except:\n",
    "            pass\n",
    "            #e = sys.exc_info()[0]\n",
    "            #print( \"<p>Error: %s</p>\" % e )\n",
    "            #print(\"Failed to parse movie %s \" %m)"
   ]
  },
  {
   "cell_type": "code",
   "execution_count": 9,
   "metadata": {
    "collapsed": false
   },
   "outputs": [
    {
     "name": "stdout",
     "output_type": "stream",
     "text": [
      "PARSING THE GENRES FILE\n"
     ]
    }
   ],
   "source": [
    "# GENRES FILE\n",
    "print(\"PARSING THE GENRES FILE\")\n",
    "file_path = \"../../imdb/genres.list\"\n",
    "with open(file_path, 'r') as f:\n",
    "    l = None\n",
    "    while(l != \"8: THE GENRES LIST\"):\n",
    "        l = f.readline().strip()\n",
    "    #print(l)    \n",
    "    # Dashes\n",
    "    f.readline()\n",
    "    # Empty\n",
    "    f.readline()\n",
    "    # Movies\n",
    "    genres = {}\n",
    "    for m in f:\t\t\t\n",
    "    #for i in range(1000):\n",
    "        #m = f.readline()\n",
    "        if m == \"\\n\":\n",
    "            break\n",
    "        if m.find(\"(VG)\") != -1: #skip video games\n",
    "            continue\n",
    "        if m.find(\"(V)\") != -1:\n",
    "            continue\n",
    "        m=m.strip()\n",
    "        try:\n",
    "            m_list=m.split()\n",
    "            #print(m_list)\n",
    "            genre = m_list[-1]\n",
    "            if episode_re.search(m) is None: # if not episode                \n",
    "                year_match = year_re.search(m)\n",
    "                title = m[:year_match.start()-1]\n",
    "                year = year_match.group()[1:-1]\n",
    "                tandy = title+year\n",
    "                if tandy in genres:\n",
    "                    genres[tandy].append(genre)\n",
    "                else:\n",
    "                    genres[tandy]=[genre]\n",
    "        except:\n",
    "            pass\n",
    "            #e = sys.exc_info()[0]\n",
    "            #print( \"<p>Error: %s</p>\" % e )\n",
    "            #print(\"Failed to parse movie %s \" %m)"
   ]
  },
  {
   "cell_type": "code",
   "execution_count": 10,
   "metadata": {
    "collapsed": false
   },
   "outputs": [
    {
     "name": "stdout",
     "output_type": "stream",
     "text": [
      "PARSING THE KEYWORDS FILE\n"
     ]
    }
   ],
   "source": [
    "# KEYWORDS FILE\n",
    "print(\"PARSING THE KEYWORDS FILE\")\n",
    "file_path = \"../../imdb/keywords.list\"\n",
    "with open(file_path, 'r') as f:\n",
    "    l = None\n",
    "    while(l != \"8: THE KEYWORDS LIST\"):\n",
    "        l = f.readline().strip()\n",
    "    #print(l)\n",
    "    # Dashes\n",
    "    f.readline()\n",
    "    # Empty\n",
    "    f.readline()\n",
    "    # Movies\n",
    "    keywords = {}\n",
    "    for m in f:\n",
    "        #break\n",
    "    #for i in range(1000):\n",
    "        #m = f.readline()\n",
    "        if m == \"\\n\":\n",
    "            break\n",
    "        if m.find(\"(VG)\") != -1: #skip video games\n",
    "            continue\n",
    "        if m.find(\"(V)\") != -1:\n",
    "            continue\n",
    "        m=m.strip()\n",
    "        try:\n",
    "            m_list=m.split()\n",
    "            #print(m_list)\n",
    "            keyword = m_list[-1]\n",
    "            if episode_re.search(m) is None: # if not episode                \n",
    "                year_match = year_re.search(m)\n",
    "                title = m[:year_match.start()-1]\n",
    "                year = year_match.group()[1:-1]\n",
    "                tandy = title+year\n",
    "                if tandy in keywords:\n",
    "                    keywords[tandy].append(keyword)\n",
    "                else:\n",
    "                    keywords[tandy]=[keyword]\n",
    "        except:\n",
    "            pass\n",
    "            #e = sys.exc_info()[0]\n",
    "            #print( \"<p>Error: %s</p>\" % e )\n",
    "            #print(\"Failed to parse movie %s \" %m)"
   ]
  },
  {
   "cell_type": "code",
   "execution_count": 11,
   "metadata": {
    "collapsed": false
   },
   "outputs": [
    {
     "name": "stdout",
     "output_type": "stream",
     "text": [
      "PARSING THE MPAA RATINGS REASONS FILE\n"
     ]
    }
   ],
   "source": [
    "# MPAA Ratings\n",
    "print(\"PARSING THE MPAA RATINGS REASONS FILE\")\n",
    "file_path = \"../../imdb/mpaa-ratings-reasons.list\"\n",
    "with open(file_path, 'r') as f:\n",
    "    l = None\n",
    "    while(l != \"MPAA RATINGS REASONS LIST\"):\n",
    "        l = f.readline().strip()\n",
    "    #print(l)\n",
    "    # Double Dashes\n",
    "    f.readline()\n",
    "    # Single dashes\n",
    "    f.readline()\n",
    "    # Movies\n",
    "    mpaa = {}\n",
    "    for m in f:\n",
    "        #break\n",
    "    #for i in range(1000):\n",
    "        #m = f.readline()\n",
    "#        if m == \"\\n\":\n",
    "#            break\n",
    "        if m.find(\"(VG)\") != -1: #skip video games\n",
    "            m = f.readline()\n",
    "            while m[:3] == \"RE:\":\n",
    "                m = f.readline()\n",
    "            f.readline()\n",
    "            continue\n",
    "        if m.find(\"(V)\") != -1:\n",
    "            m = f.readline()\n",
    "            while m[:3] == \"RE:\":\n",
    "                m = f.readline()\n",
    "            f.readline()\n",
    "            continue\n",
    "        m=m.strip()\n",
    "        try:            \n",
    "            if episode_re.search(m) is None:\n",
    "                year_match = year_re.search(m)\n",
    "                title = m[4:year_match.start()-1]\n",
    "                year = year_match.group()[1:-1]\n",
    "                tandy = title+year\n",
    "                mpaar = \"\"\n",
    "                m = f.readline()\n",
    "                while m[:3] == \"RE:\":\n",
    "                    mpaar += \" \" + m[3:].strip()\n",
    "                    m = f.readline()\n",
    "                mpaa[tandy] = mpaar\n",
    "                f.readline()\n",
    "        except:\n",
    "            m = f.readline()\n",
    "            while m[:3] == \"RE:\":\n",
    "                m = f.readline()\n",
    "            f.readline()\n",
    "            #e = sys.exc_info()[0]\n",
    "            #print( \"<p>Error: %s</p>\" % e )\n",
    "            #print(\"Failed to parse movie %s \" %m)"
   ]
  },
  {
   "cell_type": "code",
   "execution_count": 12,
   "metadata": {
    "collapsed": false
   },
   "outputs": [
    {
     "name": "stdout",
     "output_type": "stream",
     "text": [
      "PARSING THE CERTIFICATES FILE\n"
     ]
    }
   ],
   "source": [
    "# Certificates\n",
    "print(\"PARSING THE CERTIFICATES FILE\")\n",
    "file_path = \"../../imdb/certificates.list\"\n",
    "with open(file_path, 'r') as f:\n",
    "    l = None\n",
    "    while(l != \"CERTIFICATES LIST\"):\n",
    "        l = f.readline().strip()\n",
    "    #print(l)\n",
    "    # Dashes\n",
    "    f.readline()\n",
    "    # Movies\n",
    "    certificates = {}\n",
    "    for m in f:\n",
    "        #break\n",
    "    #for i in range(300):\n",
    "    #    m = f.readline()\n",
    "#        if m == \"\\n\":\n",
    "#            break\n",
    "        m=m.strip()\n",
    "\n",
    "        if m.find(\"(VG)\") != -1: #skip video games\n",
    "            continue\n",
    "        if m.find(\"(V)\") != -1:\n",
    "            continue\n",
    "        if m.find(\"USA:\") == -1:\n",
    "            continue\n",
    "\n",
    "        try:            \n",
    "            if episode_re.search(m) is None:\n",
    "                year_match = year_re.search(m)\n",
    "                title = m[:year_match.start()-1]\n",
    "                year = year_match.group()[1:-1]\n",
    "                tandy = title+year\n",
    "                certificate = m[m.find(\"USA:\")+4:].split('\\t')[0]\n",
    "                certificates[tandy] = certificate               \n",
    "        except:\n",
    "            pass\n",
    "            #e = sys.exc_info()[0]\n",
    "            #print( \"<p>Error: %s</p>\" % e )\n",
    "            #print(\"Failed to parse movie %s \" %m)"
   ]
  },
  {
   "cell_type": "code",
   "execution_count": 13,
   "metadata": {
    "collapsed": false
   },
   "outputs": [
    {
     "name": "stdout",
     "output_type": "stream",
     "text": [
      "PARSING THE PLOTS FILE\n"
     ]
    }
   ],
   "source": [
    "# Plots\n",
    "print(\"PARSING THE PLOTS FILE\")\n",
    "file_path = \"../../imdb/plot.list\"\n",
    "with open(file_path, 'r') as f:\n",
    "    l = None\n",
    "    while(l != \"PLOT SUMMARIES LIST\"):\n",
    "        l = f.readline().strip()\n",
    "    #print(l)\n",
    "    # Dashes\n",
    "    f.readline()\n",
    "    f.readline()\n",
    "    # Movies\n",
    "    plots = {}\n",
    "\n",
    "    while True:\n",
    "        #for m in f:\n",
    "        try:\n",
    "            m = f.readline()\n",
    "        except:\n",
    "            continue\n",
    "            \n",
    "        if not m:\n",
    "            break\n",
    "        #break\n",
    "#    for i in range(200):\n",
    "#        m = f.readline()\n",
    "#        if m == \"\\n\":\n",
    "#            break\n",
    "        m=m.strip()\n",
    "\n",
    "        if m.find(\"(VG)\") != -1: #skip video games\n",
    "            continue\n",
    "        if m.find(\"(V)\") != -1:\n",
    "            continue\n",
    "        if m.find(\"MV:\") == -1:\n",
    "            continue\n",
    "\n",
    "        #print(m)\n",
    "\n",
    "        try:        \n",
    "            if episode_re.search(m) is None:\n",
    "                year_match = year_re.search(m)\n",
    "                title = m[4:year_match.start()-1]\n",
    "                year = year_match.group()[1:-1]\n",
    "                tandy = title+year\n",
    "                plot = \"\"\n",
    "                m = f.readline()\n",
    "               # print(m)\n",
    "                m=m.strip()\n",
    "                while m == \"\" or m[0] != \"-\":\n",
    "                    if m[:3] == \"PL:\":\n",
    "                        plot += \" \" + m[4:]\n",
    "                    else:\n",
    "                        plot += \" \" + m\n",
    "                    m = f.readline().strip()\n",
    "                plots[tandy] = plot\n",
    "        except:\n",
    "            pass\n",
    "            #e = sys.exc_info()[0]\n",
    "            #print( \"<p>Error: %s</p>\" % e )\n",
    "            #print(\"Failed to parse movie %s \" %m)"
   ]
  },
  {
   "cell_type": "code",
   "execution_count": 14,
   "metadata": {
    "collapsed": false
   },
   "outputs": [
    {
     "name": "stdout",
     "output_type": "stream",
     "text": [
      "PARSING THE ACTORS FILE\n",
      "B Exception\n",
      "<p>Error: <class 'UnicodeDecodeError'></p>\n",
      "Buixareu, Eduard\n",
      "Participacció: Protagonistes dels Nostres Drets. Part 1 (2010) (V)  [Himself]\n",
      "2010\n",
      "['Participacció: Protagonistes dels Nostres Drets. Part 1 (2010) (V)  [Himself]']\n",
      "E Exception\n",
      "B Exception\n",
      "<p>Error: <class 'UnicodeDecodeError'></p>\n",
      "Fukuyama, Jun\n",
      "\"6-tsugo to ouma no monogatari\" (2016) {Ouma no aidorunanoda (#1.4)}  (voice)  [Ichimatsu Matsuno]\n",
      "2002\n",
      "['\"6-tsugo to ouma no monogatari\" (2016) {Ouma no aidorunanoda (#1.4)}  (voice)  [Ichimatsu Matsuno]']\n",
      "E Exception\n",
      "B Exception\n",
      "<p>Error: <class 'UnicodeDecodeError'></p>\n",
      "Miura, Tomokazu\n",
      "\"Shûkatsu Kazoku: Kitto, Umaku Iku\" (2017) {(#1.5)}  <1>\n",
      "2017\n",
      "['\"Shûkatsu Kazoku: Kitto, Umaku Iku\" (2017) {(#1.5)}  <1>']\n",
      "E Exception\n",
      "B Exception\n",
      "<p>Error: <class 'UnicodeDecodeError'></p>\n",
      "Tanba, Tetsurô\n",
      "Kage gari\n",
      "1972\n",
      "['Kage gari (1972)  <5>']\n",
      "E Exception\n"
     ]
    }
   ],
   "source": [
    "titles_to_actors = {}\n",
    "print(\"PARSING THE ACTORS FILE\")\n",
    "#ACTORS FILE\n",
    "file_path = \"../../imdb/actors.list\"\n",
    "with open(file_path, 'r') as f:\n",
    "    l = None\n",
    "    while(l != \"THE ACTORS LIST\"):\n",
    "        l = f.readline().strip()\n",
    "    #print(l)\n",
    "    # Dashes\n",
    "    f.readline()\n",
    "    # empty line\n",
    "    f.readline()\n",
    "    # header\n",
    "    f.readline()\n",
    "    # Dashes\n",
    "    f.readline()\n",
    "    # Movies\n",
    "\n",
    "    for m in f:\n",
    "    #for i in range(1000):        \n",
    "        ##m = f.readline() # First line that has the actor's name\n",
    "        \n",
    "        m = m.strip()        \n",
    "        m=m.split('\\t')\n",
    "        \n",
    "        if len(m) < 2:\n",
    "            break\n",
    "        \n",
    "        actor = m[0]\n",
    "        \n",
    "        while True:\n",
    "            try:\n",
    "                title = m[-1]\n",
    "                if title.find(\"(V)\") == -1 and title.find(\"(VG)\") == -1 and title.find(\"(TV)\") == -1 and episode_re.search(title) is None:\n",
    "                    year_match = year_re.search(title)\n",
    "                    if year_match is not None:\n",
    "                        title = title[:year_match.start()-1]\n",
    "                        year = year_match.group()[1:-1]\n",
    "                        tandy = title+year\n",
    "                        if tandy in titles_to_actors:\n",
    "                            titles_to_actors[tandy].append(actor)\n",
    "                        else:\n",
    "                            titles_to_actors[tandy] = [actor]\n",
    "                        #print(title)\n",
    "                        #print(year)\n",
    "\n",
    "                m = f.readline()\n",
    "                if m == '\\n': # New actor\n",
    "                    break\n",
    "                m = m.strip()\n",
    "                m = m.split('\\t')\n",
    "            except:\n",
    "                print(\"B Exception\")\n",
    "                e = sys.exc_info()[0]\n",
    "                print( \"<p>Error: %s</p>\" % e )\n",
    "                print(actor)\n",
    "                print(title)\n",
    "                print(year)\n",
    "                print(m)\n",
    "\n",
    "                print(\"E Exception\")"
   ]
  },
  {
   "cell_type": "code",
   "execution_count": 8,
   "metadata": {
    "collapsed": false
   },
   "outputs": [
    {
     "name": "stdout",
     "output_type": "stream",
     "text": [
      "PARSING THE ACTRESSES FILE\n",
      "B Exception\n",
      "<p>Error: <class 'UnicodeDecodeError'></p>\n",
      "Ito, Aiko (II)\n",
      "\"Bakuryû sentai Abaranger\" (2003) {Kirâô, Abare Hajime! (#1.20)}  [Ranru Itsuki/Abare Yellow]  <3>\n",
      "2008\n",
      "['\"Bakuryû sentai Abaranger\" (2003) {Kirâô, Abare Hajime! (#1.20)}  [Ranru Itsuki/Abare Yellow]  <3>']\n",
      "E Exception\n"
     ]
    }
   ],
   "source": [
    "titles_to_actresses = {}\n",
    "print(\"PARSING THE ACTRESSES FILE\")\n",
    "#ACTORS FILE\n",
    "file_path = \"../../imdb/actresses.list\"\n",
    "with open(file_path, 'r') as f:\n",
    "    l = None\n",
    "    while(l != \"THE ACTRESSES LIST\"):\n",
    "        l = f.readline().strip()\n",
    "    #print(l)\n",
    "    # Dashes\n",
    "    f.readline()\n",
    "    # empty line\n",
    "    f.readline()\n",
    "    # header\n",
    "    f.readline()\n",
    "    # Dashes\n",
    "    f.readline()\n",
    "    # Movies\n",
    "\n",
    "    for m in f:\n",
    "    #for i in range(100):        \n",
    "    #    m = f.readline() # First line that has the actor's name\n",
    "        \n",
    "        m = m.strip()        \n",
    "        m=m.split('\\t')\n",
    "        \n",
    "        if len(m) < 2:\n",
    "            break\n",
    "        \n",
    "        actress = m[0]\n",
    "        #print(actress)\n",
    "        \n",
    "        while True:\n",
    "            try:\n",
    "                title = m[-1]\n",
    "                if title.find(\"(V)\") == -1 and title.find(\"(VG)\") == -1 and title.find(\"(TV)\") == -1 and episode_re.search(title) is None:\n",
    "                    year_match = year_re.search(title)\n",
    "                    if year_match is not None:\n",
    "                        title = title[:year_match.start()-1]\n",
    "                        year = year_match.group()[1:-1]\n",
    "                        tandy = title+year\n",
    "                        if tandy in titles_to_actresses:\n",
    "                            titles_to_actresses[tandy].append(actress)\n",
    "                        else:\n",
    "                            titles_to_actresses[tandy] = [actress]\n",
    "                        #print(title)\n",
    "                        #print(year)\n",
    "\n",
    "                m = f.readline()\n",
    "                if m == '\\n': # New actor\n",
    "                    break\n",
    "                m = m.strip()\n",
    "                m = m.split('\\t')\n",
    "            except:\n",
    "                print(\"B Exception\")\n",
    "                e = sys.exc_info()[0]\n",
    "                print( \"<p>Error: %s</p>\" % e )\n",
    "                print(actress)\n",
    "                print(title)\n",
    "                print(year)\n",
    "                print(m)\n",
    "\n",
    "                print(\"E Exception\")"
   ]
  },
  {
   "cell_type": "code",
   "execution_count": 9,
   "metadata": {
    "collapsed": false
   },
   "outputs": [
    {
     "data": {
      "text/plain": [
       "['Blaine, Renee (I)',\n",
       " 'Hayworth, Rita',\n",
       " 'Silver, Dorothy (I)',\n",
       " 'Slemmer, Claire',\n",
       " 'Snyder, Dana (I)']"
      ]
     },
     "execution_count": 9,
     "metadata": {},
     "output_type": "execute_result"
    }
   ],
   "source": [
    "titles_to_actresses[\"The Shawshank Redemption1994\"]"
   ]
  },
  {
   "cell_type": "code",
   "execution_count": 15,
   "metadata": {
    "collapsed": true
   },
   "outputs": [],
   "source": [
    "for m in movies:\n",
    "    mkey = m.title + m.year\n",
    "    if mkey in genres:\n",
    "        gs = genres[mkey]\n",
    "        m.genres = gs\n",
    "    if mkey in keywords:\n",
    "        ks = keywords[mkey]\n",
    "        m.keywords = ks\n",
    "    if mkey in mpaa:\n",
    "        m.mpaa_reason = mpaa[mkey]\n",
    "        mpaa_split = m.mpaa_reason.split()\n",
    "        m.mpaa_rating = mpaa_split[1]\n",
    "    if mkey in certificates:\n",
    "        m.certificate = certificates[mkey]\n",
    "    if mkey in plots:\n",
    "        m.plot = plots[mkey]\n",
    "    if mkey in titles_to_actors:\n",
    "        m.actors = titles_to_actors[mkey]\n",
    "    if mkey in titles_to_actresses:\n",
    "        m.actresses = titles_to_actresses[mkey]"
   ]
  },
  {
   "cell_type": "code",
   "execution_count": 17,
   "metadata": {
    "collapsed": false
   },
   "outputs": [
    {
     "data": {
      "text/plain": [
       "['Anderson, Dion (I)',\n",
       " 'Babson, James (I)',\n",
       " 'Baker, Dennis (II)',\n",
       " 'Bellamy, Ned',\n",
       " 'Bellows, Gil',\n",
       " 'Bolender, Bill',\n",
       " 'Brandenburg, Larry',\n",
       " 'Brauchler, Chuck',\n",
       " 'Brophy, Brian (I)',\n",
       " 'Brown, Clancy (I)',\n",
       " 'Ciccolella, Jude',\n",
       " 'Cope Jr., Harold E.',\n",
       " 'Craig, John D. (I)',\n",
       " 'Culbertson, Fred',\n",
       " 'Davis, Gary Lee',\n",
       " 'Delate, Brian',\n",
       " 'DeMunn, Jeffrey',\n",
       " 'DePasquale, Eugene C.',\n",
       " 'Doone, Richard',\n",
       " 'Foster, V.J.',\n",
       " 'Freeman, Alfonso',\n",
       " 'Freeman, Morgan (I)',\n",
       " 'Giuntoli, Neil',\n",
       " 'Greene, Gordon (II)',\n",
       " 'Gunton, Bob',\n",
       " 'Haley, Robert (I)',\n",
       " 'Hecht, David',\n",
       " 'Horton, John (II)',\n",
       " 'Jones, Alonzo F.',\n",
       " 'Jones, Gary (XLII)',\n",
       " 'Kato, Sergio',\n",
       " 'Kearns, Charlie',\n",
       " 'Kennedy, Paul (I)',\n",
       " 'Kessler, Alan R.',\n",
       " 'Kisicki, James',\n",
       " 'Libby, Brian',\n",
       " 'Lightsey, Michael',\n",
       " 'Love, Tracy (II)',\n",
       " 'Lund, Morgan (I)',\n",
       " 'Magee, Ken (I)',\n",
       " 'Mann, Scott (I)',\n",
       " 'Mavis, Brad',\n",
       " 'McCrane, Paul',\n",
       " 'McManus, Don (I)',\n",
       " 'Medrano, Frank (I)',\n",
       " 'Miles, Mack',\n",
       " 'Newell, Ron (I)',\n",
       " 'Page, Christopher (XX)',\n",
       " 'Pecoraro, Joe',\n",
       " 'Proval, David',\n",
       " 'Pyner, Brad',\n",
       " 'Ragno, Joseph',\n",
       " 'Reider, Rob (I)',\n",
       " 'Riddaway, Neil',\n",
       " 'Robbins, Tim (I)',\n",
       " 'Rolston, Mark',\n",
       " 'Sadler, William (I)',\n",
       " 'Spencer, Brad (I)',\n",
       " 'Stepp, Jodiviah',\n",
       " 'Summers, John E.',\n",
       " 'Summers, Neil (I)',\n",
       " 'Thomas, Rohn',\n",
       " 'Wallace, Cornell',\n",
       " 'Whitmore, James',\n",
       " 'Woodward, John R.',\n",
       " 'Ziehm, Rainer',\n",
       " 'Zinn, Donald']"
      ]
     },
     "execution_count": 17,
     "metadata": {},
     "output_type": "execute_result"
    }
   ],
   "source": [
    "titles_to_actors[\"The Shawshank Redemption1994\"]"
   ]
  },
  {
   "cell_type": "code",
   "execution_count": null,
   "metadata": {
    "collapsed": true
   },
   "outputs": [],
   "source": []
  }
 ],
 "metadata": {
  "kernelspec": {
   "display_name": "Python 3",
   "language": "python",
   "name": "python3"
  },
  "language_info": {
   "codemirror_mode": {
    "name": "ipython",
    "version": 3
   },
   "file_extension": ".py",
   "mimetype": "text/x-python",
   "name": "python",
   "nbconvert_exporter": "python",
   "pygments_lexer": "ipython3",
   "version": "3.5.1"
  }
 },
 "nbformat": 4,
 "nbformat_minor": 0
}

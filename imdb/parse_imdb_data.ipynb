{
 "cells": [
  {
   "cell_type": "code",
   "execution_count": 1,
   "metadata": {
    "collapsed": true
   },
   "outputs": [],
   "source": [
    "import operator\n",
    "import re\n",
    "import sys"
   ]
  },
  {
   "cell_type": "code",
   "execution_count": 2,
   "metadata": {
    "collapsed": false
   },
   "outputs": [],
   "source": [
    "from movie import Movie"
   ]
  },
  {
   "cell_type": "code",
   "execution_count": 4,
   "metadata": {
    "collapsed": true
   },
   "outputs": [],
   "source": [
    "episode_re = re.compile(\"\\(\\d\\d\\d\\d\\)\\s\\{\") # FIX: this does not match if the year has nondigit characters\n",
    "year_re = re.compile(\"\\(\\d\\d\\d\\d\")"
   ]
  },
  {
   "cell_type": "code",
   "execution_count": 52,
   "metadata": {
    "collapsed": false
   },
   "outputs": [
    {
     "name": "stdout",
     "output_type": "stream",
     "text": [
      "Failed to parse movie 1......0.7      12   8.3  \"By Any Means\" (????) \n",
      "Failed to parse movie 1..1221..1       8   5.5  \"Das große RTL Special zum Film\" (????) {Evan Allmächtig} \n",
      "Failed to parse movie 0...0.0.06      12   8.5  \"Das große RTL Special zum Film\" (????) {Harry Potter und der Orden des Phönix} \n",
      "Failed to parse movie 200.0000.4      36   6.3  \"Das große RTL Special zum Film\" (????) {Harry Potter und die Kammer des Schreckens} \n",
      "Failed to parse movie 1....5.3..       6   5.8  \"Germside\" (????) \n",
      "Failed to parse movie ......46..       5   7.6  \"Germspesyal\" (????) \n",
      "Failed to parse movie ......22.6       5   9.0  \"TV Rijnmond sport\" (????) {Huldiging Feyenoord KNVB Beker 2008} \n",
      "Failed to parse movie 0000000124    1201   8.9  Baiohazâdo 7 (????) (VG) \n",
      "Failed to parse movie 2........8       5   8.2  Cumming of Age Volume 1 (????) (V) \n",
      "Failed to parse movie ....2....8       5   9.0  Faust Fucker - Dr. Fist und seine heißen Stuten (????) (V) \n",
      "Failed to parse movie 4...0.00.4      43   5.5  Passion (????/I) \n",
      "Failed to parse movie 0....031.4      20   8.2  Sam Raimi Early Shorts (????) (V) \n",
      "Failed to parse movie 2111000.01      27   4.2  The Colour of Life and Death (????) \n"
     ]
    }
   ],
   "source": [
    "# RATINGS FILE\n",
    "file_path = \"../../imdb/ratings.list\"\n",
    "with open(file_path, 'r') as f:\n",
    "    l = None\n",
    "    while(l != \"MOVIE RATINGS REPORT\"):\n",
    "        l = f.readline().strip()\n",
    "    #print(l)\n",
    "    # empty line\n",
    "    f.readline()\n",
    "    # header\n",
    "    f.readline()\n",
    "    # Movies\n",
    "    movies = []\n",
    "    for m in f:\n",
    "    #for i in range(100):\n",
    "    #    m = f.readline()\n",
    "        if m == \"\\n\":\n",
    "            break\n",
    "        m=m.strip()\n",
    "        try:\n",
    "            m_list=m.split()\n",
    "            rating_distribution = m_list[0]\n",
    "            num_ratings = int(m_list[1])\n",
    "            mean_rating = float(m_list[2])\n",
    "            rest = \" \" . join(m_list[3:])\n",
    "            if episode_re.search(rest) is None: # if not episode                \n",
    "                year_match = year_re.search(rest)\n",
    "                title = rest[:year_match.start()-1]\n",
    "                year = int(year_match.group()[1:])\n",
    "                movies.append(Movie(title, year, rating_distribution, num_ratings, mean_rating))\n",
    "        except:\n",
    "            #e = sys.exc_info()[0]\n",
    "            #print( \"<p>Error: %s</p>\" % e )\n",
    "            print(\"Failed to parse movie %s \" %m)"
   ]
  },
  {
   "cell_type": "code",
   "execution_count": 104,
   "metadata": {
    "collapsed": false
   },
   "outputs": [],
   "source": [
    "# GENRES FILE\n",
    "file_path = \"../../imdb/genres.list\"\n",
    "with open(file_path, 'r') as f:\n",
    "    l = None\n",
    "    while(l != \"8: THE GENRES LIST\"):\n",
    "        l = f.readline().strip()\n",
    "    #print(l)    \n",
    "    # Dashes\n",
    "    f.readline()\n",
    "    # Empty\n",
    "    f.readline()\n",
    "    # Movies\n",
    "    genres = {}\n",
    "    for m in f:\n",
    "        #break\n",
    "    #for i in range(1000):\n",
    "        m = f.readline()\n",
    "        if m == \"\\n\":\n",
    "            break\n",
    "        m=m.strip()\n",
    "        try:\n",
    "            m_list=m.split()\n",
    "            #print(m_list)\n",
    "            genre = m_list[-1]            \n",
    "            if episode_re.search(m) is None: # if not episode                \n",
    "                year_match = year_re.search(m)\n",
    "                title = m[:year_match.start()-1]\n",
    "                year = int(year_match.group()[1:])\n",
    "                #movies.append(Movie(title, year, rating_distribution, num_ratings, mean_rating))\n",
    "                #print(\"%s \\t %d \\t %s\" %(title, year, genre))\n",
    "                if title in genres: # FIX: TWO OR MORE TITLES IN SEPARATE YEARS, GETS MATCHED TO THE SAME GENRE\n",
    "                    genres[title].append(genre)\n",
    "                else:\n",
    "                    genres[title]=[year, genre]\n",
    "        except:\n",
    "            pass\n",
    "            #e = sys.exc_info()[0]\n",
    "            #print( \"<p>Error: %s</p>\" % e )\n",
    "            #print(\"Failed to parse movie %s \" %m)"
   ]
  },
  {
   "cell_type": "code",
   "execution_count": 105,
   "metadata": {
    "collapsed": false
   },
   "outputs": [
    {
     "data": {
      "text/plain": [
       "447074"
      ]
     },
     "execution_count": 105,
     "metadata": {},
     "output_type": "execute_result"
    }
   ],
   "source": [
    "len(movies)"
   ]
  },
  {
   "cell_type": "code",
   "execution_count": 106,
   "metadata": {
    "collapsed": false
   },
   "outputs": [
    {
     "data": {
      "text/plain": [
       "862113"
      ]
     },
     "execution_count": 106,
     "metadata": {},
     "output_type": "execute_result"
    }
   ],
   "source": [
    "len(genres)"
   ]
  },
  {
   "cell_type": "code",
   "execution_count": 109,
   "metadata": {
    "collapsed": false
   },
   "outputs": [
    {
     "data": {
      "text/plain": [
       "98839"
      ]
     },
     "execution_count": 109,
     "metadata": {},
     "output_type": "execute_result"
    }
   ],
   "source": [
    "count=0\n",
    "for m in movies:\n",
    "    if m.title not in genres:\n",
    "        count += 1\n",
    "    else:\n",
    "        genre = genres[m.title]\n",
    "        if m.year == int(genre[0]):\n",
    "            m.genre = genre[1:]\n",
    "count"
   ]
  },
  {
   "cell_type": "code",
   "execution_count": 110,
   "metadata": {
    "collapsed": false
   },
   "outputs": [],
   "source": [
    "m_ = movies\n",
    "#m_=list(filter(lambda m: m.year>2000, m_))\n",
    "m_=list(filter(lambda m: m.num_ratings>10000, m_))\n",
    "m_=list(filter(lambda m: m.mean_rating>9, m_))"
   ]
  },
  {
   "cell_type": "code",
   "execution_count": 111,
   "metadata": {
    "collapsed": false
   },
   "outputs": [
    {
     "data": {
      "text/plain": [
       "54"
      ]
     },
     "execution_count": 111,
     "metadata": {},
     "output_type": "execute_result"
    }
   ],
   "source": [
    "len(m_)"
   ]
  },
  {
   "cell_type": "code",
   "execution_count": 112,
   "metadata": {
    "collapsed": false
   },
   "outputs": [],
   "source": [
    "m_=sorted(m_, key=operator.attrgetter('num_ratings'), reverse=True)\n",
    "#m_=sorted(m_, key=operator.attrgetter('year'), reverse=True)\n",
    "#m_=sorted(m_, key=operator.attrgetter('mean_rating'), reverse=True)"
   ]
  },
  {
   "cell_type": "code",
   "execution_count": 113,
   "metadata": {
    "collapsed": false
   },
   "outputs": [
    {
     "data": {
      "text/plain": [
       "[The Shawshank Redemption\t1994\t0000000125\t1812040\t9.3,\n",
       " The Godfather\t1972\t0000000125\t1237499\t9.2,\n",
       " \"Game of Thrones\"\t2011\t0000000016\t1154888\t9.5,\n",
       " \"Breaking Bad\"\t2008\t0000000016\t982500\t9.5,\n",
       " \"Sherlock\"\t2010\t0000000025\t577762\t9.2,\n",
       " \"True Detective\"\t2014\t0000000134\t358781\t9.1,\n",
       " \"Band of Brothers\"\t2001\t0000000016\t258283\t9.5,\n",
       " \"The Sopranos\"\t1999\t0000000125\t208571\t9.2,\n",
       " \"The Wire\"\t2002\t0000000016\t207354\t9.3,\n",
       " \"Firefly\"\t2002\t0000000125\t200906\t9.1,\n",
       " \"Avatar: The Last Airbender\"\t2005\t0000000025\t148275\t9.2,\n",
       " \"Rick and Morty\"\t2013\t0000000026\t122929\t9.3,\n",
       " \"Planet Earth\"\t2006\t0000000016\t118241\t9.5,\n",
       " Dag II\t2016\t0000000009\t88187\t9.8,\n",
       " \"Leyla ile Mecnun\"\t2011\t0000000008\t75114\t9.2,\n",
       " \"Cosmos: A Spacetime Odyssey\"\t2014\t0000000026\t71628\t9.3,\n",
       " \"Hagane no renkinjutsushi\"\t2009\t0000000125\t60599\t9.1,\n",
       " \"Last Week Tonight with John Oliver\"\t2014\t0000000124\t48189\t9.1,\n",
       " \"One Punch Man: Wanpanman\"\t2015\t0000000125\t45398\t9.1,\n",
       " CM101MMXI Fundamentals\t2013\t0000000017\t37222\t9.3]"
      ]
     },
     "execution_count": 113,
     "metadata": {},
     "output_type": "execute_result"
    }
   ],
   "source": [
    "m_[:20]"
   ]
  },
  {
   "cell_type": "code",
   "execution_count": 114,
   "metadata": {
    "collapsed": false
   },
   "outputs": [
    {
     "data": {
      "text/plain": [
       "The Shawshank Redemption\t1994\t0000000125\t1812040\t9.3"
      ]
     },
     "execution_count": 114,
     "metadata": {},
     "output_type": "execute_result"
    }
   ],
   "source": [
    "m_[0]"
   ]
  },
  {
   "cell_type": "code",
   "execution_count": 115,
   "metadata": {
    "collapsed": false
   },
   "outputs": [
    {
     "data": {
      "text/plain": [
       "['Drama']"
      ]
     },
     "execution_count": 115,
     "metadata": {},
     "output_type": "execute_result"
    }
   ],
   "source": [
    "m_[0].genre"
   ]
  },
  {
   "cell_type": "code",
   "execution_count": 116,
   "metadata": {
    "collapsed": false
   },
   "outputs": [
    {
     "data": {
      "text/plain": [
       "[1994, 'Drama']"
      ]
     },
     "execution_count": 116,
     "metadata": {},
     "output_type": "execute_result"
    }
   ],
   "source": [
    "genres[m_[0].title]"
   ]
  },
  {
   "cell_type": "code",
   "execution_count": 118,
   "metadata": {
    "collapsed": false
   },
   "outputs": [
    {
     "name": "stdout",
     "output_type": "stream",
     "text": [
      "['Drama']\n"
     ]
    },
    {
     "ename": "AttributeError",
     "evalue": "'Movie' object has no attribute 'genre'",
     "output_type": "error",
     "traceback": [
      "\u001b[1;31m---------------------------------------------------------------------------\u001b[0m",
      "\u001b[1;31mAttributeError\u001b[0m                            Traceback (most recent call last)",
      "\u001b[1;32m<ipython-input-118-205900ea7182>\u001b[0m in \u001b[0;36m<module>\u001b[1;34m()\u001b[0m\n\u001b[0;32m      1\u001b[0m \u001b[1;32mfor\u001b[0m \u001b[0mm\u001b[0m \u001b[1;32min\u001b[0m \u001b[0mm_\u001b[0m\u001b[1;33m:\u001b[0m\u001b[1;33m\u001b[0m\u001b[0m\n\u001b[1;32m----> 2\u001b[1;33m    \u001b[0mprint\u001b[0m\u001b[1;33m(\u001b[0m\u001b[0mm\u001b[0m\u001b[1;33m.\u001b[0m\u001b[0mgenre\u001b[0m\u001b[1;33m)\u001b[0m\u001b[1;33m\u001b[0m\u001b[0m\n\u001b[0m",
      "\u001b[1;31mAttributeError\u001b[0m: 'Movie' object has no attribute 'genre'"
     ]
    }
   ],
   "source": [
    "for m in m_:\n",
    "   print(m.genre)"
   ]
  },
  {
   "cell_type": "code",
   "execution_count": 119,
   "metadata": {
    "collapsed": false
   },
   "outputs": [
    {
     "data": {
      "text/plain": [
       "The Godfather\t1972\t0000000125\t1237499\t9.2"
      ]
     },
     "execution_count": 119,
     "metadata": {},
     "output_type": "execute_result"
    }
   ],
   "source": [
    "m_[1]"
   ]
  },
  {
   "cell_type": "code",
   "execution_count": 120,
   "metadata": {
    "collapsed": false
   },
   "outputs": [
    {
     "data": {
      "text/plain": [
       "[1911, 'Drama', 'Short', 'Drama', 'Crime', 'Crime', 'Thriller', 'Short']"
      ]
     },
     "execution_count": 120,
     "metadata": {},
     "output_type": "execute_result"
    }
   ],
   "source": [
    "genres[m_[1].title]"
   ]
  },
  {
   "cell_type": "code",
   "execution_count": null,
   "metadata": {
    "collapsed": true
   },
   "outputs": [],
   "source": []
  }
 ],
 "metadata": {
  "kernelspec": {
   "display_name": "Python 3",
   "language": "python",
   "name": "python3"
  },
  "language_info": {
   "codemirror_mode": {
    "name": "ipython",
    "version": 3
   },
   "file_extension": ".py",
   "mimetype": "text/x-python",
   "name": "python",
   "nbconvert_exporter": "python",
   "pygments_lexer": "ipython3",
   "version": "3.5.1"
  }
 },
 "nbformat": 4,
 "nbformat_minor": 0
}

{
 "cells": [
  {
   "cell_type": "code",
   "execution_count": 1,
   "metadata": {
    "collapsed": true
   },
   "outputs": [],
   "source": [
    "import operator\n",
    "import re\n",
    "import sys"
   ]
  },
  {
   "cell_type": "code",
   "execution_count": 2,
   "metadata": {
    "collapsed": false
   },
   "outputs": [],
   "source": [
    "from movie import Movie"
   ]
  },
  {
   "cell_type": "code",
   "execution_count": 3,
   "metadata": {
    "collapsed": true
   },
   "outputs": [],
   "source": [
    "episode_re = re.compile(\"\\(\\d\\d\\d\\d\\)\\s\\{\") # FIX: this does not match if the year has nondigit characters\n",
    "year_re = re.compile(\"\\(\\d\\d\\d\\d\")"
   ]
  },
  {
   "cell_type": "code",
   "execution_count": 4,
   "metadata": {
    "collapsed": true
   },
   "outputs": [],
   "source": [
    "movies = []"
   ]
  },
  {
   "cell_type": "code",
   "execution_count": 5,
   "metadata": {
    "collapsed": false
   },
   "outputs": [
    {
     "name": "stdout",
     "output_type": "stream",
     "text": [
      "PARSING THE RATINGS FILE\n"
     ]
    }
   ],
   "source": [
    "print(\"PARSING THE RATINGS FILE\")\n",
    "#RATINGS FILE\n",
    "file_path = \"../../imdb/ratings.list\"\n",
    "with open(file_path, 'r') as f:\n",
    "    l = None\n",
    "    while(l != \"MOVIE RATINGS REPORT\"):\n",
    "        l = f.readline().strip()\n",
    "    #print(l)\n",
    "    # empty line\n",
    "    f.readline()\n",
    "    # header\n",
    "    f.readline()\n",
    "    # Movies\n",
    "\n",
    "    for m in f:\n",
    "    #for i in range(1):\n",
    "    #    m = f.readline()\n",
    "        if m == \"\\n\":\n",
    "            break\n",
    "        if m.find(\"(VG)\") != -1: #skip video games\n",
    "            continue\n",
    "        if m.find(\"(V)\") != -1:\n",
    "            continue\n",
    "        m=m.strip()\n",
    "        try:\n",
    "            m_list=m.split()\n",
    "            rating_distribution = m_list[0]\n",
    "            num_ratings = int(m_list[1])\n",
    "            mean_rating = float(m_list[2])\n",
    "            rest = \" \" . join(m_list[3:])\n",
    "            if episode_re.search(rest) is None: # if not episode                \n",
    "                year_match = year_re.search(rest)\n",
    "                title = rest[:year_match.start()-1]\n",
    "                year = int(year_match.group()[1:])\n",
    "                movies.append(Movie(title, year, rating_distribution, num_ratings, mean_rating))\n",
    "        except:\n",
    "            pass\n",
    "            #e = sys.exc_info()[0]\n",
    "            #print( \"<p>Error: %s</p>\" % e )\n",
    "            #print(\"Failed to parse movie %s \" %m)"
   ]
  },
  {
   "cell_type": "code",
   "execution_count": 6,
   "metadata": {
    "collapsed": false
   },
   "outputs": [
    {
     "data": {
      "text/plain": [
       "402252"
      ]
     },
     "execution_count": 6,
     "metadata": {},
     "output_type": "execute_result"
    }
   ],
   "source": [
    "len(movies)"
   ]
  },
  {
   "cell_type": "code",
   "execution_count": 7,
   "metadata": {
    "collapsed": false
   },
   "outputs": [
    {
     "name": "stdout",
     "output_type": "stream",
     "text": [
      "PARSING THE GENRES FILE\n"
     ]
    }
   ],
   "source": [
    "# GENRES FILE\n",
    "print(\"PARSING THE GENRES FILE\")\n",
    "file_path = \"../../imdb/genres.list\"\n",
    "with open(file_path, 'r') as f:\n",
    "    l = None\n",
    "    while(l != \"8: THE GENRES LIST\"):\n",
    "        l = f.readline().strip()\n",
    "    #print(l)    \n",
    "    # Dashes\n",
    "    f.readline()\n",
    "    # Empty\n",
    "    f.readline()\n",
    "    # Movies\n",
    "    genres = {}\n",
    "    for m in f:\t\t\t\n",
    "    #for i in range(1000):\n",
    "        #m = f.readline()\n",
    "        if m == \"\\n\":\n",
    "            break\n",
    "        if m.find(\"(VG)\") != -1: #skip video games\n",
    "            continue\n",
    "        if m.find(\"(V)\") != -1:\n",
    "            continue\n",
    "        m=m.strip()\n",
    "        try:\n",
    "            m_list=m.split()\n",
    "            #print(m_list)\n",
    "            genre = m_list[-1]\n",
    "            if episode_re.search(m) is None: # if not episode                \n",
    "                year_match = year_re.search(m)\n",
    "                title = m[:year_match.start()-1]\n",
    "                year = year_match.group()[1:]\n",
    "                tandy = title+year\n",
    "                if tandy in genres:\n",
    "                    genres[tandy].append(genre)\n",
    "                else:\n",
    "                    genres[tandy]=[genre]\n",
    "        except:\n",
    "            pass\n",
    "            #e = sys.exc_info()[0]\n",
    "            #print( \"<p>Error: %s</p>\" % e )\n",
    "            #print(\"Failed to parse movie %s \" %m)"
   ]
  },
  {
   "cell_type": "code",
   "execution_count": 8,
   "metadata": {
    "collapsed": false
   },
   "outputs": [
    {
     "name": "stdout",
     "output_type": "stream",
     "text": [
      "PARSING THE KEYWORDS FILE\n"
     ]
    }
   ],
   "source": [
    "# KEYWORDS FILE\n",
    "print(\"PARSING THE KEYWORDS FILE\")\n",
    "file_path = \"../../imdb/keywords.list\"\n",
    "with open(file_path, 'r') as f:\n",
    "    l = None\n",
    "    while(l != \"8: THE KEYWORDS LIST\"):\n",
    "        l = f.readline().strip()\n",
    "    #print(l)\n",
    "    # Dashes\n",
    "    f.readline()\n",
    "    # Empty\n",
    "    f.readline()\n",
    "    # Movies\n",
    "    keywords = {}\n",
    "    for m in f:\n",
    "        #break\n",
    "    #for i in range(1000):\n",
    "        #m = f.readline()\n",
    "        if m == \"\\n\":\n",
    "            break\n",
    "        if m.find(\"(VG)\") != -1: #skip video games\n",
    "            continue\n",
    "        if m.find(\"(V)\") != -1:\n",
    "            continue\n",
    "        m=m.strip()\n",
    "        try:\n",
    "            m_list=m.split()\n",
    "            #print(m_list)\n",
    "            keyword = m_list[-1]\n",
    "            if episode_re.search(m) is None: # if not episode                \n",
    "                year_match = year_re.search(m)\n",
    "                title = m[:year_match.start()-1]\n",
    "                year = year_match.group()[1:]\n",
    "                tandy = title+year\n",
    "                if tandy in keywords:\n",
    "                    keywords[tandy].append(keyword)\n",
    "                else:\n",
    "                    keywords[tandy]=[keyword]\n",
    "        except:\n",
    "            pass\n",
    "            #e = sys.exc_info()[0]\n",
    "            #print( \"<p>Error: %s</p>\" % e )\n",
    "            #print(\"Failed to parse movie %s \" %m)"
   ]
  },
  {
   "cell_type": "code",
   "execution_count": 9,
   "metadata": {
    "collapsed": false
   },
   "outputs": [
    {
     "name": "stdout",
     "output_type": "stream",
     "text": [
      "PARSING THE MPAA RATINGS FILE\n"
     ]
    }
   ],
   "source": [
    "# MPAA Ratings\n",
    "print(\"PARSING THE MPAA RATINGS REASONS FILE\")\n",
    "file_path = \"../../imdb/mpaa-ratings-reasons.list\"\n",
    "with open(file_path, 'r') as f:\n",
    "    l = None\n",
    "    while(l != \"MPAA RATINGS REASONS LIST\"):\n",
    "        l = f.readline().strip()\n",
    "    #print(l)\n",
    "    # Double Dashes\n",
    "    f.readline()\n",
    "    # Single dashes\n",
    "    f.readline()\n",
    "    # Movies\n",
    "    mpaa = {}\n",
    "    for m in f:\n",
    "        #break\n",
    "    #for i in range(1000):\n",
    "        #m = f.readline()\n",
    "#        if m == \"\\n\":\n",
    "#            break\n",
    "        if m.find(\"(VG)\") != -1: #skip video games\n",
    "            m = f.readline()\n",
    "            while m[:3] == \"RE:\":\n",
    "                m = f.readline()\n",
    "            f.readline()\n",
    "            continue\n",
    "        if m.find(\"(V)\") != -1:\n",
    "            m = f.readline()\n",
    "            while m[:3] == \"RE:\":\n",
    "                m = f.readline()\n",
    "            f.readline()\n",
    "            continue\n",
    "        m=m.strip()\n",
    "        try:            \n",
    "            if episode_re.search(m) is None:\n",
    "                year_match = year_re.search(m)\n",
    "                title = m[4:year_match.start()-1]\n",
    "                year = year_match.group()[1:]\n",
    "                tandy = title+year\n",
    "                mpaar = \"\"\n",
    "                m = f.readline()\n",
    "                while m[:3] == \"RE:\":\n",
    "                    mpaar += \" \" + m[3:].strip()\n",
    "                    m = f.readline()\n",
    "                mpaa[tandy] = mpaar\n",
    "                f.readline()\n",
    "        except:\n",
    "            m = f.readline()\n",
    "            while m[:3] == \"RE:\":\n",
    "                m = f.readline()\n",
    "            f.readline()\n",
    "            #e = sys.exc_info()[0]\n",
    "            #print( \"<p>Error: %s</p>\" % e )\n",
    "            #print(\"Failed to parse movie %s \" %m)"
   ]
  },
  {
   "cell_type": "code",
   "execution_count": 10,
   "metadata": {
    "collapsed": false
   },
   "outputs": [
    {
     "data": {
      "text/plain": [
       "4"
      ]
     },
     "execution_count": 10,
     "metadata": {},
     "output_type": "execute_result"
    }
   ],
   "source": [
    "t=\"hey USA:R\"\n",
    "t.find(\"USA:\")"
   ]
  },
  {
   "cell_type": "code",
   "execution_count": 11,
   "metadata": {
    "collapsed": false
   },
   "outputs": [
    {
     "data": {
      "text/plain": [
       "'R'"
      ]
     },
     "execution_count": 11,
     "metadata": {},
     "output_type": "execute_result"
    }
   ],
   "source": [
    "t[4+4:]"
   ]
  },
  {
   "cell_type": "code",
   "execution_count": 12,
   "metadata": {
    "collapsed": false
   },
   "outputs": [
    {
     "name": "stdout",
     "output_type": "stream",
     "text": [
      "PARSING THE CERTIFICATES FILE\n"
     ]
    }
   ],
   "source": [
    "# Certificates\n",
    "print(\"PARSING THE CERTIFICATES FILE\")\n",
    "file_path = \"../../imdb/certificates.list\"\n",
    "with open(file_path, 'r') as f:\n",
    "    l = None\n",
    "    while(l != \"CERTIFICATES LIST\"):\n",
    "        l = f.readline().strip()\n",
    "    #print(l)\n",
    "    # Dashes\n",
    "    f.readline()\n",
    "    # Movies\n",
    "    certificates = {}\n",
    "    for m in f:\n",
    "        #break\n",
    "    #for i in range(300):\n",
    "    #    m = f.readline()\n",
    "#        if m == \"\\n\":\n",
    "#            break\n",
    "        m=m.strip()\n",
    "    \n",
    "        if m.find(\"(VG)\") != -1: #skip video games\n",
    "            continue\n",
    "        if m.find(\"(V)\") != -1:\n",
    "            continue\n",
    "        if m.find(\"USA:\") == -1:\n",
    "            continue\n",
    "        \n",
    "        try:            \n",
    "            if episode_re.search(m) is None:\n",
    "                year_match = year_re.search(m)\n",
    "                title = m[:year_match.start()-1]\n",
    "                year = year_match.group()[1:]\n",
    "                tandy = title+year\n",
    "                certificate = m[m.find(\"USA:\")+4:].split('\\t')[0]\n",
    "                certificates[tandy] = certificate               \n",
    "        except:\n",
    "            pass\n",
    "            #e = sys.exc_info()[0]\n",
    "            #print( \"<p>Error: %s</p>\" % e )\n",
    "            #print(\"Failed to parse movie %s \" %m)"
   ]
  },
  {
   "cell_type": "code",
   "execution_count": 13,
   "metadata": {
    "collapsed": false
   },
   "outputs": [
    {
     "data": {
      "text/plain": [
       "69202"
      ]
     },
     "execution_count": 13,
     "metadata": {},
     "output_type": "execute_result"
    }
   ],
   "source": [
    "len(certificates)"
   ]
  },
  {
   "cell_type": "code",
   "execution_count": 14,
   "metadata": {
    "collapsed": false
   },
   "outputs": [
    {
     "data": {
      "text/plain": [
       "69202"
      ]
     },
     "execution_count": 14,
     "metadata": {},
     "output_type": "execute_result"
    }
   ],
   "source": [
    "len(certificates)"
   ]
  },
  {
   "cell_type": "code",
   "execution_count": 15,
   "metadata": {
    "collapsed": false
   },
   "outputs": [
    {
     "data": {
      "text/plain": [
       "402252"
      ]
     },
     "execution_count": 15,
     "metadata": {},
     "output_type": "execute_result"
    }
   ],
   "source": [
    "len(movies)"
   ]
  },
  {
   "cell_type": "code",
   "execution_count": 16,
   "metadata": {
    "collapsed": false
   },
   "outputs": [
    {
     "data": {
      "text/plain": [
       "1103438"
      ]
     },
     "execution_count": 16,
     "metadata": {},
     "output_type": "execute_result"
    }
   ],
   "source": [
    "len(genres)"
   ]
  },
  {
   "cell_type": "code",
   "execution_count": 17,
   "metadata": {
    "collapsed": false
   },
   "outputs": [
    {
     "data": {
      "text/plain": [
       "385293"
      ]
     },
     "execution_count": 17,
     "metadata": {},
     "output_type": "execute_result"
    }
   ],
   "source": [
    "len(keywords)"
   ]
  },
  {
   "cell_type": "code",
   "execution_count": 18,
   "metadata": {
    "collapsed": false
   },
   "outputs": [
    {
     "data": {
      "text/plain": [
       "15723"
      ]
     },
     "execution_count": 18,
     "metadata": {},
     "output_type": "execute_result"
    }
   ],
   "source": [
    "len(mpaa)"
   ]
  },
  {
   "cell_type": "code",
   "execution_count": 19,
   "metadata": {
    "collapsed": false
   },
   "outputs": [],
   "source": [
    "for m in movies:\n",
    "    if m.title+str(m.year) in genres:\n",
    "        gs = genres[m.title+str(m.year)]        \n",
    "        m.genres = gs\n",
    "    if m.title+str(m.year) in keywords:\n",
    "        ks = keywords[m.title+str(m.year)]        \n",
    "        m.keywords = ks\n",
    "    if m.title+str(m.year) in mpaa:\n",
    "        m.mpaa_reason = mpaa[m.title+str(m.year)]\n",
    "        mpaa_split = m.mpaa_reason.split()\n",
    "        m.mpaa_rating = mpaa_split[1]\n",
    "    if m.title+str(m.year) in certificates:\n",
    "        m.certificate = certificates[m.title+str(m.year)]"
   ]
  },
  {
   "cell_type": "code",
   "execution_count": 20,
   "metadata": {
    "collapsed": false
   },
   "outputs": [],
   "source": [
    "m_ = movies\n",
    "#m_=list(filter(lambda m: m.year>2000, m_))\n",
    "m_=list(filter(lambda m: m.num_ratings>10000, m_))\n",
    "m_=list(filter(lambda m: m.mean_rating>9, m_))"
   ]
  },
  {
   "cell_type": "code",
   "execution_count": 21,
   "metadata": {
    "collapsed": false
   },
   "outputs": [
    {
     "data": {
      "text/plain": [
       "32"
      ]
     },
     "execution_count": 21,
     "metadata": {},
     "output_type": "execute_result"
    }
   ],
   "source": [
    "len(m_)"
   ]
  },
  {
   "cell_type": "code",
   "execution_count": 22,
   "metadata": {
    "collapsed": false
   },
   "outputs": [],
   "source": [
    "m_=sorted(m_, key=operator.attrgetter('num_ratings'), reverse=True)\n",
    "#m_=sorted(m_, key=operator.attrgetter('year'), reverse=True)\n",
    "#m_=sorted(m_, key=operator.attrgetter('mean_rating'), reverse=True)"
   ]
  },
  {
   "cell_type": "code",
   "execution_count": 23,
   "metadata": {
    "collapsed": false
   },
   "outputs": [
    {
     "data": {
      "text/plain": [
       "[The Shawshank Redemption\t(1994)\t(R),\n",
       " The Godfather\t(1972)\t(R),\n",
       " \"Game of Thrones\"\t(2011)\t(TV-MA),\n",
       " \"Breaking Bad\"\t(2008)\t(TV-MA),\n",
       " \"Sherlock\"\t(2010)\t(TV-14),\n",
       " \"True Detective\"\t(2014)\t(TV-MA),\n",
       " \"Band of Brothers\"\t(2001)\t(TV-MA),\n",
       " \"The Sopranos\"\t(1999)\t(TV-MA),\n",
       " \"The Wire\"\t(2002)\t(TV-MA),\n",
       " \"Firefly\"\t(2002)\t(TV-14),\n",
       " \"Avatar: The Last Airbender\"\t(2005)\t(TV-Y7),\n",
       " \"Rick and Morty\"\t(2013)\t(TV-MA),\n",
       " \"Planet Earth\"\t(2006)\t(TV-G),\n",
       " Dag II\t(2016)\t(Unk),\n",
       " \"Leyla ile Mecnun\"\t(2011)\t(TV-PG),\n",
       " \"Cosmos: A Spacetime Odyssey\"\t(2014)\t(TV-PG),\n",
       " \"Hagane no renkinjutsushi\"\t(2009)\t(TV-14),\n",
       " \"Last Week Tonight with John Oliver\"\t(2014)\t(TV-MA),\n",
       " \"One Punch Man: Wanpanman\"\t(2015)\t(TV-14),\n",
       " CM101MMXI Fundamentals\t(2013)\t(Unk)]"
      ]
     },
     "execution_count": 23,
     "metadata": {},
     "output_type": "execute_result"
    }
   ],
   "source": [
    "m_[:20]"
   ]
  }
 ],
 "metadata": {
  "kernelspec": {
   "display_name": "Python 3",
   "language": "python",
   "name": "python3"
  },
  "language_info": {
   "codemirror_mode": {
    "name": "ipython",
    "version": 3
   },
   "file_extension": ".py",
   "mimetype": "text/x-python",
   "name": "python",
   "nbconvert_exporter": "python",
   "pygments_lexer": "ipython3",
   "version": "3.5.1"
  }
 },
 "nbformat": 4,
 "nbformat_minor": 0
}
